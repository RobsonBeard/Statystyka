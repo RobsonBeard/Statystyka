{
 "cells": [
  {
   "cell_type": "markdown",
   "id": "95109253",
   "metadata": {
    "deletable": false,
    "editable": false,
    "nbgrader": {
     "cell_type": "markdown",
     "checksum": "fa74cc5b13ba0c07f2f9277490d0fd6f",
     "grade": false,
     "grade_id": "cell-fcd2666579131b77",
     "locked": true,
     "schema_version": 3,
     "solution": false,
     "task": false
    },
    "tags": []
   },
   "source": [
    "# Statystyka matematyczna - ćwiczenia laboratoryjne 2023/2024\n",
    "\n",
    "Ten notatnik zalicza się do grupy zestawów zadań, na podstawie których odbywa się zaliczenie ćwiczeń i podlega zwrotowi do oceny w ustalonym na zajęciach terminie.\n",
    "\n",
    "Uwagi i wytyczne ogólne dotyczące uzupełniania notatnika:\n",
    "- Podczas wykonywania zadań należy korzystać wyłącznie z pakietów zaimportowanych na początku notatnika oraz z pakietów wchodzących w skład standardowej biblioteki Pythona, które można zaimportować samodzielnie we wskazanej komórce notatnika.\n",
    "- Swoje rozwiązania należy wprowadzać wyłącznie w miejce następujących fragmentów kodu:<br/> `# YOUR CODE HERE`<br/> `raise NotImplementedError()`<br/> \n",
    "a odpowiedzi tekstowe w komórkach oznaczonych hasłem:<br/> \n",
    "`YOUR ANSWER HERE`<br/> \n",
    "Nie należy w żaden sposób modyfikować pozostałych fragmentów kodu oraz innych elementów notatnika, w szczególności dodawać lub usuwać komórek oraz zmieniać nazwy pliku.\n",
    "- Otrzymywane wyniki i odpowiedzi mają być rezultatem wykonania napisanego kodu.\n",
    "- Zadanie należy wykonać w taki sposób, aby podczas wykonywania kodu nie zostały wyświetlone żadne ostrzeżenia.\n",
    "- Zawarte w notatniku automatyczne testy mają charakter poglądowy. Dotyczą one wybranych aspektów zadań i mają za zadanie wyłapać podstawowe błędy. Przejście wszystkich testów nie oznacza, że zadanie jest wykonane w całości poprawnie.\n",
    "\n",
    "Uwagi i wytyczne ogólne dotyczące wizualizacji wyników:\n",
    "- Wszystkie wykresy powinny być wykonane w jednolitym, przejrzystym i czytelnym stylu, posiadać odpowiednio dobrane proporcje i zakresy wartości osi.\n",
    "- Wykresy oraz ich osie powinny mieć nadane tytuły. Jeżeli w obrębie figury znajduje się więcej niż jeden wykres to figura również powinna mieć nadany tytuł. \n",
    "- Figury powinny mieć ustawione białe tło, tak, aby niezależnie od ustawień notatnika wszystkie elementy wykresów były dobrze widoczne (domyślnie tło jest przeźroczyste co może powodować problemy w notatnikach z ustawionym ciemnym tłem).\n",
    "- Rozmiar poziomy figur nie powinien przekraczać 20 cali.\n",
    "\n",
    "Przed odesłaniem zestawu zadań do oceny proszę uzupełnić komórkę z danymi autora rozwiązania (imię, nazwisko i numer indeksu) oraz upewnić się, że notatnik działa zgodnie z oczekiwaniami. W tym celu należy skorzystać z opcji **Restart Kernel and Run All Cells...** dostępnej na górnej belce notatnika pod symbolem $\\blacktriangleright\\blacktriangleright$."
   ]
  },
  {
   "cell_type": "markdown",
   "id": "8eeb0db8",
   "metadata": {},
   "source": [
    "Imię i nazwisko:\n",
    "Numer indeksu:"
   ]
  },
  {
   "cell_type": "markdown",
   "id": "214ceebc",
   "metadata": {
    "deletable": false,
    "editable": false,
    "nbgrader": {
     "cell_type": "markdown",
     "checksum": "eddc8826810e4a6f7bf68319da334bd9",
     "grade": false,
     "grade_id": "cell-109006d425e5cf83",
     "locked": true,
     "schema_version": 3,
     "solution": false,
     "task": false
    },
    "tags": []
   },
   "source": [
    "---"
   ]
  },
  {
   "cell_type": "markdown",
   "id": "0f6ce37e-54ef-468a-9ad8-0506d41ebbf3",
   "metadata": {
    "deletable": false,
    "editable": false,
    "nbgrader": {
     "cell_type": "markdown",
     "checksum": "27f217b472bf16b1528c9c239cbc6c3f",
     "grade": false,
     "grade_id": "cell-13e9eed5ad8c3d36",
     "locked": true,
     "schema_version": 3,
     "solution": false,
     "task": false
    },
    "tags": []
   },
   "source": [
    "# Kolowkium zaliczeniowe: 1 termin, grupa 4"
   ]
  },
  {
   "cell_type": "code",
   "execution_count": 4,
   "id": "0f4cfc8d-b165-4fb3-8411-cc1bedc50b4a",
   "metadata": {
    "deletable": false,
    "editable": false,
    "nbgrader": {
     "cell_type": "code",
     "checksum": "616689a0960f55908943694ba894fe41",
     "grade": false,
     "grade_id": "cell-dd16a23dce6aaa4b",
     "locked": true,
     "schema_version": 3,
     "solution": false,
     "task": false
    },
    "tags": []
   },
   "outputs": [],
   "source": [
    "import numpy as np\n",
    "import pandas as pd\n",
    "import scipy as sp\n",
    "import matplotlib as mpl\n",
    "import matplotlib.pyplot as plt\n",
    "import seaborn as sns"
   ]
  },
  {
   "cell_type": "code",
   "execution_count": null,
   "id": "17268a1b-ea72-40b1-abb7-a3f6d6fc2d83",
   "metadata": {},
   "outputs": [],
   "source": [
    "# Miejsce do importu pakietów wchodzących w skład standardowej biblioteki Pythona oraz ustawienie opcji wykorzystywanych pakietów"
   ]
  },
  {
   "cell_type": "markdown",
   "id": "4b5c05f1-bdb1-4465-af3e-141900df4b1a",
   "metadata": {
    "deletable": false,
    "editable": false,
    "nbgrader": {
     "cell_type": "markdown",
     "checksum": "6cba2f0b0fe42e83d1c52878c82f2ee3",
     "grade": false,
     "grade_id": "cell-5f6f768907bd4196",
     "locked": true,
     "schema_version": 3,
     "solution": false,
     "task": false
    },
    "tags": []
   },
   "source": [
    "## Dane do automatycznych testów"
   ]
  },
  {
   "cell_type": "code",
   "execution_count": 5,
   "id": "8edaf2cb-352b-4edb-84f2-9b99232810fc",
   "metadata": {
    "deletable": false,
    "editable": false,
    "nbgrader": {
     "cell_type": "code",
     "checksum": "97c8a742496c4e458445615443da4304",
     "grade": false,
     "grade_id": "cell-7c25b75ddb75a3d2",
     "locked": true,
     "schema_version": 3,
     "solution": false,
     "task": false
    },
    "tags": []
   },
   "outputs": [
    {
     "data": {
      "text/html": [
       "<div>\n",
       "<style scoped>\n",
       "    .dataframe tbody tr th:only-of-type {\n",
       "        vertical-align: middle;\n",
       "    }\n",
       "\n",
       "    .dataframe tbody tr th {\n",
       "        vertical-align: top;\n",
       "    }\n",
       "\n",
       "    .dataframe thead th {\n",
       "        text-align: right;\n",
       "    }\n",
       "</style>\n",
       "<table border=\"1\" class=\"dataframe\">\n",
       "  <thead>\n",
       "    <tr style=\"text-align: right;\">\n",
       "      <th></th>\n",
       "      <th>X</th>\n",
       "      <th>Y</th>\n",
       "    </tr>\n",
       "  </thead>\n",
       "  <tbody>\n",
       "    <tr>\n",
       "      <th>0</th>\n",
       "      <td>-1.614383</td>\n",
       "      <td>-9.653548</td>\n",
       "    </tr>\n",
       "    <tr>\n",
       "      <th>1</th>\n",
       "      <td>5.801005</td>\n",
       "      <td>8.109542</td>\n",
       "    </tr>\n",
       "    <tr>\n",
       "      <th>2</th>\n",
       "      <td>-1.072962</td>\n",
       "      <td>-7.234931</td>\n",
       "    </tr>\n",
       "    <tr>\n",
       "      <th>3</th>\n",
       "      <td>4.328927</td>\n",
       "      <td>4.561478</td>\n",
       "    </tr>\n",
       "    <tr>\n",
       "      <th>4</th>\n",
       "      <td>-1.861092</td>\n",
       "      <td>-6.031980</td>\n",
       "    </tr>\n",
       "  </tbody>\n",
       "</table>\n",
       "</div>"
      ],
      "text/plain": [
       "          X         Y\n",
       "0 -1.614383 -9.653548\n",
       "1  5.801005  8.109542\n",
       "2 -1.072962 -7.234931\n",
       "3  4.328927  4.561478\n",
       "4 -1.861092 -6.031980"
      ]
     },
     "execution_count": 5,
     "metadata": {},
     "output_type": "execute_result"
    }
   ],
   "source": [
    "x = sp.stats.uniform.rvs(loc=-2, scale=10, size=25, random_state=34)\n",
    "y = 2*x - 5 + sp.stats.norm.rvs(loc=0, scale=2, size=25, random_state=13)\n",
    "test_data_1 = pd.DataFrame(data=np.array([x, y]).T, columns=[\"X\", \"Y\"])\n",
    "test_data_1.head()"
   ]
  },
  {
   "cell_type": "code",
   "execution_count": 6,
   "id": "0e246dd6-845d-4120-8d5a-5b7a14c50f95",
   "metadata": {
    "deletable": false,
    "editable": false,
    "nbgrader": {
     "cell_type": "code",
     "checksum": "3e37330ab2084cf19310075344ea9398",
     "grade": false,
     "grade_id": "cell-5b3139e43775c32f",
     "locked": true,
     "schema_version": 3,
     "solution": false,
     "task": false
    },
    "tags": []
   },
   "outputs": [
    {
     "data": {
      "text/html": [
       "<div>\n",
       "<style scoped>\n",
       "    .dataframe tbody tr th:only-of-type {\n",
       "        vertical-align: middle;\n",
       "    }\n",
       "\n",
       "    .dataframe tbody tr th {\n",
       "        vertical-align: top;\n",
       "    }\n",
       "\n",
       "    .dataframe thead th {\n",
       "        text-align: right;\n",
       "    }\n",
       "</style>\n",
       "<table border=\"1\" class=\"dataframe\">\n",
       "  <thead>\n",
       "    <tr style=\"text-align: right;\">\n",
       "      <th></th>\n",
       "      <th>X</th>\n",
       "    </tr>\n",
       "  </thead>\n",
       "  <tbody>\n",
       "    <tr>\n",
       "      <th>0</th>\n",
       "      <td>5.338105</td>\n",
       "    </tr>\n",
       "    <tr>\n",
       "      <th>1</th>\n",
       "      <td>4.906813</td>\n",
       "    </tr>\n",
       "    <tr>\n",
       "      <th>2</th>\n",
       "      <td>5.006564</td>\n",
       "    </tr>\n",
       "    <tr>\n",
       "      <th>3</th>\n",
       "      <td>5.081503</td>\n",
       "    </tr>\n",
       "    <tr>\n",
       "      <th>4</th>\n",
       "      <td>4.842215</td>\n",
       "    </tr>\n",
       "  </tbody>\n",
       "</table>\n",
       "</div>"
      ],
      "text/plain": [
       "          X\n",
       "0  5.338105\n",
       "1  4.906813\n",
       "2  5.006564\n",
       "3  5.081503\n",
       "4  4.842215"
      ]
     },
     "execution_count": 6,
     "metadata": {},
     "output_type": "execute_result"
    }
   ],
   "source": [
    "test_data_2 = pd.DataFrame(data=sp.stats.norm.rvs(loc=5, scale=0.2, size=15, random_state=7), columns=[\"X\"])\n",
    "test_data_2.head()"
   ]
  },
  {
   "cell_type": "markdown",
   "id": "fc6595a2-d18f-486a-81e8-71840b0665a3",
   "metadata": {
    "deletable": false,
    "editable": false,
    "nbgrader": {
     "cell_type": "markdown",
     "checksum": "3f4875b69da966e8ed808d2add38624c",
     "grade": false,
     "grade_id": "cell-884c1d189e37b467",
     "locked": true,
     "schema_version": 3,
     "solution": false,
     "task": false
    },
    "tags": []
   },
   "source": [
    "## Zadanie 1 [4 pkt]\n",
    "\n",
    "Na pewnym skrzyżowaniu dochodzi średnio do 2 stłuczek dziennie.\n",
    "\n",
    "Jakie jest prawdopodobieństwo, że w ciągu najbliższego tygodnia (7 dni) będzie miało miejsce co najmniej 15 stłuczek?\n",
    "\n",
    "Wynik zapisz do zmiennej `p`."
   ]
  },
  {
   "cell_type": "code",
   "execution_count": null,
   "id": "1199aed7-ae66-4095-9068-13199ace4cb8",
   "metadata": {
    "deletable": false,
    "nbgrader": {
     "cell_type": "code",
     "checksum": "e6af11d29e75a43228849bc7e6c4040a",
     "grade": false,
     "grade_id": "cell-328b607aafafa4ce",
     "locked": false,
     "schema_version": 3,
     "solution": true,
     "task": false
    },
    "tags": []
   },
   "outputs": [],
   "source": [
    "# YOUR CODE HERE\n",
    "raise NotImplementedError()"
   ]
  },
  {
   "cell_type": "code",
   "execution_count": null,
   "id": "7b9b7282-5658-45b2-829f-f51fae893755",
   "metadata": {
    "deletable": false,
    "editable": false,
    "nbgrader": {
     "cell_type": "code",
     "checksum": "9995b074837229bb35050fca3565bc06",
     "grade": true,
     "grade_id": "cell-e646a3ab55f95f64",
     "locked": true,
     "points": 4,
     "schema_version": 3,
     "solution": false,
     "task": false
    },
    "tags": []
   },
   "outputs": [],
   "source": [
    "# Komórka testowa\n",
    "assert isinstance(p, float)\n"
   ]
  },
  {
   "cell_type": "markdown",
   "id": "d7f6d1be-c897-4b77-9be2-62d4f356f9da",
   "metadata": {
    "deletable": false,
    "editable": false,
    "nbgrader": {
     "cell_type": "markdown",
     "checksum": "abcdc72fb1ad4c126dbf8a5fbfd51afd",
     "grade": false,
     "grade_id": "cell-cf4de8070334ee9b",
     "locked": true,
     "schema_version": 3,
     "solution": false,
     "task": false
    },
    "tags": []
   },
   "source": [
    "## Zadanie 2 [6 pkt]\n",
    "\n",
    "Przygotuj funkcję `bootstrap_correlation_estimation()`, która korzystając z metody bootstrap będzie dokonywała estymacji przedziałowej wartości współczynnika korelacji liniowej Pearsona dla danych wejściowych w postaci szeregu szczegółowego zgodnie z informacjami zawartymi w docstring funkcji oraz ze schematem z załączonego do notatnika zestawu wzorów.\n",
    "\n",
    "Uwagi do wykonania zadania:\n",
    " - Wykonaj losowanie prób wg następującego schematu - kolejne próby są losowane w pęli for, a funkcja losująca próbę w kolejnych losowaniach ma ustawioną wartość parametru odpowiadającego za ziarno generatora liczb losowych na wartość `random_state`, `random_state+1`, `random_state+2` itd. \n",
    " - Celem zadania jest napisanie funkcji od podstaw, w rozwiązaniu nie należy korzystać z gotowych funkcji służących do estymacji bootstrapowej."
   ]
  },
  {
   "cell_type": "code",
   "execution_count": 2,
   "id": "6469ea3f-f0dd-4dac-bec4-ff9018780969",
   "metadata": {
    "deletable": false,
    "nbgrader": {
     "cell_type": "code",
     "checksum": "f42e260d0cd274300e11cbd73e597445",
     "grade": false,
     "grade_id": "cell-00b25bd896944c4d",
     "locked": false,
     "schema_version": 3,
     "solution": true,
     "task": false
    },
    "tags": []
   },
   "outputs": [],
   "source": [
    "def bootstrap_correlation_estimation(data, number_of_samples, alpha, random_state):\n",
    "    \"\"\"\n",
    "    Parameters\n",
    "    -------\n",
    "    data: DataFrame\n",
    "        Tablica zawierająca domyślny indeks i dwie kolumny \"X\" i \"Y\" z wynikami próby losowej.\n",
    "    number_of_samples: int\n",
    "        Liczba prób bootstrapowych.\n",
    "    alpha: float\n",
    "        Wartość określająca poziom istotności.\n",
    "    random_state: int\n",
    "        Ziarno generatora liczb pseudolosowych.\n",
    "    \n",
    "    Returns\n",
    "    -------\n",
    "    r_corr_low: float\n",
    "        Dolna granica wyliczonego przedziału ufności.\n",
    "    r_corr_high: float\n",
    "        Górna granica wyliczonego przedziału ufności.\n",
    "    \"\"\"\n",
    "    wyniki_bootstrap = []\n",
    "\n",
    "    for i in range(number_of_samples):\n",
    "        probka_bootstrap = data.sample(n=len(data), replace=True, random_state=random_state + i)\n",
    "        korelacja_pearsona = probka_bootstrap['X'].corr(probka_bootstrap['Y'])\n",
    "        wyniki_bootstrap.append(korelacja_pearsona)\n",
    "    \n",
    "    dolna_granica = alpha / 2 * 100\n",
    "    gorna_granica = (1 - alpha / 2) * 100\n",
    "    r_corr_low = np.percentile(wyniki_bootstrap, dolna_granica)\n",
    "    r_corr_high = np.percentile(wyniki_bootstrap, gorna_granica)\n",
    "\n",
    "    poziom_ufnosci = 1 - alpha\n",
    "    print(f'r należy do przedziału [{r_corr_low:.4f}, {r_corr_high:.4f}] przy założeniu poziomu ufności 1-α = {poziom_ufnosci:.2f}')\n",
    "    \n",
    "    return r_corr_low, r_corr_high"
   ]
  },
  {
   "cell_type": "code",
   "execution_count": 7,
   "id": "74dc6887-190d-449f-9be8-0f7381d5307a",
   "metadata": {
    "deletable": false,
    "editable": false,
    "nbgrader": {
     "cell_type": "code",
     "checksum": "dee3059998b69614ffa86badb982e5f0",
     "grade": true,
     "grade_id": "cell-60ea6c2bcb228b58",
     "locked": true,
     "points": 6,
     "schema_version": 3,
     "solution": false,
     "task": false
    },
    "tags": []
   },
   "outputs": [
    {
     "name": "stdout",
     "output_type": "stream",
     "text": [
      "r należy do przedziału [0.9291, 0.9818] przy założeniu poziomu ufności 1-α = 0.95\n"
     ]
    }
   ],
   "source": [
    "# Komórka testowa\n",
    "result = bootstrap_correlation_estimation(test_data_1, 1200, 0.05, 14)\n",
    "assert type(result)==tuple or type(result)==list\n",
    "assert len(result)==2\n",
    "assert isinstance(result[0], float)\n",
    "assert isinstance(result[1], float)\n"
   ]
  },
  {
   "cell_type": "markdown",
   "id": "77964cda-1984-441e-abd2-9d5f6fb267c9",
   "metadata": {
    "deletable": false,
    "editable": false,
    "nbgrader": {
     "cell_type": "markdown",
     "checksum": "152dbbae3e61863345e562e24779ef73",
     "grade": false,
     "grade_id": "cell-c8e867a6c3891000",
     "locked": true,
     "schema_version": 3,
     "solution": false,
     "task": false
    },
    "tags": []
   },
   "source": [
    "## Zadanie 3 [6 pkt]\n",
    "\n",
    "Przygotuj funkcję `mean_NHST()`, która będzie weryfikować hipotezę o wartości przeciętnej dla danych wejściowych w postaci szeregu szczegółowego zgodnie z informacjami zawartymi w docstring funkcji oraz ze schematem z załączonego do notatnika zestawu wzorów.\n",
    "\n",
    "Uwaga! Zadanie dotyczy tradycyjnej weryfikacji, nie metody bootstrap."
   ]
  },
  {
   "cell_type": "code",
   "execution_count": null,
   "id": "97e358ac-380e-4057-b4ee-fd8a54e29cb4",
   "metadata": {
    "deletable": false,
    "nbgrader": {
     "cell_type": "code",
     "checksum": "e31d1a1260852d430332a97ccd8654df",
     "grade": false,
     "grade_id": "cell-146cf426bb90e71e",
     "locked": false,
     "schema_version": 3,
     "solution": true,
     "task": false
    },
    "tags": []
   },
   "outputs": [],
   "source": [
    "def mean_NHST(data, H0, H1, alpha):\n",
    "    \"\"\"\n",
    "    Parameters\n",
    "    -------\n",
    "    data: DataFrame\n",
    "        Tablica zawierająca domyślny indeks i kolumnę \"X\" wynikami próby losowej.\n",
    "    H0: float\n",
    "        Wartość przeciętna przyjęta jako hipoteza zerowa.\n",
    "    H1: str\n",
    "        Postać hipotezy alternatywnej, przyjmuje wartości:\n",
    "        - two-sided: wartość przeciętna jest różna od wartości przyjętej w H0,\n",
    "        - less: wartość przeciętna jest mniejsza od wartości przyjętej w H0,\n",
    "        - greater: wartość przeciętna jest większa od wartości przyjętej w H0.\n",
    "    alpha: float\n",
    "        Wartość określająca poziom istotności.\n",
    "    \n",
    "    Returns\n",
    "    -------\n",
    "    t: float\n",
    "        Wyliczona na podstawie próby losowej wartość statystyki t.\n",
    "    t_alpha: float\n",
    "        Wartość statystyki t_alpha.\n",
    "    H: int\n",
    "        Wynik testu statystycznego, przyjmuje wartość:\n",
    "        0 - gdy wynik testu istotności nie daje podstaw do odrzucenia H0 na rzecz H1 na poziomie istotności 1-alpha,\n",
    "        1 - gdy następuje odrzucenie H0 na rzecz H1 na poziomie istotności 1-alpha.\n",
    "    \"\"\"\n",
    "    x_bar = data[\"X\"].mean() # średnia z danych\n",
    "    s = data[\"X\"].std(ddof=1) #standardowe odchylenie nie działa bez ddof(nieobciążony estymator)\n",
    "    n = len(data)            #ilość \n",
    "\n",
    "    #końcowy wzór etap 2: karta wzorów \n",
    "    t = (x_bar - H0) * np.sqrt(n)/ s\n",
    "\n",
    "    # Etap 4: Ustalenie poziomu istotności α\n",
    "   #nasza alpha\n",
    "\n",
    "    # Etap 5: Wyznaczenie obszaru krytycznego testu istotności\n",
    "    if H1 == \"two-sided\":\n",
    "        t_alpha = stats.t.ppf(1 - alpha / 2,  df=(n - 1))\n",
    "\n",
    "      #obszar krytyczny dla funkcji wizualizacyjnej\n",
    "\n",
    "    #  rejection_region: list\n",
    "      #  Lista zawierająca trzy elementy pozwalające na określenie obszaru krytycznego w następującej kolejności:\n",
    "      #   - wartość dolnej granicy przedziału,\n",
    "      #   - wartość górnej granicy przedziału,\n",
    "      #   - \"inner\" lub \"outer\" w zależności od tego, czy ma być zakolorowana wewnętrzna, czy zewnętrzna część przedziału.\n",
    "  \n",
    "        rejection_region = [-t_alpha, t_alpha, \"outer\"]\n",
    "        \n",
    "    elif H1 == \"less\":\n",
    "        t_alpha = stats.t.ppf(alpha,  df=(n - 1))\n",
    "        rejection_region = [-np.inf, t_alpha, \"inner\"]\n",
    "        \n",
    "    else:  # H1 == \"greater\"\n",
    "        t_alpha = stats.t.ppf(1 - alpha, df=(n - 1))\n",
    "        rejection_region = [t_alpha, np.inf, \"inner\"]\n",
    "\n",
    "    # Etap 6: Podjęcie decyzji weryfikującej\n",
    "    if H1 == \"two-sided\":\n",
    "        if abs(t) >= t_alpha:\n",
    "            H = 1  # Odrzucenie H0 \n",
    "        else:\n",
    "            H = 0  # Brak  odrzucenia H0\n",
    "    elif H1 == \"less\":\n",
    "        if t <= t_alpha:\n",
    "            H = 1  # Odrzucenie H0 \n",
    "        else:\n",
    "            H = 0  # Brak  odrzucenia H0\n",
    "    else:  # H1 == \"greater\"\n",
    "        if t >= t_alpha:\n",
    "            H = 1  # Odrzucenie H0 \n",
    "        else:\n",
    "            H = 0  # Brak odrzucenia H0\n",
    "    \n",
    "    return t, t_alpha, H"
   ]
  },
  {
   "cell_type": "code",
   "execution_count": null,
   "id": "758ec4ce-2cd7-4e0c-9f4c-4f532d74a519",
   "metadata": {
    "deletable": false,
    "editable": false,
    "nbgrader": {
     "cell_type": "code",
     "checksum": "a85821fdef2df88fcd08473fa084b5bb",
     "grade": true,
     "grade_id": "cell-aa9e98593265cfc8",
     "locked": true,
     "points": 6,
     "schema_version": 3,
     "solution": false,
     "task": false
    },
    "tags": []
   },
   "outputs": [],
   "source": [
    "# Komórka testowa\n",
    "result = mean_NHST(test_data_2, 5.08, \"two-sided\", 0.05)\n",
    "assert type(result)==tuple or type(result)==list\n",
    "assert len(result)==3\n",
    "assert isinstance(result[0], float)\n",
    "assert isinstance(result[1], float)\n",
    "assert isinstance(result[2], float) or isinstance(result[2], int)\n"
   ]
  },
  {
   "cell_type": "markdown",
   "id": "b5fe3dfa-2d15-4343-8774-9dcf70974f59",
   "metadata": {
    "deletable": false,
    "editable": false,
    "nbgrader": {
     "cell_type": "markdown",
     "checksum": "f988ed9749968873e2cff6a6a07d274b",
     "grade": false,
     "grade_id": "cell-6028b9fa6492116d",
     "locked": true,
     "schema_version": 3,
     "solution": false,
     "task": false
    },
    "tags": []
   },
   "source": [
    "## Zadanie 4 [12 pkt]\n",
    "\n",
    "Zmienna `hawks` zawiera wyniki badania jastrzębi nad jeziorem MacBride w pobliżu Iowa City:\n",
    " - BandNumber - kod opaski identyfikacyjnej\n",
    " - Species - gatunek\n",
    " - Wing - długość (w mm) głównego pióra skrzydła\n",
    " - Hallux - długość (w mm) szponu\n",
    " - Culmen - długość (w mm) górnej części dzioba\n",
    " - Tail - pomiar (w mm) związany z długością ogona"
   ]
  },
  {
   "cell_type": "code",
   "execution_count": 9,
   "id": "363b601f-d405-487c-acdd-fd55889e0aea",
   "metadata": {
    "deletable": false,
    "editable": false,
    "nbgrader": {
     "cell_type": "code",
     "checksum": "d1b7d035aaa982223b95c2e7367180ce",
     "grade": false,
     "grade_id": "cell-c89d92fcb70b8807",
     "locked": true,
     "schema_version": 3,
     "solution": false,
     "task": false
    },
    "tags": []
   },
   "outputs": [
    {
     "data": {
      "text/html": [
       "<div>\n",
       "<style scoped>\n",
       "    .dataframe tbody tr th:only-of-type {\n",
       "        vertical-align: middle;\n",
       "    }\n",
       "\n",
       "    .dataframe tbody tr th {\n",
       "        vertical-align: top;\n",
       "    }\n",
       "\n",
       "    .dataframe thead th {\n",
       "        text-align: right;\n",
       "    }\n",
       "</style>\n",
       "<table border=\"1\" class=\"dataframe\">\n",
       "  <thead>\n",
       "    <tr style=\"text-align: right;\">\n",
       "      <th></th>\n",
       "      <th>BandNumber</th>\n",
       "      <th>Species</th>\n",
       "      <th>Wing</th>\n",
       "      <th>Hallux</th>\n",
       "      <th>Culmen</th>\n",
       "      <th>Tail</th>\n",
       "    </tr>\n",
       "  </thead>\n",
       "  <tbody>\n",
       "    <tr>\n",
       "      <th>0</th>\n",
       "      <td>877-76321</td>\n",
       "      <td>Red-tailed</td>\n",
       "      <td>375.0</td>\n",
       "      <td>30.0</td>\n",
       "      <td>27.2</td>\n",
       "      <td>243</td>\n",
       "    </tr>\n",
       "    <tr>\n",
       "      <th>1</th>\n",
       "      <td>877-76322</td>\n",
       "      <td>Red-tailed</td>\n",
       "      <td>412.0</td>\n",
       "      <td>31.3</td>\n",
       "      <td>29.3</td>\n",
       "      <td>210</td>\n",
       "    </tr>\n",
       "    <tr>\n",
       "      <th>2</th>\n",
       "      <td>877-76325</td>\n",
       "      <td>Red-tailed</td>\n",
       "      <td>390.0</td>\n",
       "      <td>30.9</td>\n",
       "      <td>28.9</td>\n",
       "      <td>213</td>\n",
       "    </tr>\n",
       "    <tr>\n",
       "      <th>3</th>\n",
       "      <td>1207-55917</td>\n",
       "      <td>Red-tailed</td>\n",
       "      <td>393.0</td>\n",
       "      <td>30.6</td>\n",
       "      <td>28.2</td>\n",
       "      <td>238</td>\n",
       "    </tr>\n",
       "    <tr>\n",
       "      <th>4</th>\n",
       "      <td>1207-55913</td>\n",
       "      <td>Red-tailed</td>\n",
       "      <td>436.0</td>\n",
       "      <td>34.0</td>\n",
       "      <td>30.5</td>\n",
       "      <td>232</td>\n",
       "    </tr>\n",
       "    <tr>\n",
       "      <th>...</th>\n",
       "      <td>...</td>\n",
       "      <td>...</td>\n",
       "      <td>...</td>\n",
       "      <td>...</td>\n",
       "      <td>...</td>\n",
       "      <td>...</td>\n",
       "    </tr>\n",
       "    <tr>\n",
       "      <th>211</th>\n",
       "      <td>1177-04773</td>\n",
       "      <td>Red-tailed</td>\n",
       "      <td>370.0</td>\n",
       "      <td>31.4</td>\n",
       "      <td>26.9</td>\n",
       "      <td>201</td>\n",
       "    </tr>\n",
       "    <tr>\n",
       "      <th>212</th>\n",
       "      <td>1177-04774</td>\n",
       "      <td>Red-tailed</td>\n",
       "      <td>360.0</td>\n",
       "      <td>30.6</td>\n",
       "      <td>26.2</td>\n",
       "      <td>224</td>\n",
       "    </tr>\n",
       "    <tr>\n",
       "      <th>213</th>\n",
       "      <td>1177-04775</td>\n",
       "      <td>Red-tailed</td>\n",
       "      <td>366.0</td>\n",
       "      <td>27.2</td>\n",
       "      <td>25.3</td>\n",
       "      <td>199</td>\n",
       "    </tr>\n",
       "    <tr>\n",
       "      <th>214</th>\n",
       "      <td>1177-04776</td>\n",
       "      <td>Red-tailed</td>\n",
       "      <td>402.0</td>\n",
       "      <td>31.0</td>\n",
       "      <td>28.7</td>\n",
       "      <td>219</td>\n",
       "    </tr>\n",
       "    <tr>\n",
       "      <th>215</th>\n",
       "      <td>1207-53145</td>\n",
       "      <td>Red-tailed</td>\n",
       "      <td>199.0</td>\n",
       "      <td>32.1</td>\n",
       "      <td>28.7</td>\n",
       "      <td>222</td>\n",
       "    </tr>\n",
       "  </tbody>\n",
       "</table>\n",
       "<p>216 rows × 6 columns</p>\n",
       "</div>"
      ],
      "text/plain": [
       "     BandNumber     Species   Wing  Hallux  Culmen  Tail\n",
       "0     877-76321  Red-tailed  375.0    30.0    27.2   243\n",
       "1     877-76322  Red-tailed  412.0    31.3    29.3   210\n",
       "2     877-76325  Red-tailed  390.0    30.9    28.9   213\n",
       "3    1207-55917  Red-tailed  393.0    30.6    28.2   238\n",
       "4    1207-55913  Red-tailed  436.0    34.0    30.5   232\n",
       "..          ...         ...    ...     ...     ...   ...\n",
       "211  1177-04773  Red-tailed  370.0    31.4    26.9   201\n",
       "212  1177-04774  Red-tailed  360.0    30.6    26.2   224\n",
       "213  1177-04775  Red-tailed  366.0    27.2    25.3   199\n",
       "214  1177-04776  Red-tailed  402.0    31.0    28.7   219\n",
       "215  1207-53145  Red-tailed  199.0    32.1    28.7   222\n",
       "\n",
       "[216 rows x 6 columns]"
      ]
     },
     "execution_count": 9,
     "metadata": {},
     "output_type": "execute_result"
    }
   ],
   "source": [
    "hawks = pd.read_csv(\"hawks_data.csv\", index_col=0)\n",
    "hawks"
   ]
  },
  {
   "cell_type": "markdown",
   "id": "179643ec-aba1-47ea-bbc3-be5921cc969c",
   "metadata": {
    "deletable": false,
    "editable": false,
    "nbgrader": {
     "cell_type": "markdown",
     "checksum": "1a4f0108e6d0e65bc8acbb1dea08e020",
     "grade": false,
     "grade_id": "cell-f49d255da2490d3a",
     "locked": true,
     "schema_version": 3,
     "solution": false,
     "task": false
    },
    "tags": []
   },
   "source": [
    "### a)\n",
    "W oparciu o dane ze zmiennej `hawks` przygotuj zestaw wykresów korelacyjnych poszczególnych par parametrów z wykresami kde na przekątnej (pairplot) zestawiające ze sobą poszczególne parametry liczbowe (osie X, Y) z podziałem na gatunki jastrzębi (rozróżnione kolorem) i ustaw:\n",
    " - inną od domyślnej skalę kolorów (każdy gatunek ma przypisany inny kolor wykresu),\n",
    " - inne od domyślnych własności punktów (kształt, wielkość, przeźroczystość) dobrane tak, aby wykres był jak najbardziej czytelny."
   ]
  },
  {
   "cell_type": "code",
   "execution_count": null,
   "id": "3f5842b5-e472-4d3e-a51b-df0ff068e226",
   "metadata": {
    "deletable": false,
    "nbgrader": {
     "cell_type": "code",
     "checksum": "5371806b773e94492af5b258c84c6459",
     "grade": true,
     "grade_id": "cell-c8281a216810df8a",
     "locked": false,
     "points": 2,
     "schema_version": 3,
     "solution": true,
     "task": false
    },
    "tags": []
   },
   "outputs": [],
   "source": [
    "# YOUR CODE HERE\n",
    "raise NotImplementedError()"
   ]
  },
  {
   "cell_type": "markdown",
   "id": "9666393c-d9b2-4ea1-85e8-6e90b19a0328",
   "metadata": {
    "deletable": false,
    "editable": false,
    "nbgrader": {
     "cell_type": "markdown",
     "checksum": "c5b7ec66bf42690d4c45570776d8cc7c",
     "grade": false,
     "grade_id": "cell-91ad70eef9e6a4bf",
     "locked": true,
     "schema_version": 3,
     "solution": false,
     "task": false
    },
    "tags": []
   },
   "source": [
    "### b)\n",
    "W oparciu o dane ze zmiennej `hawks` przygotuj wykresy boxplot i stripplot wybranego przez siebie parametru liczbowego (oś Y) z podziałem na rozróżnione kolorem gatunki jastrzębi (oś X).\n",
    "\n",
    "Wykresy zestaw na pojedynczej figurze (1x2 pola na wykres). Przygotowując figurę kieruj się wytycznymi z początku notatnika. Dodatkowo ustaw:\n",
    " - dla wykresu boxplot:\n",
    "     - inne od domyślnych kolory wykresu oraz widoczny znacznik wartości średniej,\n",
    " - dla wykresu stripplot:\n",
    "     - inne od domyślnych rozmiar, kolory i przeźroczystość punktów (dobierz parametry tak, aby wykres był jak najbardziej przejrzysty) oraz rozsunięcie poszczególnych grup punktów."
   ]
  },
  {
   "cell_type": "code",
   "execution_count": null,
   "id": "5f6a654d-6dcb-4a39-8616-a3525ee6f9c8",
   "metadata": {
    "deletable": false,
    "nbgrader": {
     "cell_type": "code",
     "checksum": "e1b8d97d77f6c16c0ca5e7cbc817485d",
     "grade": true,
     "grade_id": "cell-da00623fe210a9ed",
     "locked": false,
     "points": 3,
     "schema_version": 3,
     "solution": true,
     "task": false
    },
    "tags": []
   },
   "outputs": [],
   "source": [
    "# YOUR CODE HERE\n",
    "raise NotImplementedError()"
   ]
  },
  {
   "cell_type": "markdown",
   "id": "7d874711-9b80-4091-9f1e-7542541ca392",
   "metadata": {
    "deletable": false,
    "editable": false,
    "nbgrader": {
     "cell_type": "markdown",
     "checksum": "a4d9a5df0e699cb85dbef1f9f6ce0992",
     "grade": false,
     "grade_id": "cell-09da5b328b034af7",
     "locked": true,
     "schema_version": 3,
     "solution": false,
     "task": false
    },
    "tags": []
   },
   "source": [
    "### c)\n",
    "\n",
    "Załóżmy, że zmianna `hawks` zawiera pełną populację jastrzębi zamieszkujących dany obszar. Wylosuj z niej i zapisz do zmiennej `sample` próbę losową zawierającą po 20 losowo wybranych osobników każdego z gatunków (bez zwracania)."
   ]
  },
  {
   "cell_type": "code",
   "execution_count": 10,
   "id": "b9935c3d-9b15-4a18-af7c-79f134adbddc",
   "metadata": {
    "deletable": false,
    "nbgrader": {
     "cell_type": "code",
     "checksum": "a356fd287393a50b8a844d701b5f6480",
     "grade": false,
     "grade_id": "cell-da4aa5c84d38fab7",
     "locked": false,
     "schema_version": 3,
     "solution": true,
     "task": false
    },
    "tags": []
   },
   "outputs": [
    {
     "data": {
      "text/html": [
       "<div>\n",
       "<style scoped>\n",
       "    .dataframe tbody tr th:only-of-type {\n",
       "        vertical-align: middle;\n",
       "    }\n",
       "\n",
       "    .dataframe tbody tr th {\n",
       "        vertical-align: top;\n",
       "    }\n",
       "\n",
       "    .dataframe thead th {\n",
       "        text-align: right;\n",
       "    }\n",
       "</style>\n",
       "<table border=\"1\" class=\"dataframe\">\n",
       "  <thead>\n",
       "    <tr style=\"text-align: right;\">\n",
       "      <th></th>\n",
       "      <th>BandNumber</th>\n",
       "      <th>Species</th>\n",
       "      <th>Wing</th>\n",
       "      <th>Hallux</th>\n",
       "      <th>Culmen</th>\n",
       "      <th>Tail</th>\n",
       "    </tr>\n",
       "  </thead>\n",
       "  <tbody>\n",
       "    <tr>\n",
       "      <th>14</th>\n",
       "      <td>877-76337</td>\n",
       "      <td>Red-tailed</td>\n",
       "      <td>378.0</td>\n",
       "      <td>31.30</td>\n",
       "      <td>25.40</td>\n",
       "      <td>204</td>\n",
       "    </tr>\n",
       "    <tr>\n",
       "      <th>97</th>\n",
       "      <td>2003-99315</td>\n",
       "      <td>Sharp-Shinned</td>\n",
       "      <td>205.0</td>\n",
       "      <td>15.50</td>\n",
       "      <td>12.25</td>\n",
       "      <td>169</td>\n",
       "    </tr>\n",
       "    <tr>\n",
       "      <th>43</th>\n",
       "      <td>1387-79183</td>\n",
       "      <td>Red-tailed</td>\n",
       "      <td>345.0</td>\n",
       "      <td>30.10</td>\n",
       "      <td>26.40</td>\n",
       "      <td>200</td>\n",
       "    </tr>\n",
       "    <tr>\n",
       "      <th>41</th>\n",
       "      <td>1387-79176</td>\n",
       "      <td>Red-tailed</td>\n",
       "      <td>350.0</td>\n",
       "      <td>29.10</td>\n",
       "      <td>26.00</td>\n",
       "      <td>205</td>\n",
       "    </tr>\n",
       "    <tr>\n",
       "      <th>99</th>\n",
       "      <td>1177-14621</td>\n",
       "      <td>Red-tailed</td>\n",
       "      <td>404.0</td>\n",
       "      <td>31.55</td>\n",
       "      <td>28.20</td>\n",
       "      <td>224</td>\n",
       "    </tr>\n",
       "    <tr>\n",
       "      <th>74</th>\n",
       "      <td>1207-72613</td>\n",
       "      <td>Red-tailed</td>\n",
       "      <td>397.0</td>\n",
       "      <td>31.40</td>\n",
       "      <td>28.80</td>\n",
       "      <td>216</td>\n",
       "    </tr>\n",
       "    <tr>\n",
       "      <th>160</th>\n",
       "      <td>1207-72662</td>\n",
       "      <td>Red-tailed</td>\n",
       "      <td>404.0</td>\n",
       "      <td>32.80</td>\n",
       "      <td>29.40</td>\n",
       "      <td>224</td>\n",
       "    </tr>\n",
       "    <tr>\n",
       "      <th>28</th>\n",
       "      <td>872-09615</td>\n",
       "      <td>Sharp-Shinned</td>\n",
       "      <td>170.0</td>\n",
       "      <td>11.20</td>\n",
       "      <td>10.10</td>\n",
       "      <td>126</td>\n",
       "    </tr>\n",
       "    <tr>\n",
       "      <th>138</th>\n",
       "      <td>1177-04677</td>\n",
       "      <td>Red-tailed</td>\n",
       "      <td>385.0</td>\n",
       "      <td>30.90</td>\n",
       "      <td>27.30</td>\n",
       "      <td>216</td>\n",
       "    </tr>\n",
       "    <tr>\n",
       "      <th>138</th>\n",
       "      <td>1177-04677</td>\n",
       "      <td>Red-tailed</td>\n",
       "      <td>385.0</td>\n",
       "      <td>30.90</td>\n",
       "      <td>27.30</td>\n",
       "      <td>216</td>\n",
       "    </tr>\n",
       "    <tr>\n",
       "      <th>146</th>\n",
       "      <td>2003-99330</td>\n",
       "      <td>Sharp-Shinned</td>\n",
       "      <td>203.0</td>\n",
       "      <td>14.20</td>\n",
       "      <td>13.50</td>\n",
       "      <td>157</td>\n",
       "    </tr>\n",
       "    <tr>\n",
       "      <th>96</th>\n",
       "      <td>1207-72624</td>\n",
       "      <td>Red-tailed</td>\n",
       "      <td>404.0</td>\n",
       "      <td>32.50</td>\n",
       "      <td>30.00</td>\n",
       "      <td>220</td>\n",
       "    </tr>\n",
       "    <tr>\n",
       "      <th>108</th>\n",
       "      <td>803-05933</td>\n",
       "      <td>Sharp-Shinned</td>\n",
       "      <td>190.0</td>\n",
       "      <td>14.60</td>\n",
       "      <td>12.80</td>\n",
       "      <td>147</td>\n",
       "    </tr>\n",
       "    <tr>\n",
       "      <th>61</th>\n",
       "      <td>1387-92154</td>\n",
       "      <td>Red-tailed</td>\n",
       "      <td>382.0</td>\n",
       "      <td>34.70</td>\n",
       "      <td>34.90</td>\n",
       "      <td>247</td>\n",
       "    </tr>\n",
       "    <tr>\n",
       "      <th>115</th>\n",
       "      <td>1207-72642</td>\n",
       "      <td>Red-tailed</td>\n",
       "      <td>408.0</td>\n",
       "      <td>32.70</td>\n",
       "      <td>28.80</td>\n",
       "      <td>225</td>\n",
       "    </tr>\n",
       "    <tr>\n",
       "      <th>71</th>\n",
       "      <td>1207-72612</td>\n",
       "      <td>Red-tailed</td>\n",
       "      <td>392.0</td>\n",
       "      <td>29.00</td>\n",
       "      <td>25.90</td>\n",
       "      <td>207</td>\n",
       "    </tr>\n",
       "    <tr>\n",
       "      <th>150</th>\n",
       "      <td>2003-99332</td>\n",
       "      <td>Sharp-Shinned</td>\n",
       "      <td>213.0</td>\n",
       "      <td>15.20</td>\n",
       "      <td>13.70</td>\n",
       "      <td>159</td>\n",
       "    </tr>\n",
       "    <tr>\n",
       "      <th>71</th>\n",
       "      <td>1207-72612</td>\n",
       "      <td>Red-tailed</td>\n",
       "      <td>392.0</td>\n",
       "      <td>29.00</td>\n",
       "      <td>25.90</td>\n",
       "      <td>207</td>\n",
       "    </tr>\n",
       "    <tr>\n",
       "      <th>71</th>\n",
       "      <td>1207-72612</td>\n",
       "      <td>Red-tailed</td>\n",
       "      <td>392.0</td>\n",
       "      <td>29.00</td>\n",
       "      <td>25.90</td>\n",
       "      <td>207</td>\n",
       "    </tr>\n",
       "    <tr>\n",
       "      <th>178</th>\n",
       "      <td>1177-04720</td>\n",
       "      <td>Red-tailed</td>\n",
       "      <td>406.0</td>\n",
       "      <td>33.30</td>\n",
       "      <td>29.30</td>\n",
       "      <td>227</td>\n",
       "    </tr>\n",
       "  </tbody>\n",
       "</table>\n",
       "</div>"
      ],
      "text/plain": [
       "     BandNumber        Species   Wing  Hallux  Culmen  Tail\n",
       "14    877-76337     Red-tailed  378.0   31.30   25.40   204\n",
       "97   2003-99315  Sharp-Shinned  205.0   15.50   12.25   169\n",
       "43   1387-79183     Red-tailed  345.0   30.10   26.40   200\n",
       "41   1387-79176     Red-tailed  350.0   29.10   26.00   205\n",
       "99   1177-14621     Red-tailed  404.0   31.55   28.20   224\n",
       "74   1207-72613     Red-tailed  397.0   31.40   28.80   216\n",
       "160  1207-72662     Red-tailed  404.0   32.80   29.40   224\n",
       "28    872-09615  Sharp-Shinned  170.0   11.20   10.10   126\n",
       "138  1177-04677     Red-tailed  385.0   30.90   27.30   216\n",
       "138  1177-04677     Red-tailed  385.0   30.90   27.30   216\n",
       "146  2003-99330  Sharp-Shinned  203.0   14.20   13.50   157\n",
       "96   1207-72624     Red-tailed  404.0   32.50   30.00   220\n",
       "108   803-05933  Sharp-Shinned  190.0   14.60   12.80   147\n",
       "61   1387-92154     Red-tailed  382.0   34.70   34.90   247\n",
       "115  1207-72642     Red-tailed  408.0   32.70   28.80   225\n",
       "71   1207-72612     Red-tailed  392.0   29.00   25.90   207\n",
       "150  2003-99332  Sharp-Shinned  213.0   15.20   13.70   159\n",
       "71   1207-72612     Red-tailed  392.0   29.00   25.90   207\n",
       "71   1207-72612     Red-tailed  392.0   29.00   25.90   207\n",
       "178  1177-04720     Red-tailed  406.0   33.30   29.30   227"
      ]
     },
     "execution_count": 10,
     "metadata": {},
     "output_type": "execute_result"
    }
   ],
   "source": [
    "sample = hawks.sample(n=20, replace=True)\n",
    "sample"
   ]
  },
  {
   "cell_type": "code",
   "execution_count": null,
   "id": "ecd4befb-84c8-4985-9e64-32f62858c8a5",
   "metadata": {
    "deletable": false,
    "editable": false,
    "nbgrader": {
     "cell_type": "code",
     "checksum": "36f2e6060c332ea60e6f54fd5e69ecb1",
     "grade": true,
     "grade_id": "cell-39dbe6b5f805f78e",
     "locked": true,
     "points": 2,
     "schema_version": 3,
     "solution": false,
     "task": false
    },
    "tags": []
   },
   "outputs": [],
   "source": [
    "# Komórka testowa\n",
    "assert type(sample) == pd.DataFrame\n"
   ]
  },
  {
   "cell_type": "markdown",
   "id": "55080b25-579b-43d3-964f-8e16a6eea104",
   "metadata": {
    "deletable": false,
    "editable": false,
    "nbgrader": {
     "cell_type": "markdown",
     "checksum": "68afc066c78f57ba15b225f94847e3f6",
     "grade": false,
     "grade_id": "cell-89f8cf6f4014b381",
     "locked": true,
     "schema_version": 3,
     "solution": false,
     "task": false
    },
    "tags": []
   },
   "source": [
    "### d)\n",
    "\n",
    "Korzystając z dedykowanej do tego funkcji pakietu scipy dokonaj estymacji przedziałowej metodą bootstrap odchylenia standardowego długości piór w skrzydłach jastrzębi gatunku Sharp-Shinned na poziomie istotności 1-alpha = 0.9.\n",
    "\n",
    "Wynik zapisz do zmiennej `std_ci` zawierającej listę lub krotkę z dolną i górną granicą przedziału ufności. Ustaw wartość argumentu funkcji odpowiadającego za ziarno generatora liczb losowych funkcji na 17."
   ]
  },
  {
   "cell_type": "code",
   "execution_count": 18,
   "id": "1b4e5e43-affd-407f-9cc6-d4eb9ab5c363",
   "metadata": {
    "deletable": false,
    "nbgrader": {
     "cell_type": "code",
     "checksum": "78f40c6027906ec7adb14be117447244",
     "grade": false,
     "grade_id": "cell-b6f52487824e8671",
     "locked": false,
     "schema_version": 3,
     "solution": true,
     "task": false
    },
    "tags": []
   },
   "outputs": [
    {
     "data": {
      "text/plain": [
       "(15.207541129759127, 17.847028694919924)"
      ]
     },
     "execution_count": 18,
     "metadata": {},
     "output_type": "execute_result"
    }
   ],
   "source": [
    "dane = hawks[hawks[\"Species\"] == \"Sharp-Shinned\"][\"Wing\"]\n",
    "std_ = sp.stats.bootstrap((dane,), np.std, confidence_level=0.9, random_state=17)\n",
    "std_lower, std_upper = std_.confidence_interval\n",
    "std_ci = (std_lower, std_upper)\n",
    "std_ci"
   ]
  },
  {
   "cell_type": "code",
   "execution_count": null,
   "id": "2dc24ca2-d6f8-47b2-b790-a2741cc2c6d1",
   "metadata": {
    "deletable": false,
    "editable": false,
    "nbgrader": {
     "cell_type": "code",
     "checksum": "1dbc558c819f8cf8a0136e2953a31d09",
     "grade": true,
     "grade_id": "cell-94f8e37e60f83338",
     "locked": true,
     "points": 2,
     "schema_version": 3,
     "solution": false,
     "task": false
    },
    "tags": []
   },
   "outputs": [],
   "source": [
    "# Komórka testowa\n",
    "assert type(std_ci)==tuple or type(std_ci)==list\n",
    "assert len(std_ci)==2\n",
    "assert isinstance(std_ci[0], float)\n",
    "assert isinstance(std_ci[1], float)\n"
   ]
  },
  {
   "cell_type": "markdown",
   "id": "46d91be5-def2-4da3-b834-bf03848f7d42",
   "metadata": {
    "deletable": false,
    "editable": false,
    "nbgrader": {
     "cell_type": "markdown",
     "checksum": "9c3d2e820a647e11f1505b060997a732",
     "grade": false,
     "grade_id": "cell-a26e10222f478e64",
     "locked": true,
     "schema_version": 3,
     "solution": false,
     "task": false
    },
    "tags": []
   },
   "source": [
    "### e)\n",
    "\n",
    "Korzystając z dedykowanej funkcji pakietu scipy zweryfikuj za pomocą testu chi-kwadrat hipotezę, że długość szponów jastrzębi gatunku Red-tailed ma rozkład normalny o wartości oczekiwanej 31 i odchyleniu standardowym 2.5. W obliczeniach przyjmij poziom istotności 1 - alpha = 0.95. \n",
    "\n",
    "Podczas obliczeń dokonaj podziału danych na następujące przedziały: [22, 23), [23, 24), ... , [35, 36].\n",
    "\n",
    "Zapisz obliczoną wartość pvalue do zmiennej `pvalue` oraz przygotuj zmienną `H` zawierającą wynik testu statystycznego (0 - gdy wynik testu istotności nie daje podstaw do odrzucenia H0 na rzecz H1 na poziomie istotności 1-alpha, 1 - gdy następuje odrzucenie H0 na rzecz H1 na poziomie istotności 1-alpha)."
   ]
  },
  {
   "cell_type": "code",
   "execution_count": null,
   "id": "ec0bce6e-e0a7-4e6f-bbe4-fb32ad1fad05",
   "metadata": {
    "deletable": false,
    "nbgrader": {
     "cell_type": "code",
     "checksum": "e97121b9a7833f020edc9ecd609fcfac",
     "grade": false,
     "grade_id": "cell-b644105f89af5513",
     "locked": false,
     "schema_version": 3,
     "solution": true,
     "task": false
    },
    "tags": []
   },
   "outputs": [],
   "source": [
    "# YOUR CODE HERE\n",
    "raise NotImplementedError()"
   ]
  },
  {
   "cell_type": "code",
   "execution_count": null,
   "id": "cc7e70ab-6d87-4f57-837d-11cb4b116056",
   "metadata": {
    "deletable": false,
    "editable": false,
    "nbgrader": {
     "cell_type": "code",
     "checksum": "197a9a673b1f4537c8651afcab06d761",
     "grade": true,
     "grade_id": "cell-2dd896b4ca1ac760",
     "locked": true,
     "points": 3,
     "schema_version": 3,
     "solution": false,
     "task": false
    },
    "tags": []
   },
   "outputs": [],
   "source": [
    "# Komórka testowa\n",
    "assert isinstance(pvalue, float)\n",
    "assert isinstance(H, float) or isinstance(H, int)\n"
   ]
  }
 ],
 "metadata": {
  "kernelspec": {
   "display_name": "Python 3 (ipykernel)",
   "language": "python",
   "name": "python3"
  },
  "language_info": {
   "codemirror_mode": {
    "name": "ipython",
    "version": 3
   },
   "file_extension": ".py",
   "mimetype": "text/x-python",
   "name": "python",
   "nbconvert_exporter": "python",
   "pygments_lexer": "ipython3",
   "version": "3.11.8"
  }
 },
 "nbformat": 4,
 "nbformat_minor": 5
}
