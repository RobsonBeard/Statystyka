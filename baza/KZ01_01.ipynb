{
 "cells": [
  {
   "cell_type": "markdown",
   "id": "51826522",
   "metadata": {
    "deletable": false,
    "editable": false,
    "nbgrader": {
     "cell_type": "markdown",
     "checksum": "fa74cc5b13ba0c07f2f9277490d0fd6f",
     "grade": false,
     "grade_id": "cell-fcd2666579131b77",
     "locked": true,
     "schema_version": 3,
     "solution": false,
     "task": false
    },
    "tags": []
   },
   "source": [
    "# Statystyka matematyczna - ćwiczenia laboratoryjne 2023/2024\n",
    "\n",
    "Ten notatnik zalicza się do grupy zestawów zadań, na podstawie których odbywa się zaliczenie ćwiczeń i podlega zwrotowi do oceny w ustalonym na zajęciach terminie.\n",
    "\n",
    "Uwagi i wytyczne ogólne dotyczące uzupełniania notatnika:\n",
    "- Podczas wykonywania zadań należy korzystać wyłącznie z pakietów zaimportowanych na początku notatnika oraz z pakietów wchodzących w skład standardowej biblioteki Pythona, które można zaimportować samodzielnie we wskazanej komórce notatnika.\n",
    "- Swoje rozwiązania należy wprowadzać wyłącznie w miejce następujących fragmentów kodu:<br/> `# YOUR CODE HERE`<br/> `raise NotImplementedError()`<br/> \n",
    "a odpowiedzi tekstowe w komórkach oznaczonych hasłem:<br/> \n",
    "`YOUR ANSWER HERE`<br/> \n",
    "Nie należy w żaden sposób modyfikować pozostałych fragmentów kodu oraz innych elementów notatnika, w szczególności dodawać lub usuwać komórek oraz zmieniać nazwy pliku.\n",
    "- Otrzymywane wyniki i odpowiedzi mają być rezultatem wykonania napisanego kodu.\n",
    "- Zadanie należy wykonać w taki sposób, aby podczas wykonywania kodu nie zostały wyświetlone żadne ostrzeżenia.\n",
    "- Zawarte w notatniku automatyczne testy mają charakter poglądowy. Dotyczą one wybranych aspektów zadań i mają za zadanie wyłapać podstawowe błędy. Przejście wszystkich testów nie oznacza, że zadanie jest wykonane w całości poprawnie.\n",
    "\n",
    "Uwagi i wytyczne ogólne dotyczące wizualizacji wyników:\n",
    "- Wszystkie wykresy powinny być wykonane w jednolitym, przejrzystym i czytelnym stylu, posiadać odpowiednio dobrane proporcje i zakresy wartości osi.\n",
    "- Wykresy oraz ich osie powinny mieć nadane tytuły. Jeżeli w obrębie figury znajduje się więcej niż jeden wykres to figura również powinna mieć nadany tytuł. \n",
    "- Figury powinny mieć ustawione białe tło, tak, aby niezależnie od ustawień notatnika wszystkie elementy wykresów były dobrze widoczne (domyślnie tło jest przeźroczyste co może powodować problemy w notatnikach z ustawionym ciemnym tłem).\n",
    "- Rozmiar poziomy figur nie powinien przekraczać 20 cali.\n",
    "\n",
    "Przed odesłaniem zestawu zadań do oceny proszę uzupełnić komórkę z danymi autora rozwiązania (imię, nazwisko i numer indeksu) oraz upewnić się, że notatnik działa zgodnie z oczekiwaniami. W tym celu należy skorzystać z opcji **Restart Kernel and Run All Cells...** dostępnej na górnej belce notatnika pod symbolem $\\blacktriangleright\\blacktriangleright$."
   ]
  },
  {
   "cell_type": "markdown",
   "id": "b2fee546",
   "metadata": {},
   "source": [
    "Imię i nazwisko:\n",
    "Numer indeksu:"
   ]
  },
  {
   "cell_type": "markdown",
   "id": "cca90b72",
   "metadata": {
    "deletable": false,
    "editable": false,
    "nbgrader": {
     "cell_type": "markdown",
     "checksum": "eddc8826810e4a6f7bf68319da334bd9",
     "grade": false,
     "grade_id": "cell-109006d425e5cf83",
     "locked": true,
     "schema_version": 3,
     "solution": false,
     "task": false
    },
    "tags": []
   },
   "source": [
    "---"
   ]
  },
  {
   "cell_type": "markdown",
   "id": "0f6ce37e-54ef-468a-9ad8-0506d41ebbf3",
   "metadata": {
    "deletable": false,
    "editable": false,
    "nbgrader": {
     "cell_type": "markdown",
     "checksum": "fd667b5bc9d3235a1ab3392e249144f6",
     "grade": false,
     "grade_id": "cell-13e9eed5ad8c3d36",
     "locked": true,
     "schema_version": 3,
     "solution": false,
     "task": false
    },
    "tags": []
   },
   "source": [
    "# Kolowkium zaliczeniowe: 1 termin, grupa 1"
   ]
  },
  {
   "cell_type": "code",
   "execution_count": 10,
   "id": "0f4cfc8d-b165-4fb3-8411-cc1bedc50b4a",
   "metadata": {
    "deletable": false,
    "editable": false,
    "nbgrader": {
     "cell_type": "code",
     "checksum": "616689a0960f55908943694ba894fe41",
     "grade": false,
     "grade_id": "cell-dd16a23dce6aaa4b",
     "locked": true,
     "schema_version": 3,
     "solution": false,
     "task": false
    },
    "tags": []
   },
   "outputs": [],
   "source": [
    "import numpy as np\n",
    "import pandas as pd\n",
    "import scipy as sp\n",
    "import matplotlib as mpl\n",
    "import matplotlib.pyplot as plt\n",
    "import seaborn as sns"
   ]
  },
  {
   "cell_type": "code",
   "execution_count": null,
   "id": "17268a1b-ea72-40b1-abb7-a3f6d6fc2d83",
   "metadata": {},
   "outputs": [],
   "source": [
    "# Miejsce do importu pakietów wchodzących w skład standardowej biblioteki Pythona oraz ustawienie opcji wykorzystywanych pakietów"
   ]
  },
  {
   "cell_type": "markdown",
   "id": "4b5c05f1-bdb1-4465-af3e-141900df4b1a",
   "metadata": {
    "deletable": false,
    "editable": false,
    "nbgrader": {
     "cell_type": "markdown",
     "checksum": "6cba2f0b0fe42e83d1c52878c82f2ee3",
     "grade": false,
     "grade_id": "cell-5f6f768907bd4196",
     "locked": true,
     "schema_version": 3,
     "solution": false,
     "task": false
    },
    "tags": []
   },
   "source": [
    "## Dane do automatycznych testów"
   ]
  },
  {
   "cell_type": "code",
   "execution_count": 2,
   "id": "8edaf2cb-352b-4edb-84f2-9b99232810fc",
   "metadata": {
    "deletable": false,
    "editable": false,
    "nbgrader": {
     "cell_type": "code",
     "checksum": "43c24edd937cbb384d920c32acf0fa66",
     "grade": false,
     "grade_id": "cell-7c25b75ddb75a3d2",
     "locked": true,
     "schema_version": 3,
     "solution": false,
     "task": false
    },
    "tags": []
   },
   "outputs": [
    {
     "data": {
      "text/html": [
       "<div>\n",
       "<style scoped>\n",
       "    .dataframe tbody tr th:only-of-type {\n",
       "        vertical-align: middle;\n",
       "    }\n",
       "\n",
       "    .dataframe tbody tr th {\n",
       "        vertical-align: top;\n",
       "    }\n",
       "\n",
       "    .dataframe thead th {\n",
       "        text-align: right;\n",
       "    }\n",
       "</style>\n",
       "<table border=\"1\" class=\"dataframe\">\n",
       "  <thead>\n",
       "    <tr style=\"text-align: right;\">\n",
       "      <th></th>\n",
       "      <th>X</th>\n",
       "    </tr>\n",
       "  </thead>\n",
       "  <tbody>\n",
       "    <tr>\n",
       "      <th>0</th>\n",
       "      <td>5.338105</td>\n",
       "    </tr>\n",
       "    <tr>\n",
       "      <th>1</th>\n",
       "      <td>4.906813</td>\n",
       "    </tr>\n",
       "    <tr>\n",
       "      <th>2</th>\n",
       "      <td>5.006564</td>\n",
       "    </tr>\n",
       "    <tr>\n",
       "      <th>3</th>\n",
       "      <td>5.081503</td>\n",
       "    </tr>\n",
       "    <tr>\n",
       "      <th>4</th>\n",
       "      <td>4.842215</td>\n",
       "    </tr>\n",
       "  </tbody>\n",
       "</table>\n",
       "</div>"
      ],
      "text/plain": [
       "          X\n",
       "0  5.338105\n",
       "1  4.906813\n",
       "2  5.006564\n",
       "3  5.081503\n",
       "4  4.842215"
      ]
     },
     "execution_count": 2,
     "metadata": {},
     "output_type": "execute_result"
    }
   ],
   "source": [
    "# Dane do testów 1\n",
    "test_data_1 = pd.DataFrame(data=sp.stats.norm.rvs(loc=5, scale=0.2, size=20, random_state=7), columns=[\"X\"])\n",
    "test_data_1.head()"
   ]
  },
  {
   "cell_type": "code",
   "execution_count": 3,
   "id": "0e246dd6-845d-4120-8d5a-5b7a14c50f95",
   "metadata": {
    "deletable": false,
    "editable": false,
    "nbgrader": {
     "cell_type": "code",
     "checksum": "3e37330ab2084cf19310075344ea9398",
     "grade": false,
     "grade_id": "cell-5b3139e43775c32f",
     "locked": true,
     "schema_version": 3,
     "solution": false,
     "task": false
    },
    "tags": []
   },
   "outputs": [
    {
     "data": {
      "text/html": [
       "<div>\n",
       "<style scoped>\n",
       "    .dataframe tbody tr th:only-of-type {\n",
       "        vertical-align: middle;\n",
       "    }\n",
       "\n",
       "    .dataframe tbody tr th {\n",
       "        vertical-align: top;\n",
       "    }\n",
       "\n",
       "    .dataframe thead th {\n",
       "        text-align: right;\n",
       "    }\n",
       "</style>\n",
       "<table border=\"1\" class=\"dataframe\">\n",
       "  <thead>\n",
       "    <tr style=\"text-align: right;\">\n",
       "      <th></th>\n",
       "      <th>X</th>\n",
       "    </tr>\n",
       "  </thead>\n",
       "  <tbody>\n",
       "    <tr>\n",
       "      <th>0</th>\n",
       "      <td>5.338105</td>\n",
       "    </tr>\n",
       "    <tr>\n",
       "      <th>1</th>\n",
       "      <td>4.906813</td>\n",
       "    </tr>\n",
       "    <tr>\n",
       "      <th>2</th>\n",
       "      <td>5.006564</td>\n",
       "    </tr>\n",
       "    <tr>\n",
       "      <th>3</th>\n",
       "      <td>5.081503</td>\n",
       "    </tr>\n",
       "    <tr>\n",
       "      <th>4</th>\n",
       "      <td>4.842215</td>\n",
       "    </tr>\n",
       "  </tbody>\n",
       "</table>\n",
       "</div>"
      ],
      "text/plain": [
       "          X\n",
       "0  5.338105\n",
       "1  4.906813\n",
       "2  5.006564\n",
       "3  5.081503\n",
       "4  4.842215"
      ]
     },
     "execution_count": 3,
     "metadata": {},
     "output_type": "execute_result"
    }
   ],
   "source": [
    "test_data_2 = pd.DataFrame(data=sp.stats.norm.rvs(loc=5, scale=0.2, size=15, random_state=7), columns=[\"X\"])\n",
    "test_data_2.head()"
   ]
  },
  {
   "cell_type": "markdown",
   "id": "fc6595a2-d18f-486a-81e8-71840b0665a3",
   "metadata": {
    "deletable": false,
    "editable": false,
    "nbgrader": {
     "cell_type": "markdown",
     "checksum": "7e63ec4db51d5f60887bdb914a533ed6",
     "grade": false,
     "grade_id": "cell-884c1d189e37b467",
     "locked": true,
     "schema_version": 3,
     "solution": false,
     "task": false
    },
    "tags": []
   },
   "source": [
    "## Zadanie 1 [4 pkt]\n",
    "\n",
    "Badania kliniczne pokazały, że po podaniu pewnego leku w 10% przypadków występują skutki uboczne wymagające hospitalizacji.\n",
    "\n",
    "W pewnej klinice podano lek grupie 30 pacjentów. Jakie jest prawdopodobieństwo, że co najmniej 25 z tych osób nie będzie wymagało hospitalizacji?\n",
    "\n",
    "Wynik zapisz do zmiennej `p`."
   ]
  },
  {
   "cell_type": "code",
   "execution_count": 4,
   "id": "1199aed7-ae66-4095-9068-13199ace4cb8",
   "metadata": {
    "deletable": false,
    "nbgrader": {
     "cell_type": "code",
     "checksum": "e6af11d29e75a43228849bc7e6c4040a",
     "grade": false,
     "grade_id": "cell-328b607aafafa4ce",
     "locked": false,
     "schema_version": 3,
     "solution": true,
     "task": false
    },
    "tags": []
   },
   "outputs": [
    {
     "data": {
      "text/plain": [
       "0.8245051209661053"
      ]
     },
     "execution_count": 4,
     "metadata": {},
     "output_type": "execute_result"
    }
   ],
   "source": [
    "# YOUR CODE HERE\n",
    "#raise NotImplementedError()\n",
    "n=30\n",
    "k=25\n",
    "pr=0.9\n",
    "p=sp.stats.binom.cdf(25,30, pr)\n",
    "p=1-p\n",
    "p"
   ]
  },
  {
   "cell_type": "code",
   "execution_count": 12,
   "id": "7b9b7282-5658-45b2-829f-f51fae893755",
   "metadata": {
    "deletable": false,
    "editable": false,
    "nbgrader": {
     "cell_type": "code",
     "checksum": "9995b074837229bb35050fca3565bc06",
     "grade": true,
     "grade_id": "cell-e646a3ab55f95f64",
     "locked": true,
     "points": 4,
     "schema_version": 3,
     "solution": false,
     "task": false
    },
    "tags": []
   },
   "outputs": [],
   "source": [
    "# Komórka testowa\n",
    "assert isinstance(p, float)\n"
   ]
  },
  {
   "cell_type": "markdown",
   "id": "d7f6d1be-c897-4b77-9be2-62d4f356f9da",
   "metadata": {
    "deletable": false,
    "editable": false,
    "nbgrader": {
     "cell_type": "markdown",
     "checksum": "f4db3640fbfe8f36d19df36f7429dc01",
     "grade": false,
     "grade_id": "cell-cf4de8070334ee9b",
     "locked": true,
     "schema_version": 3,
     "solution": false,
     "task": false
    },
    "tags": []
   },
   "source": [
    "## Zadanie 2 [6 pkt]\n",
    "\n",
    "Przygotuj funkcję `variance_estimation()`, która będzie dokonywała estymacji przedziałowej wariancji dla danych wejściowych w postaci szeregu szczegółowego zgodnie z informacjami zawartymi w docstring funkcji oraz ze schematem z załączonego do notatnika zestawu wzorów (przypadek dla nieznanej wartości oczekiwanej populacji).\n",
    "\n",
    "Uwaga! Zadanie dotyczy tradycyjnej estymacji, nie metody bootstrap."
   ]
  },
  {
   "cell_type": "code",
   "execution_count": 5,
   "id": "6469ea3f-f0dd-4dac-bec4-ff9018780969",
   "metadata": {
    "deletable": false,
    "nbgrader": {
     "cell_type": "code",
     "checksum": "728658bed350c9f6b038cb125e1e8110",
     "grade": false,
     "grade_id": "cell-00b25bd896944c4d",
     "locked": false,
     "schema_version": 3,
     "solution": true,
     "task": false
    },
    "tags": []
   },
   "outputs": [],
   "source": [
    "def variance_estimation(data, alpha):\n",
    "    \"\"\"\n",
    "    Parameters\n",
    "    -------\n",
    "    data: DataFrame\n",
    "        Tablica zawierająca domyślny indeks i pojedynczą kolumnę \"X\" z wartościami próby losowej,\n",
    "    alpha: float\n",
    "        Wartość określająca poziom istotności.\n",
    "    \n",
    "    Returns\n",
    "    -------\n",
    "    var_low: float\n",
    "        Dolna granica wyliczonego przedziału ufności.\n",
    "    var_high: float\n",
    "        Górna granica wyliczonego przedziału ufności.\n",
    "    \"\"\"\n",
    "    # YOUR CODE HERE\n",
    "    #raise NotImplementedError()\n",
    "    n=len(data)\n",
    "    x=data[\"X\"].values\n",
    "    xm=np.mean(x)\n",
    "    s2=x.var(ddof=0)\n",
    "    var_low=n*s2/(sp.stats.chi2.ppf(1-alpha/2, n-1))\n",
    "    var_high=n*s2/(sp.stats.chi2.ppf(alpha/2, n-1))\n",
    "    return var_low, var_high\n",
    "    "
   ]
  },
  {
   "cell_type": "code",
   "execution_count": 6,
   "id": "74dc6887-190d-449f-9be8-0f7381d5307a",
   "metadata": {
    "deletable": false,
    "editable": false,
    "nbgrader": {
     "cell_type": "code",
     "checksum": "b7956122298b7461ac47ad54aca62cdb",
     "grade": true,
     "grade_id": "cell-60ea6c2bcb228b58",
     "locked": true,
     "points": 6,
     "schema_version": 3,
     "solution": false,
     "task": false
    },
    "tags": []
   },
   "outputs": [],
   "source": [
    "# Komórka testowa\n",
    "result = variance_estimation(test_data_1, 0.1)\n",
    "assert type(result)==tuple or type(result)==list\n",
    "assert len(result)==2\n",
    "assert isinstance(result[0], float)\n",
    "assert isinstance(result[1], float)\n"
   ]
  },
  {
   "cell_type": "markdown",
   "id": "77964cda-1984-441e-abd2-9d5f6fb267c9",
   "metadata": {
    "deletable": false,
    "editable": false,
    "nbgrader": {
     "cell_type": "markdown",
     "checksum": "152dbbae3e61863345e562e24779ef73",
     "grade": false,
     "grade_id": "cell-c8e867a6c3891000",
     "locked": true,
     "schema_version": 3,
     "solution": false,
     "task": false
    },
    "tags": []
   },
   "source": [
    "## Zadanie 3 [6 pkt]\n",
    "\n",
    "Przygotuj funkcję `mean_NHST()`, która będzie weryfikować hipotezę o wartości przeciętnej dla danych wejściowych w postaci szeregu szczegółowego zgodnie z informacjami zawartymi w docstring funkcji oraz ze schematem z załączonego do notatnika zestawu wzorów.\n",
    "\n",
    "Uwaga! Zadanie dotyczy tradycyjnej weryfikacji, nie metody bootstrap."
   ]
  },
  {
   "cell_type": "code",
   "execution_count": 7,
   "id": "97e358ac-380e-4057-b4ee-fd8a54e29cb4",
   "metadata": {
    "deletable": false,
    "nbgrader": {
     "cell_type": "code",
     "checksum": "e31d1a1260852d430332a97ccd8654df",
     "grade": false,
     "grade_id": "cell-146cf426bb90e71e",
     "locked": false,
     "schema_version": 3,
     "solution": true,
     "task": false
    },
    "tags": []
   },
   "outputs": [
    {
     "data": {
      "text/plain": [
       "(-2.0025714094592715, 2.1447866879169273, 0)"
      ]
     },
     "execution_count": 7,
     "metadata": {},
     "output_type": "execute_result"
    }
   ],
   "source": [
    "def mean_NHST(data, H0, H1, alpha):\n",
    "    \"\"\"\n",
    "    Parameters\n",
    "    -------\n",
    "    data: DataFrame\n",
    "        Tablica zawierająca domyślny indeks i kolumnę \"X\" wynikami próby losowej.\n",
    "    H0: float\n",
    "        Wartość przeciętna przyjęta jako hipoteza zerowa.\n",
    "    H1: str\n",
    "        Postać hipotezy alternatywnej, przyjmuje wartości:\n",
    "        - two-sided: wartość przeciętna jest różna od wartości przyjętej w H0,\n",
    "        - less: wartość przeciętna jest mniejsza od wartości przyjętej w H0,\n",
    "        - greater: wartość przeciętna jest większa od wartości przyjętej w H0.\n",
    "    alpha: float\n",
    "        Wartość określająca poziom istotności.\n",
    "    \n",
    "    Returns\n",
    "    -------\n",
    "    t: float\n",
    "        Wyliczona na podstawie próby losowej wartość statystyki t.\n",
    "    t_alpha: float\n",
    "        Wartość statystyki t_alpha.\n",
    "    H: int\n",
    "        Wynik testu statystycznego, przyjmuje wartość:\n",
    "        0 - gdy wynik testu istotności nie daje podstaw do odrzucenia H0 na rzecz H1 na poziomie istotności 1-alpha,\n",
    "        1 - gdy następuje odrzucenie H0 na rzecz H1 na poziomie istotności 1-alpha.\n",
    "    \"\"\"\n",
    "    # YOUR CODE HERE\n",
    "    #raise NotImplementedError()\n",
    "    H=0\n",
    "    n=len(data[\"X\"].values)\n",
    "    xm=np.sum(data[\"X\"].values)/n\n",
    "    t=(xm-H0)/np.std(data[\"X\"].values) * np.sqrt(n)\n",
    "    if H1==\"two-sided\":\n",
    "        t_alpha=sp.stats.t.ppf(1-alpha/2, n-1)\n",
    "        if t>=t_alpha:\n",
    "            H=1\n",
    "    if H1==\"less\":\n",
    "        t_alpha=sp.stats.t.ppf(alpha, n-1)\n",
    "        if t<=t_alpha:\n",
    "            H=1\n",
    "    if H1==\"greater\":\n",
    "        t_alpha=sp.stats.t.ppf(1-alpha, n-1)\n",
    "        if t>=t_alpha:\n",
    "            H=1\n",
    "    return t, t_alpha, H\n",
    " \n",
    "mean_NHST(test_data_2, 5.08, \"two-sided\", 0.05)   "
   ]
  },
  {
   "cell_type": "code",
   "execution_count": 8,
   "id": "758ec4ce-2cd7-4e0c-9f4c-4f532d74a519",
   "metadata": {
    "deletable": false,
    "editable": false,
    "nbgrader": {
     "cell_type": "code",
     "checksum": "a85821fdef2df88fcd08473fa084b5bb",
     "grade": true,
     "grade_id": "cell-aa9e98593265cfc8",
     "locked": true,
     "points": 6,
     "schema_version": 3,
     "solution": false,
     "task": false
    },
    "tags": []
   },
   "outputs": [],
   "source": [
    "# Komórka testowa\n",
    "result = mean_NHST(test_data_2, 5.08, \"two-sided\", 0.05)\n",
    "assert type(result)==tuple or type(result)==list\n",
    "assert len(result)==3\n",
    "assert isinstance(result[0], float)\n",
    "assert isinstance(result[1], float)\n",
    "assert isinstance(result[2], float) or isinstance(result[2], int)\n"
   ]
  },
  {
   "cell_type": "markdown",
   "id": "b5fe3dfa-2d15-4343-8774-9dcf70974f59",
   "metadata": {
    "deletable": false,
    "editable": false,
    "nbgrader": {
     "cell_type": "markdown",
     "checksum": "2fca27890826e35c3286a0e9d7eb873b",
     "grade": false,
     "grade_id": "cell-6028b9fa6492116d",
     "locked": true,
     "schema_version": 3,
     "solution": false,
     "task": false
    },
    "tags": []
   },
   "source": [
    "## Zadanie 4 [12 pkt]\n",
    "\n",
    "Zmienna `pulse` zawiera informacje na temat osób biorących udział w badaniu tętna przed i po wysiłku fizycznym (trzy \"okrążenia\" chodząc w górę i w dół po schodach):\n",
    " - Active - tętno (uderzenia na minutę) po ćwiczeniach\n",
    " - Rest - tętno spoczynkowe (uderzenia na minutę)\n",
    " - Sex - płeć\n",
    " - Hgt - wzrost (w calach)\n",
    " - Wgt - waga (w funtach)"
   ]
  },
  {
   "cell_type": "code",
   "execution_count": 11,
   "id": "363b601f-d405-487c-acdd-fd55889e0aea",
   "metadata": {
    "deletable": false,
    "editable": false,
    "nbgrader": {
     "cell_type": "code",
     "checksum": "e0ff22c69481c8dab1d229546a745a94",
     "grade": false,
     "grade_id": "cell-c89d92fcb70b8807",
     "locked": true,
     "schema_version": 3,
     "solution": false,
     "task": false
    },
    "tags": []
   },
   "outputs": [
    {
     "data": {
      "text/html": [
       "<div>\n",
       "<style scoped>\n",
       "    .dataframe tbody tr th:only-of-type {\n",
       "        vertical-align: middle;\n",
       "    }\n",
       "\n",
       "    .dataframe tbody tr th {\n",
       "        vertical-align: top;\n",
       "    }\n",
       "\n",
       "    .dataframe thead th {\n",
       "        text-align: right;\n",
       "    }\n",
       "</style>\n",
       "<table border=\"1\" class=\"dataframe\">\n",
       "  <thead>\n",
       "    <tr style=\"text-align: right;\">\n",
       "      <th></th>\n",
       "      <th>Active</th>\n",
       "      <th>Rest</th>\n",
       "      <th>Sex</th>\n",
       "      <th>Hgt</th>\n",
       "      <th>Wgt</th>\n",
       "    </tr>\n",
       "  </thead>\n",
       "  <tbody>\n",
       "    <tr>\n",
       "      <th>0</th>\n",
       "      <td>97</td>\n",
       "      <td>78</td>\n",
       "      <td>Female</td>\n",
       "      <td>63</td>\n",
       "      <td>119</td>\n",
       "    </tr>\n",
       "    <tr>\n",
       "      <th>1</th>\n",
       "      <td>82</td>\n",
       "      <td>68</td>\n",
       "      <td>Male</td>\n",
       "      <td>70</td>\n",
       "      <td>225</td>\n",
       "    </tr>\n",
       "    <tr>\n",
       "      <th>2</th>\n",
       "      <td>88</td>\n",
       "      <td>62</td>\n",
       "      <td>Male</td>\n",
       "      <td>72</td>\n",
       "      <td>175</td>\n",
       "    </tr>\n",
       "    <tr>\n",
       "      <th>3</th>\n",
       "      <td>106</td>\n",
       "      <td>74</td>\n",
       "      <td>Male</td>\n",
       "      <td>72</td>\n",
       "      <td>170</td>\n",
       "    </tr>\n",
       "    <tr>\n",
       "      <th>4</th>\n",
       "      <td>78</td>\n",
       "      <td>63</td>\n",
       "      <td>Female</td>\n",
       "      <td>67</td>\n",
       "      <td>125</td>\n",
       "    </tr>\n",
       "    <tr>\n",
       "      <th>...</th>\n",
       "      <td>...</td>\n",
       "      <td>...</td>\n",
       "      <td>...</td>\n",
       "      <td>...</td>\n",
       "      <td>...</td>\n",
       "    </tr>\n",
       "    <tr>\n",
       "      <th>227</th>\n",
       "      <td>105</td>\n",
       "      <td>85</td>\n",
       "      <td>Female</td>\n",
       "      <td>64</td>\n",
       "      <td>150</td>\n",
       "    </tr>\n",
       "    <tr>\n",
       "      <th>228</th>\n",
       "      <td>82</td>\n",
       "      <td>74</td>\n",
       "      <td>Female</td>\n",
       "      <td>66</td>\n",
       "      <td>124</td>\n",
       "    </tr>\n",
       "    <tr>\n",
       "      <th>229</th>\n",
       "      <td>102</td>\n",
       "      <td>81</td>\n",
       "      <td>Male</td>\n",
       "      <td>69</td>\n",
       "      <td>172</td>\n",
       "    </tr>\n",
       "    <tr>\n",
       "      <th>230</th>\n",
       "      <td>87</td>\n",
       "      <td>67</td>\n",
       "      <td>Male</td>\n",
       "      <td>68</td>\n",
       "      <td>170</td>\n",
       "    </tr>\n",
       "    <tr>\n",
       "      <th>231</th>\n",
       "      <td>81</td>\n",
       "      <td>62</td>\n",
       "      <td>Male</td>\n",
       "      <td>68</td>\n",
       "      <td>151</td>\n",
       "    </tr>\n",
       "  </tbody>\n",
       "</table>\n",
       "<p>232 rows × 5 columns</p>\n",
       "</div>"
      ],
      "text/plain": [
       "     Active  Rest     Sex  Hgt  Wgt\n",
       "0        97    78  Female   63  119\n",
       "1        82    68    Male   70  225\n",
       "2        88    62    Male   72  175\n",
       "3       106    74    Male   72  170\n",
       "4        78    63  Female   67  125\n",
       "..      ...   ...     ...  ...  ...\n",
       "227     105    85  Female   64  150\n",
       "228      82    74  Female   66  124\n",
       "229     102    81    Male   69  172\n",
       "230      87    67    Male   68  170\n",
       "231      81    62    Male   68  151\n",
       "\n",
       "[232 rows x 5 columns]"
      ]
     },
     "execution_count": 11,
     "metadata": {},
     "output_type": "execute_result"
    }
   ],
   "source": [
    "pulse = pd.read_csv(\"pulse_data.csv\", index_col=0)\n",
    "pulse"
   ]
  },
  {
   "cell_type": "markdown",
   "id": "179643ec-aba1-47ea-bbc3-be5921cc969c",
   "metadata": {
    "deletable": false,
    "editable": false,
    "nbgrader": {
     "cell_type": "markdown",
     "checksum": "036161d391d7e1f7de7e4e7303bf049f",
     "grade": false,
     "grade_id": "cell-f49d255da2490d3a",
     "locked": true,
     "schema_version": 3,
     "solution": false,
     "task": false
    },
    "tags": []
   },
   "source": [
    "### a)\n",
    "\n",
    "W oparciu o dane ze zmiennej `pulse` przygotuj wykresy korelacyjne i kde (pairplot) zestawiające ze sobą poszczególne parametry liczbowe (osie X, Y) z podziałem na płeć osób biorących udział w badaniu (rozróżnione kolorem) i ustaw:\n",
    " - inną od domyślnej skalę kolorów (każda płeć ma przypisany inny kolor wykresu),\n",
    " - inne od domyślnych własności punktów (kształt, wielkość, przeźroczystość) dobrane tak, aby wykres był jak najbardziej czytelny."
   ]
  },
  {
   "cell_type": "code",
   "execution_count": 18,
   "id": "3f5842b5-e472-4d3e-a51b-df0ff068e226",
   "metadata": {
    "deletable": false,
    "nbgrader": {
     "cell_type": "code",
     "checksum": "5371806b773e94492af5b258c84c6459",
     "grade": true,
     "grade_id": "cell-c8281a216810df8a",
     "locked": false,
     "points": 2,
     "schema_version": 3,
     "solution": true,
     "task": false
    },
    "tags": []
   },
   "outputs": [
    {
     "data": {
      "text/plain": [
       "<seaborn.axisgrid.PairGrid at 0x24e57cdbfb0>"
      ]
     },
     "execution_count": 18,
     "metadata": {},
     "output_type": "execute_result"
    },
    {
     "data": {
      "image/png": "[encoded data removed]",
      "text/plain": [
       "<Figure size 1100.25x1000 with 20 Axes>"
      ]
     },
     "metadata": {},
     "output_type": "display_data"
    }
   ],
   "source": [
    "# YOUR CODE HERE\n",
    "#raise NotImplementedError()\n",
    "palette={\"Male\": \"blue\", \"Female\": \"pink\"}\n",
    "points={\"Male\": \"+\", \"Female\": \"|\"}\n",
    "sns.pairplot(pulse, diag_kind=\"kde\", hue=\"Sex\", palette=palette, markers=points)"
   ]
  },
  {
   "cell_type": "markdown",
   "id": "9666393c-d9b2-4ea1-85e8-6e90b19a0328",
   "metadata": {
    "deletable": false,
    "editable": false,
    "nbgrader": {
     "cell_type": "markdown",
     "checksum": "3078bcf8809d9a8d9ccf8f089702d565",
     "grade": false,
     "grade_id": "cell-91ad70eef9e6a4bf",
     "locked": true,
     "schema_version": 3,
     "solution": false,
     "task": false
    },
    "tags": []
   },
   "source": [
    "### b)\n",
    "\n",
    "W oparciu o dane ze zmiennej `pulse` przygotuj wykresy violinplot i stripplot wybranego przez siebie parametru liczbowego (oś Y) z podziałem na rozróżnioną kolorem płeć (oś X).\n",
    "\n",
    "Wykresy zestaw na pojedynczej figurze (1x2 pola na wykres). Przygotowując figurę kieruj się wytycznymi z początku notatnika. Dodatkowo ustaw:\n",
    " - dla wykresu violinplot:\n",
    "     - inny od domyślnego kolor wykresu,\n",
    " - dla wykresu stripplot:\n",
    "     - inne od domyślnych rozmiar, kolor i przeźroczystość punktów (dobierz parametry tak, aby wykres był jak najbardziej przejrzysty)."
   ]
  },
  {
   "cell_type": "code",
   "execution_count": 21,
   "id": "5f6a654d-6dcb-4a39-8616-a3525ee6f9c8",
   "metadata": {
    "deletable": false,
    "nbgrader": {
     "cell_type": "code",
     "checksum": "e1b8d97d77f6c16c0ca5e7cbc817485d",
     "grade": true,
     "grade_id": "cell-da00623fe210a9ed",
     "locked": false,
     "points": 3,
     "schema_version": 3,
     "solution": true,
     "task": false
    },
    "tags": []
   },
   "outputs": [
    {
     "name": "stderr",
     "output_type": "stream",
     "text": [
      "C:\\Users\\Karol\\AppData\\Local\\Temp\\ipykernel_19084\\3555476533.py:4: FutureWarning: \n",
      "\n",
      "Setting a gradient palette using color= is deprecated and will be removed in v0.14.0. Set `palette='dark:blue'` for the same effect.\n",
      "\n",
      "  sns.violinplot(pulse, x=\"Sex\", y=\"Active\",hue=\"Sex\", color=\"blue\", ax=axes[0]).set_title(\"violinplot\")\n",
      "C:\\Users\\Karol\\AppData\\Local\\Temp\\ipykernel_19084\\3555476533.py:8: FutureWarning: \n",
      "\n",
      "Setting a gradient palette using color= is deprecated and will be removed in v0.14.0. Set `palette='dark:blue'` for the same effect.\n",
      "\n",
      "  sns.stripplot(pulse, x=\"Sex\", y=\"Active\",hue=\"Sex\", color=\"blue\", ax=axes[1], size=4, alpha=0.6).set_title(\"stripplot\")\n"
     ]
    },
    {
     "data": {
      "text/plain": [
       "<function matplotlib.pyplot.show(close=None, block=None)>"
      ]
     },
     "execution_count": 21,
     "metadata": {},
     "output_type": "execute_result"
    },
    {
     "data": {
      "image/png": "[encoded data removed]",
      "text/plain": [
       "<Figure size 1000x1000 with 2 Axes>"
      ]
     },
     "metadata": {},
     "output_type": "display_data"
    }
   ],
   "source": [
    "# YOUR CODE HERE\n",
    "#raise NotImplementedError()\n",
    "fig, axes=plt.subplots(1,2, figsize=(10,10), facecolor=\"white\")\n",
    "sns.violinplot(pulse, x=\"Sex\", y=\"Active\",hue=\"Sex\", color=\"blue\", ax=axes[0]).set_title(\"violinplot\")\n",
    "axes[0].set_xlabel(\"x\")\n",
    "axes[0].set_ylabel(\"y\")\n",
    "\n",
    "sns.stripplot(pulse, x=\"Sex\", y=\"Active\",hue=\"Sex\", color=\"blue\", ax=axes[1], size=4, alpha=0.6).set_title(\"stripplot\")\n",
    "axes[1].set_xlabel(\"x\")\n",
    "axes[1].set_ylabel(\"y\")\n",
    "plt.show"
   ]
  },
  {
   "cell_type": "markdown",
   "id": "7d874711-9b80-4091-9f1e-7542541ca392",
   "metadata": {
    "deletable": false,
    "editable": false,
    "nbgrader": {
     "cell_type": "markdown",
     "checksum": "eb8c78b3bb7288d87be779dc248ce71a",
     "grade": false,
     "grade_id": "cell-2d211f41f63c96f8",
     "locked": true,
     "schema_version": 3,
     "solution": false,
     "task": false
    },
    "tags": []
   },
   "source": [
    "### c)\n",
    "\n",
    "Załóżmy, że zmianna `pulse` zawiera pełną populację wyników ekperymentu. Wylosuj z niej i zapisz do zmiennej `sample` próbę losową zawierającą po 20 osób każdej płci wylosowanych bez zwracania."
   ]
  },
  {
   "cell_type": "code",
   "execution_count": 22,
   "id": "b9935c3d-9b15-4a18-af7c-79f134adbddc",
   "metadata": {
    "deletable": false,
    "nbgrader": {
     "cell_type": "code",
     "checksum": "2e3b9cb4e477616c05900a1df2561d86",
     "grade": false,
     "grade_id": "cell-fd24200c1c04a1d0",
     "locked": false,
     "schema_version": 3,
     "solution": true,
     "task": false
    },
    "tags": []
   },
   "outputs": [
    {
     "data": {
      "text/html": [
       "<div>\n",
       "<style scoped>\n",
       "    .dataframe tbody tr th:only-of-type {\n",
       "        vertical-align: middle;\n",
       "    }\n",
       "\n",
       "    .dataframe tbody tr th {\n",
       "        vertical-align: top;\n",
       "    }\n",
       "\n",
       "    .dataframe thead th {\n",
       "        text-align: right;\n",
       "    }\n",
       "</style>\n",
       "<table border=\"1\" class=\"dataframe\">\n",
       "  <thead>\n",
       "    <tr style=\"text-align: right;\">\n",
       "      <th></th>\n",
       "      <th>Active</th>\n",
       "      <th>Rest</th>\n",
       "      <th>Sex</th>\n",
       "      <th>Hgt</th>\n",
       "      <th>Wgt</th>\n",
       "    </tr>\n",
       "  </thead>\n",
       "  <tbody>\n",
       "    <tr>\n",
       "      <th>119</th>\n",
       "      <td>127</td>\n",
       "      <td>69</td>\n",
       "      <td>Female</td>\n",
       "      <td>64</td>\n",
       "      <td>135</td>\n",
       "    </tr>\n",
       "    <tr>\n",
       "      <th>163</th>\n",
       "      <td>97</td>\n",
       "      <td>73</td>\n",
       "      <td>Female</td>\n",
       "      <td>67</td>\n",
       "      <td>115</td>\n",
       "    </tr>\n",
       "    <tr>\n",
       "      <th>9</th>\n",
       "      <td>70</td>\n",
       "      <td>59</td>\n",
       "      <td>Female</td>\n",
       "      <td>65</td>\n",
       "      <td>115</td>\n",
       "    </tr>\n",
       "    <tr>\n",
       "      <th>61</th>\n",
       "      <td>104</td>\n",
       "      <td>82</td>\n",
       "      <td>Female</td>\n",
       "      <td>65</td>\n",
       "      <td>120</td>\n",
       "    </tr>\n",
       "    <tr>\n",
       "      <th>43</th>\n",
       "      <td>86</td>\n",
       "      <td>63</td>\n",
       "      <td>Female</td>\n",
       "      <td>65</td>\n",
       "      <td>145</td>\n",
       "    </tr>\n",
       "    <tr>\n",
       "      <th>201</th>\n",
       "      <td>106</td>\n",
       "      <td>78</td>\n",
       "      <td>Female</td>\n",
       "      <td>61</td>\n",
       "      <td>122</td>\n",
       "    </tr>\n",
       "    <tr>\n",
       "      <th>199</th>\n",
       "      <td>96</td>\n",
       "      <td>74</td>\n",
       "      <td>Female</td>\n",
       "      <td>70</td>\n",
       "      <td>151</td>\n",
       "    </tr>\n",
       "    <tr>\n",
       "      <th>161</th>\n",
       "      <td>144</td>\n",
       "      <td>106</td>\n",
       "      <td>Female</td>\n",
       "      <td>62</td>\n",
       "      <td>140</td>\n",
       "    </tr>\n",
       "    <tr>\n",
       "      <th>228</th>\n",
       "      <td>82</td>\n",
       "      <td>74</td>\n",
       "      <td>Female</td>\n",
       "      <td>66</td>\n",
       "      <td>124</td>\n",
       "    </tr>\n",
       "    <tr>\n",
       "      <th>29</th>\n",
       "      <td>90</td>\n",
       "      <td>85</td>\n",
       "      <td>Female</td>\n",
       "      <td>65</td>\n",
       "      <td>120</td>\n",
       "    </tr>\n",
       "    <tr>\n",
       "      <th>107</th>\n",
       "      <td>87</td>\n",
       "      <td>80</td>\n",
       "      <td>Female</td>\n",
       "      <td>69</td>\n",
       "      <td>141</td>\n",
       "    </tr>\n",
       "    <tr>\n",
       "      <th>89</th>\n",
       "      <td>128</td>\n",
       "      <td>64</td>\n",
       "      <td>Female</td>\n",
       "      <td>67</td>\n",
       "      <td>133</td>\n",
       "    </tr>\n",
       "    <tr>\n",
       "      <th>189</th>\n",
       "      <td>79</td>\n",
       "      <td>58</td>\n",
       "      <td>Female</td>\n",
       "      <td>67</td>\n",
       "      <td>150</td>\n",
       "    </tr>\n",
       "    <tr>\n",
       "      <th>20</th>\n",
       "      <td>110</td>\n",
       "      <td>72</td>\n",
       "      <td>Female</td>\n",
       "      <td>66</td>\n",
       "      <td>130</td>\n",
       "    </tr>\n",
       "    <tr>\n",
       "      <th>146</th>\n",
       "      <td>95</td>\n",
       "      <td>63</td>\n",
       "      <td>Female</td>\n",
       "      <td>69</td>\n",
       "      <td>125</td>\n",
       "    </tr>\n",
       "    <tr>\n",
       "      <th>187</th>\n",
       "      <td>65</td>\n",
       "      <td>75</td>\n",
       "      <td>Female</td>\n",
       "      <td>65</td>\n",
       "      <td>145</td>\n",
       "    </tr>\n",
       "    <tr>\n",
       "      <th>90</th>\n",
       "      <td>68</td>\n",
       "      <td>56</td>\n",
       "      <td>Female</td>\n",
       "      <td>66</td>\n",
       "      <td>160</td>\n",
       "    </tr>\n",
       "    <tr>\n",
       "      <th>167</th>\n",
       "      <td>107</td>\n",
       "      <td>75</td>\n",
       "      <td>Female</td>\n",
       "      <td>67</td>\n",
       "      <td>150</td>\n",
       "    </tr>\n",
       "    <tr>\n",
       "      <th>154</th>\n",
       "      <td>102</td>\n",
       "      <td>84</td>\n",
       "      <td>Female</td>\n",
       "      <td>64</td>\n",
       "      <td>150</td>\n",
       "    </tr>\n",
       "    <tr>\n",
       "      <th>38</th>\n",
       "      <td>73</td>\n",
       "      <td>47</td>\n",
       "      <td>Female</td>\n",
       "      <td>62</td>\n",
       "      <td>145</td>\n",
       "    </tr>\n",
       "    <tr>\n",
       "      <th>206</th>\n",
       "      <td>95</td>\n",
       "      <td>63</td>\n",
       "      <td>Male</td>\n",
       "      <td>73</td>\n",
       "      <td>192</td>\n",
       "    </tr>\n",
       "    <tr>\n",
       "      <th>18</th>\n",
       "      <td>76</td>\n",
       "      <td>75</td>\n",
       "      <td>Male</td>\n",
       "      <td>70</td>\n",
       "      <td>155</td>\n",
       "    </tr>\n",
       "    <tr>\n",
       "      <th>198</th>\n",
       "      <td>120</td>\n",
       "      <td>58</td>\n",
       "      <td>Male</td>\n",
       "      <td>71</td>\n",
       "      <td>187</td>\n",
       "    </tr>\n",
       "    <tr>\n",
       "      <th>226</th>\n",
       "      <td>97</td>\n",
       "      <td>55</td>\n",
       "      <td>Male</td>\n",
       "      <td>67</td>\n",
       "      <td>175</td>\n",
       "    </tr>\n",
       "    <tr>\n",
       "      <th>56</th>\n",
       "      <td>74</td>\n",
       "      <td>71</td>\n",
       "      <td>Male</td>\n",
       "      <td>70</td>\n",
       "      <td>190</td>\n",
       "    </tr>\n",
       "    <tr>\n",
       "      <th>147</th>\n",
       "      <td>76</td>\n",
       "      <td>84</td>\n",
       "      <td>Male</td>\n",
       "      <td>71</td>\n",
       "      <td>155</td>\n",
       "    </tr>\n",
       "    <tr>\n",
       "      <th>159</th>\n",
       "      <td>79</td>\n",
       "      <td>68</td>\n",
       "      <td>Male</td>\n",
       "      <td>69</td>\n",
       "      <td>163</td>\n",
       "    </tr>\n",
       "    <tr>\n",
       "      <th>19</th>\n",
       "      <td>86</td>\n",
       "      <td>68</td>\n",
       "      <td>Male</td>\n",
       "      <td>73</td>\n",
       "      <td>195</td>\n",
       "    </tr>\n",
       "    <tr>\n",
       "      <th>192</th>\n",
       "      <td>75</td>\n",
       "      <td>71</td>\n",
       "      <td>Male</td>\n",
       "      <td>70</td>\n",
       "      <td>175</td>\n",
       "    </tr>\n",
       "    <tr>\n",
       "      <th>109</th>\n",
       "      <td>94</td>\n",
       "      <td>83</td>\n",
       "      <td>Male</td>\n",
       "      <td>66</td>\n",
       "      <td>110</td>\n",
       "    </tr>\n",
       "    <tr>\n",
       "      <th>7</th>\n",
       "      <td>68</td>\n",
       "      <td>65</td>\n",
       "      <td>Male</td>\n",
       "      <td>70</td>\n",
       "      <td>200</td>\n",
       "    </tr>\n",
       "    <tr>\n",
       "      <th>124</th>\n",
       "      <td>72</td>\n",
       "      <td>63</td>\n",
       "      <td>Male</td>\n",
       "      <td>72</td>\n",
       "      <td>210</td>\n",
       "    </tr>\n",
       "    <tr>\n",
       "      <th>16</th>\n",
       "      <td>100</td>\n",
       "      <td>72</td>\n",
       "      <td>Male</td>\n",
       "      <td>74</td>\n",
       "      <td>200</td>\n",
       "    </tr>\n",
       "    <tr>\n",
       "      <th>1</th>\n",
       "      <td>82</td>\n",
       "      <td>68</td>\n",
       "      <td>Male</td>\n",
       "      <td>70</td>\n",
       "      <td>225</td>\n",
       "    </tr>\n",
       "    <tr>\n",
       "      <th>54</th>\n",
       "      <td>82</td>\n",
       "      <td>62</td>\n",
       "      <td>Male</td>\n",
       "      <td>74</td>\n",
       "      <td>194</td>\n",
       "    </tr>\n",
       "    <tr>\n",
       "      <th>52</th>\n",
       "      <td>92</td>\n",
       "      <td>69</td>\n",
       "      <td>Male</td>\n",
       "      <td>68</td>\n",
       "      <td>210</td>\n",
       "    </tr>\n",
       "    <tr>\n",
       "      <th>186</th>\n",
       "      <td>84</td>\n",
       "      <td>60</td>\n",
       "      <td>Male</td>\n",
       "      <td>72</td>\n",
       "      <td>177</td>\n",
       "    </tr>\n",
       "    <tr>\n",
       "      <th>46</th>\n",
       "      <td>74</td>\n",
       "      <td>67</td>\n",
       "      <td>Male</td>\n",
       "      <td>68</td>\n",
       "      <td>150</td>\n",
       "    </tr>\n",
       "    <tr>\n",
       "      <th>222</th>\n",
       "      <td>90</td>\n",
       "      <td>73</td>\n",
       "      <td>Male</td>\n",
       "      <td>70</td>\n",
       "      <td>205</td>\n",
       "    </tr>\n",
       "    <tr>\n",
       "      <th>231</th>\n",
       "      <td>81</td>\n",
       "      <td>62</td>\n",
       "      <td>Male</td>\n",
       "      <td>68</td>\n",
       "      <td>151</td>\n",
       "    </tr>\n",
       "  </tbody>\n",
       "</table>\n",
       "</div>"
      ],
      "text/plain": [
       "     Active  Rest     Sex  Hgt  Wgt\n",
       "119     127    69  Female   64  135\n",
       "163      97    73  Female   67  115\n",
       "9        70    59  Female   65  115\n",
       "61      104    82  Female   65  120\n",
       "43       86    63  Female   65  145\n",
       "201     106    78  Female   61  122\n",
       "199      96    74  Female   70  151\n",
       "161     144   106  Female   62  140\n",
       "228      82    74  Female   66  124\n",
       "29       90    85  Female   65  120\n",
       "107      87    80  Female   69  141\n",
       "89      128    64  Female   67  133\n",
       "189      79    58  Female   67  150\n",
       "20      110    72  Female   66  130\n",
       "146      95    63  Female   69  125\n",
       "187      65    75  Female   65  145\n",
       "90       68    56  Female   66  160\n",
       "167     107    75  Female   67  150\n",
       "154     102    84  Female   64  150\n",
       "38       73    47  Female   62  145\n",
       "206      95    63    Male   73  192\n",
       "18       76    75    Male   70  155\n",
       "198     120    58    Male   71  187\n",
       "226      97    55    Male   67  175\n",
       "56       74    71    Male   70  190\n",
       "147      76    84    Male   71  155\n",
       "159      79    68    Male   69  163\n",
       "19       86    68    Male   73  195\n",
       "192      75    71    Male   70  175\n",
       "109      94    83    Male   66  110\n",
       "7        68    65    Male   70  200\n",
       "124      72    63    Male   72  210\n",
       "16      100    72    Male   74  200\n",
       "1        82    68    Male   70  225\n",
       "54       82    62    Male   74  194\n",
       "52       92    69    Male   68  210\n",
       "186      84    60    Male   72  177\n",
       "46       74    67    Male   68  150\n",
       "222      90    73    Male   70  205\n",
       "231      81    62    Male   68  151"
      ]
     },
     "execution_count": 22,
     "metadata": {},
     "output_type": "execute_result"
    }
   ],
   "source": [
    "# YOUR CODE HERE\n",
    "#raise NotImplementedError()\n",
    "sample=pulse.groupby(\"Sex\").sample(20, replace=False)\n",
    "sample"
   ]
  },
  {
   "cell_type": "code",
   "execution_count": 23,
   "id": "ecd4befb-84c8-4985-9e64-32f62858c8a5",
   "metadata": {
    "deletable": false,
    "editable": false,
    "nbgrader": {
     "cell_type": "code",
     "checksum": "04ccc21d8a8d1fa4f66ee421c6566368",
     "grade": true,
     "grade_id": "cell-aa13981f3d95fd2d",
     "locked": true,
     "points": 2,
     "schema_version": 3,
     "solution": false,
     "task": false
    },
    "tags": []
   },
   "outputs": [],
   "source": [
    "# Komórka testowa\n",
    "assert type(sample) == pd.DataFrame\n"
   ]
  },
  {
   "cell_type": "markdown",
   "id": "55080b25-579b-43d3-964f-8e16a6eea104",
   "metadata": {
    "deletable": false,
    "editable": false,
    "nbgrader": {
     "cell_type": "markdown",
     "checksum": "34ce5ce16d7e6dd5b8394a6d0ee9c0b1",
     "grade": false,
     "grade_id": "cell-89f8cf6f4014b381",
     "locked": true,
     "schema_version": 3,
     "solution": false,
     "task": false
    },
    "tags": []
   },
   "source": [
    "### d)\n",
    "\n",
    "Korzystając z dedykowanej do tego funkcji pakietu scipy dokonaj estymacji przedziałowej współczynnika korelacji liniowej między tętnem aktywnym a pasywnym uczestników eksperymentu na poziomie istotności 1-alpha = 0.9.\n",
    "\n",
    "Wynik zapisz do zmiennej `r_ci` zawierającej listę lub krotkę z dolną i górną granicą przedziału ufności. Ustaw wartość argumentu funkcji odpowiadającego za ziarno generatora liczb losowych funkcji na 127."
   ]
  },
  {
   "cell_type": "code",
   "execution_count": 28,
   "id": "1b4e5e43-affd-407f-9cc6-d4eb9ab5c363",
   "metadata": {
    "deletable": false,
    "nbgrader": {
     "cell_type": "code",
     "checksum": "78f40c6027906ec7adb14be117447244",
     "grade": false,
     "grade_id": "cell-b6f52487824e8671",
     "locked": false,
     "schema_version": 3,
     "solution": true,
     "task": false
    },
    "tags": []
   },
   "outputs": [
    {
     "data": {
      "text/plain": [
       "[0.5205432785342576, 0.6788172347787544]"
      ]
     },
     "execution_count": 28,
     "metadata": {},
     "output_type": "execute_result"
    }
   ],
   "source": [
    "# YOUR CODE HERE\n",
    "#raise NotImplementedError()\n",
    "def calc_r(x, y):\n",
    "    return sp.stats.pearsonr(x,y).statistic\n",
    "cor=sp.stats.bootstrap((pulse[\"Active\"].values.T, pulse[\"Rest\"].values.T),calc_r, paired=True, confidence_level=0.9, random_state=127)\n",
    "r_ci=[cor.confidence_interval.low, cor.confidence_interval.high]\n",
    "r_ci"
   ]
  },
  {
   "cell_type": "code",
   "execution_count": 29,
   "id": "2dc24ca2-d6f8-47b2-b790-a2741cc2c6d1",
   "metadata": {
    "deletable": false,
    "editable": false,
    "nbgrader": {
     "cell_type": "code",
     "checksum": "50913673aa862438b445a5bf764a64ea",
     "grade": true,
     "grade_id": "cell-94f8e37e60f83338",
     "locked": true,
     "points": 3,
     "schema_version": 3,
     "solution": false,
     "task": false
    },
    "tags": []
   },
   "outputs": [],
   "source": [
    "# Komórka testowa\n",
    "assert type(r_ci)==tuple or type(r_ci)==list\n",
    "assert len(r_ci)==2\n",
    "assert isinstance(r_ci[0], float)\n",
    "assert isinstance(r_ci[1], float)\n"
   ]
  },
  {
   "cell_type": "markdown",
   "id": "46d91be5-def2-4da3-b834-bf03848f7d42",
   "metadata": {
    "deletable": false,
    "editable": false,
    "nbgrader": {
     "cell_type": "markdown",
     "checksum": "b122f5dfba2534da6ee39258dfd8126b",
     "grade": false,
     "grade_id": "cell-a26e10222f478e64",
     "locked": true,
     "schema_version": 3,
     "solution": false,
     "task": false
    },
    "tags": []
   },
   "source": [
    "### e)\n",
    "\n",
    "Korzystając z dedykowanej funkcji pakietu scipy zweryfikuj hipotezę, że tętna aktywne kobiet i mężczyzn biorących udział w eksperymencie mają taki sam rozkład statystyczny. W obliczeniach przyjmij poziom istotności 1 - alpha = 0.98.\n",
    "\n",
    "Zapisz obliczoną wartość pvalue do zmiennej `pvalue`, oraz przygotuj zmienną `H` zawierającą wynik testu statystycznego (0 - gdy wynik testu istotności nie daje podstaw do odrzucenia H0 na rzecz H1 na poziomie istotności 1-alpha, 1 - gdy następuje odrzucenie H0 na rzecz H1 na poziomie istotności 1-alpha)."
   ]
  },
  {
   "cell_type": "code",
   "execution_count": 39,
   "id": "ec0bce6e-e0a7-4e6f-bbe4-fb32ad1fad05",
   "metadata": {
    "deletable": false,
    "nbgrader": {
     "cell_type": "code",
     "checksum": "e97121b9a7833f020edc9ecd609fcfac",
     "grade": false,
     "grade_id": "cell-b644105f89af5513",
     "locked": false,
     "schema_version": 3,
     "solution": true,
     "task": false
    },
    "tags": []
   },
   "outputs": [
    {
     "ename": "ValueError",
     "evalue": "unequal length arrays",
     "output_type": "error",
     "traceback": [
      "\u001b[1;31m---------------------------------------------------------------------------\u001b[0m",
      "\u001b[1;31mValueError\u001b[0m                                Traceback (most recent call last)",
      "\u001b[1;32m~\\AppData\\Local\\Temp\\ipykernel_19084\\1425477724.py\u001b[0m in \u001b[0;36m?\u001b[1;34m()\u001b[0m\n\u001b[0;32m      1\u001b[0m \u001b[1;31m# YOUR CODE HERE\u001b[0m\u001b[1;33m\u001b[0m\u001b[1;33m\u001b[0m\u001b[0m\n\u001b[0;32m      2\u001b[0m \u001b[1;31m#raise NotImplementedError()\u001b[0m\u001b[1;33m\u001b[0m\u001b[1;33m\u001b[0m\u001b[0m\n\u001b[0;32m      3\u001b[0m \u001b[0mw\u001b[0m\u001b[1;33m=\u001b[0m\u001b[0mpulse\u001b[0m\u001b[1;33m.\u001b[0m\u001b[0mloc\u001b[0m\u001b[1;33m[\u001b[0m\u001b[0mpulse\u001b[0m\u001b[1;33m.\u001b[0m\u001b[0mSex\u001b[0m\u001b[1;33m==\u001b[0m\u001b[1;34m\"Female\"\u001b[0m\u001b[1;33m,\u001b[0m \u001b[1;34m\"Active\"\u001b[0m\u001b[1;33m]\u001b[0m\u001b[1;33m.\u001b[0m\u001b[0mdropna\u001b[0m\u001b[1;33m(\u001b[0m\u001b[1;33m)\u001b[0m\u001b[1;33m\u001b[0m\u001b[1;33m\u001b[0m\u001b[0m\n\u001b[0;32m      4\u001b[0m \u001b[0mm\u001b[0m\u001b[1;33m=\u001b[0m\u001b[0mpulse\u001b[0m\u001b[1;33m.\u001b[0m\u001b[0mloc\u001b[0m\u001b[1;33m[\u001b[0m\u001b[0mpulse\u001b[0m\u001b[1;33m.\u001b[0m\u001b[0mSex\u001b[0m\u001b[1;33m==\u001b[0m\u001b[1;34m\"Male\"\u001b[0m\u001b[1;33m,\u001b[0m \u001b[1;34m\"Active\"\u001b[0m\u001b[1;33m]\u001b[0m\u001b[1;33m.\u001b[0m\u001b[0mdropna\u001b[0m\u001b[1;33m(\u001b[0m\u001b[1;33m)\u001b[0m\u001b[1;33m\u001b[0m\u001b[1;33m\u001b[0m\u001b[0m\n\u001b[1;32m----> 5\u001b[1;33m \u001b[0mpvalue\u001b[0m\u001b[1;33m=\u001b[0m\u001b[0msp\u001b[0m\u001b[1;33m.\u001b[0m\u001b[0mstats\u001b[0m\u001b[1;33m.\u001b[0m\u001b[0mttest_rel\u001b[0m\u001b[1;33m(\u001b[0m\u001b[0mw\u001b[0m\u001b[1;33m,\u001b[0m \u001b[0mm\u001b[0m\u001b[1;33m)\u001b[0m\u001b[1;33m.\u001b[0m\u001b[0mpvalue\u001b[0m\u001b[1;33m\u001b[0m\u001b[1;33m\u001b[0m\u001b[0m\n\u001b[0m\u001b[0;32m      6\u001b[0m \u001b[0mpvalue\u001b[0m \u001b[1;33m/=\u001b[0m\u001b[1;36m2\u001b[0m\u001b[1;33m\u001b[0m\u001b[1;33m\u001b[0m\u001b[0m\n\u001b[0;32m      7\u001b[0m \u001b[1;32mif\u001b[0m \u001b[0mpvalue\u001b[0m\u001b[1;33m<\u001b[0m\u001b[1;36m0.02\u001b[0m\u001b[1;33m:\u001b[0m\u001b[1;33m\u001b[0m\u001b[1;33m\u001b[0m\u001b[0m\n\u001b[0;32m      8\u001b[0m     \u001b[0mH\u001b[0m\u001b[1;33m=\u001b[0m\u001b[1;36m1\u001b[0m\u001b[1;33m\u001b[0m\u001b[1;33m\u001b[0m\u001b[0m\n",
      "\u001b[1;32m~\\AppData\\Roaming\\Python\\Python312\\site-packages\\scipy\\stats\\_axis_nan_policy.py\u001b[0m in \u001b[0;36m?\u001b[1;34m(***failed resolving arguments***)\u001b[0m\n\u001b[0;32m    527\u001b[0m                 \u001b[1;31m# behavior of those would break backward compatibility.\u001b[0m\u001b[1;33m\u001b[0m\u001b[1;33m\u001b[0m\u001b[0m\n\u001b[0;32m    528\u001b[0m \u001b[1;33m\u001b[0m\u001b[0m\n\u001b[0;32m    529\u001b[0m                 \u001b[1;32mif\u001b[0m \u001b[0msentinel\u001b[0m\u001b[1;33m:\u001b[0m\u001b[1;33m\u001b[0m\u001b[1;33m\u001b[0m\u001b[0m\n\u001b[0;32m    530\u001b[0m                     \u001b[0msamples\u001b[0m \u001b[1;33m=\u001b[0m \u001b[0m_remove_sentinel\u001b[0m\u001b[1;33m(\u001b[0m\u001b[0msamples\u001b[0m\u001b[1;33m,\u001b[0m \u001b[0mpaired\u001b[0m\u001b[1;33m,\u001b[0m \u001b[0msentinel\u001b[0m\u001b[1;33m)\u001b[0m\u001b[1;33m\u001b[0m\u001b[1;33m\u001b[0m\u001b[0m\n\u001b[1;32m--> 531\u001b[1;33m                 \u001b[0mres\u001b[0m \u001b[1;33m=\u001b[0m \u001b[0mhypotest_fun_out\u001b[0m\u001b[1;33m(\u001b[0m\u001b[1;33m*\u001b[0m\u001b[0msamples\u001b[0m\u001b[1;33m,\u001b[0m \u001b[1;33m**\u001b[0m\u001b[0mkwds\u001b[0m\u001b[1;33m)\u001b[0m\u001b[1;33m\u001b[0m\u001b[1;33m\u001b[0m\u001b[0m\n\u001b[0m\u001b[0;32m    532\u001b[0m                 \u001b[0mres\u001b[0m \u001b[1;33m=\u001b[0m \u001b[0mresult_to_tuple\u001b[0m\u001b[1;33m(\u001b[0m\u001b[0mres\u001b[0m\u001b[1;33m)\u001b[0m\u001b[1;33m\u001b[0m\u001b[1;33m\u001b[0m\u001b[0m\n\u001b[0;32m    533\u001b[0m                 \u001b[0mres\u001b[0m \u001b[1;33m=\u001b[0m \u001b[0m_add_reduced_axes\u001b[0m\u001b[1;33m(\u001b[0m\u001b[0mres\u001b[0m\u001b[1;33m,\u001b[0m \u001b[0mreduced_axes\u001b[0m\u001b[1;33m,\u001b[0m \u001b[0mkeepdims\u001b[0m\u001b[1;33m)\u001b[0m\u001b[1;33m\u001b[0m\u001b[1;33m\u001b[0m\u001b[0m\n\u001b[0;32m    534\u001b[0m                 \u001b[1;32mreturn\u001b[0m \u001b[0mtuple_to_result\u001b[0m\u001b[1;33m(\u001b[0m\u001b[1;33m*\u001b[0m\u001b[0mres\u001b[0m\u001b[1;33m)\u001b[0m\u001b[1;33m\u001b[0m\u001b[1;33m\u001b[0m\u001b[0m\n",
      "\u001b[1;32m~\\AppData\\Roaming\\Python\\Python312\\site-packages\\scipy\\stats\\_stats_py.py\u001b[0m in \u001b[0;36m?\u001b[1;34m(a, b, axis, nan_policy, alternative)\u001b[0m\n\u001b[0;32m   7703\u001b[0m \u001b[1;33m\u001b[0m\u001b[0m\n\u001b[0;32m   7704\u001b[0m     \u001b[0mna\u001b[0m \u001b[1;33m=\u001b[0m \u001b[0m_get_len\u001b[0m\u001b[1;33m(\u001b[0m\u001b[0ma\u001b[0m\u001b[1;33m,\u001b[0m \u001b[0maxis\u001b[0m\u001b[1;33m,\u001b[0m \u001b[1;34m\"first argument\"\u001b[0m\u001b[1;33m)\u001b[0m\u001b[1;33m\u001b[0m\u001b[1;33m\u001b[0m\u001b[0m\n\u001b[0;32m   7705\u001b[0m     \u001b[0mnb\u001b[0m \u001b[1;33m=\u001b[0m \u001b[0m_get_len\u001b[0m\u001b[1;33m(\u001b[0m\u001b[0mb\u001b[0m\u001b[1;33m,\u001b[0m \u001b[0maxis\u001b[0m\u001b[1;33m,\u001b[0m \u001b[1;34m\"second argument\"\u001b[0m\u001b[1;33m)\u001b[0m\u001b[1;33m\u001b[0m\u001b[1;33m\u001b[0m\u001b[0m\n\u001b[0;32m   7706\u001b[0m     \u001b[1;32mif\u001b[0m \u001b[0mna\u001b[0m \u001b[1;33m!=\u001b[0m \u001b[0mnb\u001b[0m\u001b[1;33m:\u001b[0m\u001b[1;33m\u001b[0m\u001b[1;33m\u001b[0m\u001b[0m\n\u001b[1;32m-> 7707\u001b[1;33m         \u001b[1;32mraise\u001b[0m \u001b[0mValueError\u001b[0m\u001b[1;33m(\u001b[0m\u001b[1;34m'unequal length arrays'\u001b[0m\u001b[1;33m)\u001b[0m\u001b[1;33m\u001b[0m\u001b[1;33m\u001b[0m\u001b[0m\n\u001b[0m\u001b[0;32m   7708\u001b[0m \u001b[1;33m\u001b[0m\u001b[0m\n\u001b[0;32m   7709\u001b[0m     \u001b[1;32mif\u001b[0m \u001b[0mna\u001b[0m \u001b[1;33m==\u001b[0m \u001b[1;36m0\u001b[0m \u001b[1;32mor\u001b[0m \u001b[0mnb\u001b[0m \u001b[1;33m==\u001b[0m \u001b[1;36m0\u001b[0m\u001b[1;33m:\u001b[0m\u001b[1;33m\u001b[0m\u001b[1;33m\u001b[0m\u001b[0m\n\u001b[0;32m   7710\u001b[0m         \u001b[1;31m# _axis_nan_policy decorator ensures this only happens with 1d input\u001b[0m\u001b[1;33m\u001b[0m\u001b[1;33m\u001b[0m\u001b[0m\n",
      "\u001b[1;31mValueError\u001b[0m: unequal length arrays"
     ]
    }
   ],
   "source": [
    "# YOUR CODE HERE\n",
    "#raise NotImplementedError()\n",
    "w=pulse.loc[pulse.Sex==\"Female\", \"Active\"].dropna()\n",
    "m=pulse.loc[pulse.Sex==\"Male\", \"Active\"].dropna()\n",
    "pvalue=sp.stats.kstest(w, m).pvalue\n",
    "pvalue /=2\n",
    "if pvalue<0.02:\n",
    "    H=1\n",
    "else:\n",
    "    H=0\n",
    "pvalue"
   ]
  },
  {
   "cell_type": "code",
   "execution_count": null,
   "id": "cc7e70ab-6d87-4f57-837d-11cb4b116056",
   "metadata": {
    "deletable": false,
    "editable": false,
    "nbgrader": {
     "cell_type": "code",
     "checksum": "f5b3667c0dbc30c17a0b525178de2fbf",
     "grade": true,
     "grade_id": "cell-2dd896b4ca1ac760",
     "locked": true,
     "points": 2,
     "schema_version": 3,
     "solution": false,
     "task": false
    },
    "tags": []
   },
   "outputs": [],
   "source": [
    "# Komórka testowa\n",
    "assert isinstance(pvalue, float)\n",
    "assert isinstance(H, float) or isinstance(H, int)\n"
   ]
  }
 ],
 "metadata": {
  "kernelspec": {
   "display_name": "Python 3 (ipykernel)",
   "language": "python",
   "name": "python3"
  },
  "language_info": {
   "codemirror_mode": {
    "name": "ipython",
    "version": 3
   },
   "file_extension": ".py",
   "mimetype": "text/x-python",
   "name": "python",
   "nbconvert_exporter": "python",
   "pygments_lexer": "ipython3",
   "version": "3.12.8"
  }
 },
 "nbformat": 4,
 "nbformat_minor": 5
}
