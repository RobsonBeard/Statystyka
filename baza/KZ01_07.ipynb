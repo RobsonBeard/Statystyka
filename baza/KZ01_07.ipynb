{
 "cells": [
  {
   "cell_type": "markdown",
   "id": "fef902dc",
   "metadata": {
    "deletable": false,
    "editable": false,
    "nbgrader": {
     "cell_type": "markdown",
     "checksum": "fa74cc5b13ba0c07f2f9277490d0fd6f",
     "grade": false,
     "grade_id": "cell-fcd2666579131b77",
     "locked": true,
     "schema_version": 3,
     "solution": false,
     "task": false
    },
    "tags": []
   },
   "source": [
    "# Statystyka matematyczna - ćwiczenia laboratoryjne 2023/2024\n",
    "\n",
    "Ten notatnik zalicza się do grupy zestawów zadań, na podstawie których odbywa się zaliczenie ćwiczeń i podlega zwrotowi do oceny w ustalonym na zajęciach terminie.\n",
    "\n",
    "Uwagi i wytyczne ogólne dotyczące uzupełniania notatnika:\n",
    "- Podczas wykonywania zadań należy korzystać wyłącznie z pakietów zaimportowanych na początku notatnika oraz z pakietów wchodzących w skład standardowej biblioteki Pythona, które można zaimportować samodzielnie we wskazanej komórce notatnika.\n",
    "- Swoje rozwiązania należy wprowadzać wyłącznie w miejce następujących fragmentów kodu:<br/> `# YOUR CODE HERE`<br/> `raise NotImplementedError()`<br/> \n",
    "a odpowiedzi tekstowe w komórkach oznaczonych hasłem:<br/> \n",
    "`YOUR ANSWER HERE`<br/> \n",
    "Nie należy w żaden sposób modyfikować pozostałych fragmentów kodu oraz innych elementów notatnika, w szczególności dodawać lub usuwać komórek oraz zmieniać nazwy pliku.\n",
    "- Otrzymywane wyniki i odpowiedzi mają być rezultatem wykonania napisanego kodu.\n",
    "- Zadanie należy wykonać w taki sposób, aby podczas wykonywania kodu nie zostały wyświetlone żadne ostrzeżenia.\n",
    "- Zawarte w notatniku automatyczne testy mają charakter poglądowy. Dotyczą one wybranych aspektów zadań i mają za zadanie wyłapać podstawowe błędy. Przejście wszystkich testów nie oznacza, że zadanie jest wykonane w całości poprawnie.\n",
    "\n",
    "Uwagi i wytyczne ogólne dotyczące wizualizacji wyników:\n",
    "- Wszystkie wykresy powinny być wykonane w jednolitym, przejrzystym i czytelnym stylu, posiadać odpowiednio dobrane proporcje i zakresy wartości osi.\n",
    "- Wykresy oraz ich osie powinny mieć nadane tytuły. Jeżeli w obrębie figury znajduje się więcej niż jeden wykres to figura również powinna mieć nadany tytuł. \n",
    "- Figury powinny mieć ustawione białe tło, tak, aby niezależnie od ustawień notatnika wszystkie elementy wykresów były dobrze widoczne (domyślnie tło jest przeźroczyste co może powodować problemy w notatnikach z ustawionym ciemnym tłem).\n",
    "- Rozmiar poziomy figur nie powinien przekraczać 20 cali.\n",
    "\n",
    "Przed odesłaniem zestawu zadań do oceny proszę uzupełnić komórkę z danymi autora rozwiązania (imię, nazwisko i numer indeksu) oraz upewnić się, że notatnik działa zgodnie z oczekiwaniami. W tym celu należy skorzystać z opcji **Restart Kernel and Run All Cells...** dostępnej na górnej belce notatnika pod symbolem $\\blacktriangleright\\blacktriangleright$."
   ]
  },
  {
   "cell_type": "markdown",
   "id": "6aa68c5e",
   "metadata": {},
   "source": [
    "Imię i nazwisko:\n",
    "Numer indeksu:"
   ]
  },
  {
   "cell_type": "markdown",
   "id": "b83c2bbe",
   "metadata": {
    "deletable": false,
    "editable": false,
    "nbgrader": {
     "cell_type": "markdown",
     "checksum": "eddc8826810e4a6f7bf68319da334bd9",
     "grade": false,
     "grade_id": "cell-109006d425e5cf83",
     "locked": true,
     "schema_version": 3,
     "solution": false,
     "task": false
    },
    "tags": []
   },
   "source": [
    "---"
   ]
  },
  {
   "cell_type": "markdown",
   "id": "0f6ce37e-54ef-468a-9ad8-0506d41ebbf3",
   "metadata": {
    "deletable": false,
    "editable": false,
    "nbgrader": {
     "cell_type": "markdown",
     "checksum": "2053ccce39ea7c6dbee7de80b47b7e98",
     "grade": false,
     "grade_id": "cell-13e9eed5ad8c3d36",
     "locked": true,
     "schema_version": 3,
     "solution": false,
     "task": false
    },
    "tags": []
   },
   "source": [
    "# Kolowkium zaliczeniowe: 1 termin, grupa 7"
   ]
  },
  {
   "cell_type": "code",
   "execution_count": null,
   "id": "0f4cfc8d-b165-4fb3-8411-cc1bedc50b4a",
   "metadata": {
    "deletable": false,
    "editable": false,
    "nbgrader": {
     "cell_type": "code",
     "checksum": "616689a0960f55908943694ba894fe41",
     "grade": false,
     "grade_id": "cell-dd16a23dce6aaa4b",
     "locked": true,
     "schema_version": 3,
     "solution": false,
     "task": false
    },
    "tags": []
   },
   "outputs": [],
   "source": [
    "import numpy as np\n",
    "import pandas as pd\n",
    "import scipy as sp\n",
    "import matplotlib as mpl\n",
    "import matplotlib.pyplot as plt\n",
    "import seaborn as sns"
   ]
  },
  {
   "cell_type": "code",
   "execution_count": null,
   "id": "17268a1b-ea72-40b1-abb7-a3f6d6fc2d83",
   "metadata": {},
   "outputs": [],
   "source": [
    "# Miejsce do importu pakietów wchodzących w skład standardowej biblioteki Pythona oraz ustawienie opcji wykorzystywanych pakietów"
   ]
  },
  {
   "cell_type": "markdown",
   "id": "4b5c05f1-bdb1-4465-af3e-141900df4b1a",
   "metadata": {
    "deletable": false,
    "editable": false,
    "nbgrader": {
     "cell_type": "markdown",
     "checksum": "6cba2f0b0fe42e83d1c52878c82f2ee3",
     "grade": false,
     "grade_id": "cell-5f6f768907bd4196",
     "locked": true,
     "schema_version": 3,
     "solution": false,
     "task": false
    },
    "tags": []
   },
   "source": [
    "## Dane do automatycznych testów"
   ]
  },
  {
   "cell_type": "code",
   "execution_count": null,
   "id": "8edaf2cb-352b-4edb-84f2-9b99232810fc",
   "metadata": {
    "deletable": false,
    "editable": false,
    "nbgrader": {
     "cell_type": "code",
     "checksum": "fdc34b541c6ab1eeeee53af9c4e0c419",
     "grade": false,
     "grade_id": "cell-7c25b75ddb75a3d2",
     "locked": true,
     "schema_version": 3,
     "solution": false,
     "task": false
    },
    "tags": []
   },
   "outputs": [],
   "source": [
    "test_data_1 = pd.DataFrame(data=np.concatenate([sp.stats.norm.rvs(loc=4, scale=0.2, size=45, random_state=7), sp.stats.norm.rvs(loc=5.5, scale=0.4, size=85, random_state=2159)]), columns=[\"X\"])\n",
    "test_data_1.head()"
   ]
  },
  {
   "cell_type": "code",
   "execution_count": null,
   "id": "0e246dd6-845d-4120-8d5a-5b7a14c50f95",
   "metadata": {
    "deletable": false,
    "editable": false,
    "nbgrader": {
     "cell_type": "code",
     "checksum": "3e37330ab2084cf19310075344ea9398",
     "grade": false,
     "grade_id": "cell-5b3139e43775c32f",
     "locked": true,
     "schema_version": 3,
     "solution": false,
     "task": false
    },
    "tags": []
   },
   "outputs": [],
   "source": [
    "test_data_2 = pd.DataFrame(data=sp.stats.norm.rvs(loc=5, scale=0.2, size=15, random_state=7), columns=[\"X\"])\n",
    "test_data_2.head()"
   ]
  },
  {
   "cell_type": "markdown",
   "id": "fc6595a2-d18f-486a-81e8-71840b0665a3",
   "metadata": {
    "deletable": false,
    "editable": false,
    "nbgrader": {
     "cell_type": "markdown",
     "checksum": "3f4875b69da966e8ed808d2add38624c",
     "grade": false,
     "grade_id": "cell-884c1d189e37b467",
     "locked": true,
     "schema_version": 3,
     "solution": false,
     "task": false
    },
    "tags": []
   },
   "source": [
    "## Zadanie 1 [4 pkt]\n",
    "\n",
    "Na pewnym skrzyżowaniu dochodzi średnio do 2 stłuczek dziennie.\n",
    "\n",
    "Jakie jest prawdopodobieństwo, że w ciągu najbliższego tygodnia (7 dni) będzie miało miejsce co najmniej 15 stłuczek?\n",
    "\n",
    "Wynik zapisz do zmiennej `p`."
   ]
  },
  {
   "cell_type": "code",
   "execution_count": null,
   "id": "1199aed7-ae66-4095-9068-13199ace4cb8",
   "metadata": {
    "deletable": false,
    "nbgrader": {
     "cell_type": "code",
     "checksum": "e6af11d29e75a43228849bc7e6c4040a",
     "grade": false,
     "grade_id": "cell-328b607aafafa4ce",
     "locked": false,
     "schema_version": 3,
     "solution": true,
     "task": false
    },
    "tags": []
   },
   "outputs": [],
   "source": [
    "# YOUR CODE HERE\n",
    "raise NotImplementedError()"
   ]
  },
  {
   "cell_type": "code",
   "execution_count": null,
   "id": "7b9b7282-5658-45b2-829f-f51fae893755",
   "metadata": {
    "deletable": false,
    "editable": false,
    "nbgrader": {
     "cell_type": "code",
     "checksum": "9995b074837229bb35050fca3565bc06",
     "grade": true,
     "grade_id": "cell-e646a3ab55f95f64",
     "locked": true,
     "points": 4,
     "schema_version": 3,
     "solution": false,
     "task": false
    },
    "tags": []
   },
   "outputs": [],
   "source": [
    "# Komórka testowa\n",
    "assert isinstance(p, float)\n"
   ]
  },
  {
   "cell_type": "markdown",
   "id": "d7f6d1be-c897-4b77-9be2-62d4f356f9da",
   "metadata": {
    "deletable": false,
    "editable": false,
    "nbgrader": {
     "cell_type": "markdown",
     "checksum": "7b7a2e05ed3e8a4d0a006be7c6ef3ac9",
     "grade": false,
     "grade_id": "cell-cf4de8070334ee9b",
     "locked": true,
     "schema_version": 3,
     "solution": false,
     "task": false
    },
    "tags": []
   },
   "source": [
    "## Zadanie 2 [8 pkt]\n",
    "\n",
    "Przygotuj funkcję `simple_kde_estimation()`, która będzie dokonywała estymacji nieparametrycznej metodą funkcji jądrowych z wykorzystaniem jądra w postaci rozkładu normalnego o odchyleniu normalnym $\\sigma$ zgodnie z informacjami zawartymi w docstring funkcji oraz schematem z załączonego do notatnika zestawu wzorów.\n",
    "\n",
    "Poza zwracaniem danych określonych w docstring funkcji powinna ona generować wykres zawierający wyestymowaną funkcję (wykres liniowy z wypełnionym polem pod krzywą) oraz dodaną wizualną reprezentacją zestawu danych w postaci zbioru symboli (| lub +) zlokalizowanych poniżej wykresu.\n",
    "\n",
    "Uwagi do wykonania zadania:\n",
    " - Celem zadania jest napisanie funkcji od podstaw, w rozwiązaniu nie należy korzystać z gotowych funkcji do estymacji KDE.\n",
    " - Przygotowując figurę kieruj się wytycznymi z początku notatnika."
   ]
  },
  {
   "cell_type": "code",
   "execution_count": null,
   "id": "6469ea3f-f0dd-4dac-bec4-ff9018780969",
   "metadata": {
    "deletable": false,
    "nbgrader": {
     "cell_type": "code",
     "checksum": "81aca216198b8c2dd2e2220507e5a2da",
     "grade": false,
     "grade_id": "cell-00b25bd896944c4d",
     "locked": false,
     "schema_version": 3,
     "solution": true,
     "task": false
    },
    "tags": []
   },
   "outputs": [],
   "source": [
    "def simple_kde_estimation(data, estimation_points, sigma):\n",
    "    \"\"\"\n",
    "    Parameters\n",
    "    -------\n",
    "    data: DataFrame\n",
    "        Tablica zawierająca domyślny indeks i pojedynczą kolumnę \"X\" z wartościami próby losowej.\n",
    "    estimation_points: int\n",
    "        Liczba punktów estymacji funkcji gęstości prawdopodobieństwa.\n",
    "    sigma: float\n",
    "        Odchylenie standardowe rozkładu normalnego wykorzystywanego jako jądro funkcji.\n",
    "    \n",
    "    Returns\n",
    "    -------\n",
    "    pdf: DataFrame\n",
    "        Tablica zawierająca następujące kolumny:\n",
    "        X - uszeregowane rosnąco punkty estymacji funkcji gęstości prawdopodobieństwa,\n",
    "        KDE - wyestymowane wartości funkcji gęstości prawdopodobieństwa.\n",
    "    \"\"\"\n",
    "    # YOUR CODE HERE\n",
    "    raise NotImplementedError()"
   ]
  },
  {
   "cell_type": "code",
   "execution_count": null,
   "id": "74dc6887-190d-449f-9be8-0f7381d5307a",
   "metadata": {
    "deletable": false,
    "editable": false,
    "nbgrader": {
     "cell_type": "code",
     "checksum": "28febcc176f15390ca922b2ccc5188b0",
     "grade": true,
     "grade_id": "cell-60ea6c2bcb228b58",
     "locked": true,
     "points": 8,
     "schema_version": 3,
     "solution": false,
     "task": false
    },
    "tags": []
   },
   "outputs": [],
   "source": [
    "# Komórka testowa\n",
    "test_results_1 = simple_kde_estimation(test_data_1, estimation_points=100, sigma=0.2)\n",
    "test_results_2 = simple_kde_estimation(test_data_1, estimation_points=250, sigma=0.35)\n",
    "\n",
    "assert type(test_results_1) == pd.DataFrame\n",
    "assert type(test_results_2) == pd.DataFrame\n"
   ]
  },
  {
   "cell_type": "markdown",
   "id": "77964cda-1984-441e-abd2-9d5f6fb267c9",
   "metadata": {
    "deletable": false,
    "editable": false,
    "nbgrader": {
     "cell_type": "markdown",
     "checksum": "a4ea5a837b01f4eb4f0b4c1bce9186e4",
     "grade": false,
     "grade_id": "cell-c8e867a6c3891000",
     "locked": true,
     "schema_version": 3,
     "solution": false,
     "task": false
    },
    "tags": []
   },
   "source": [
    "## Zadanie 3 [6 pkt]\n",
    "\n",
    "Przygotuj funkcję `variance_NHST()`, która będzie weryfikować hipotezę o wartości wariancji dla danych wejściowych w postaci szeregu szczegółowego zgodnie z informacjami zawartymi w docstring funkcji oraz ze schematem z załączonego do notatnika zestawu wzorów.\n",
    "\n",
    "Uwaga! Zadanie dotyczy tradycyjnej weryfikacji, nie metody bootstrap."
   ]
  },
  {
   "cell_type": "code",
   "execution_count": null,
   "id": "97e358ac-380e-4057-b4ee-fd8a54e29cb4",
   "metadata": {
    "deletable": false,
    "nbgrader": {
     "cell_type": "code",
     "checksum": "fbe5f9df30fb3115385b70b02e1a0c34",
     "grade": false,
     "grade_id": "cell-146cf426bb90e71e",
     "locked": false,
     "schema_version": 3,
     "solution": true,
     "task": false
    },
    "tags": []
   },
   "outputs": [],
   "source": [
    "def variance_NHST(data, H0, H1, alpha):\n",
    "    \"\"\"\n",
    "    Parameters\n",
    "    -------\n",
    "    data: DataFrame\n",
    "        Tablica zawierająca domyślny indeks i kolumnę \"X\" wynikami próby losowej.\n",
    "    H0: float\n",
    "        Wariancji przyjęta jako hipoteza zerowa.\n",
    "    H1: str\n",
    "        Postać hipotezy alternatywnej, przyjmuje wartości:\n",
    "        - two-sided: wariancja jest różna od wartości przyjętej w H0,\n",
    "        - less: wariancja jest mniejsza od wartości przyjętej w H0,\n",
    "        - greater: wariancja jest większa od wartości przyjętej w H0.\n",
    "    alpha: float\n",
    "        Wartość określająca poziom istotności.\n",
    "    \n",
    "    Returns\n",
    "    -------\n",
    "    chi2: float\n",
    "        Wyliczona na podstawie próby losowej wartość statystyki chi2.\n",
    "    chi2_alpha: float or list\n",
    "        Wartość statystyki chi2_alpha lub lista z dwoma wartościami chi2_alpha_1 i chi2_alpha_2\n",
    "    H: int\n",
    "        Wynik testu statystycznego, przyjmuje wartość:\n",
    "        0 - gdy wynik testu istotności nie daje podstaw do odrzucenia H0 na rzecz H1 na poziomie istotności 1-alpha,\n",
    "        1 - gdy następuje odrzucenie H0 na rzecz H1 na poziomie istotności 1-alpha.\n",
    "    \"\"\"\n",
    "    # YOUR CODE HERE\n",
    "    raise NotImplementedError()"
   ]
  },
  {
   "cell_type": "code",
   "execution_count": null,
   "id": "758ec4ce-2cd7-4e0c-9f4c-4f532d74a519",
   "metadata": {
    "deletable": false,
    "editable": false,
    "nbgrader": {
     "cell_type": "code",
     "checksum": "45f143bfda233d7dc7bf79bb47576c31",
     "grade": true,
     "grade_id": "cell-aa9e98593265cfc8",
     "locked": true,
     "points": 6,
     "schema_version": 3,
     "solution": false,
     "task": false
    },
    "tags": []
   },
   "outputs": [],
   "source": [
    "# Komórka testowa\n",
    "result = variance_NHST(test_data_2, 0.1, \"two-sided\", 0.05)\n",
    "assert type(result)==tuple or type(result)==list\n",
    "assert len(result)==3\n",
    "assert isinstance(result[0], float)\n",
    "assert type(result)==tuple or type(result)==list\n",
    "assert isinstance(result[2], float) or isinstance(result[2], int)\n",
    "\n",
    "result = variance_NHST(test_data_2, 0.1, \"less\", 0.05)\n",
    "assert type(result)==tuple or type(result)==list\n",
    "assert len(result)==3\n",
    "assert isinstance(result[0], float)\n",
    "assert isinstance(result[0], float)\n",
    "assert isinstance(result[2], float) or isinstance(result[2], int)\n"
   ]
  },
  {
   "cell_type": "markdown",
   "id": "b5fe3dfa-2d15-4343-8774-9dcf70974f59",
   "metadata": {
    "deletable": false,
    "editable": false,
    "nbgrader": {
     "cell_type": "markdown",
     "checksum": "b1fdc1e6c18703e61b64a91e7e57a5e8",
     "grade": false,
     "grade_id": "cell-6028b9fa6492116d",
     "locked": true,
     "schema_version": 3,
     "solution": false,
     "task": false
    },
    "tags": []
   },
   "source": [
    "## Zadanie 4 [10 pkt]\n",
    "\n",
    "Zmienna `penguins` zawiera wyniki badania pingwinów przeprowadzonych na wyspach Archipelagu Palmera (Antarktyda):\n",
    " - species - gatunek pingwina\n",
    " - culmen_length_mm - długość dzioba (mm)\n",
    " - culmen_depth_mm - głębokość dzioba (mm)\n",
    " - flipper_length_mm - długość płetwy (mm)\n",
    " - body_mass_g - masa ciała (g)\n",
    " - island - nazwa wyspy\n",
    " - sex - płeć pingwina"
   ]
  },
  {
   "cell_type": "code",
   "execution_count": null,
   "id": "363b601f-d405-487c-acdd-fd55889e0aea",
   "metadata": {
    "deletable": false,
    "editable": false,
    "nbgrader": {
     "cell_type": "code",
     "checksum": "2f27f29f2ca795971d5a5eed0fbbde09",
     "grade": false,
     "grade_id": "cell-c89d92fcb70b8807",
     "locked": true,
     "schema_version": 3,
     "solution": false,
     "task": false
    },
    "tags": []
   },
   "outputs": [],
   "source": [
    "penguins = pd.read_csv(\"penguins_data.csv\", index_col=0)\n",
    "penguins"
   ]
  },
  {
   "cell_type": "markdown",
   "id": "9666393c-d9b2-4ea1-85e8-6e90b19a0328",
   "metadata": {
    "deletable": false,
    "editable": false,
    "nbgrader": {
     "cell_type": "markdown",
     "checksum": "0fc63ae797ee11963fd685a2784fa13c",
     "grade": false,
     "grade_id": "cell-91ad70eef9e6a4bf",
     "locked": true,
     "schema_version": 3,
     "solution": false,
     "task": false
    },
    "tags": []
   },
   "source": [
    "### a)\n",
    "W oparciu o dane ze zmiennej `penguins` przygotuj wykresy violinplot i stripplot wybranego przez siebie parametru liczbowego (oś Y) z podziałem na rozróżnione kolorem gatunki pingwinów (oś X).\n",
    "\n",
    "Wykresy zestaw na pojedynczej figurze (1x2 pola na wykres). Przygotowując figurę kieruj się wytycznymi z początku notatnika. Dodatkowo ustaw:\n",
    " - dla wykresu violinplot:\n",
    "     - inne od domyślnych kolory wykresu,\n",
    " - dla wykresu stripplot:\n",
    "     - inne od domyślnych rozmiar, kolory i przeźroczystość punktów (dobierz parametry tak, aby wykres był jak najbardziej przejrzysty) oraz rozsunięcie poszczególnych grup punktów."
   ]
  },
  {
   "cell_type": "code",
   "execution_count": null,
   "id": "5f6a654d-6dcb-4a39-8616-a3525ee6f9c8",
   "metadata": {
    "deletable": false,
    "nbgrader": {
     "cell_type": "code",
     "checksum": "e1b8d97d77f6c16c0ca5e7cbc817485d",
     "grade": true,
     "grade_id": "cell-da00623fe210a9ed",
     "locked": false,
     "points": 3,
     "schema_version": 3,
     "solution": true,
     "task": false
    },
    "tags": []
   },
   "outputs": [],
   "source": [
    "# YOUR CODE HERE\n",
    "raise NotImplementedError()"
   ]
  },
  {
   "cell_type": "markdown",
   "id": "49fd404d-49f5-41e6-b532-5e337a99cd0a",
   "metadata": {
    "deletable": false,
    "editable": false,
    "nbgrader": {
     "cell_type": "markdown",
     "checksum": "53dab6f8eb67dc7b015a29e8c6767987",
     "grade": false,
     "grade_id": "cell-3908c0cf62502442",
     "locked": true,
     "schema_version": 3,
     "solution": false,
     "task": false
    },
    "tags": []
   },
   "source": [
    "### c)\n",
    "\n",
    "Załóżmy, że zmianna `penguins` zawiera pełną populację pingwinów zamieszkujących poszczególne wyspy. Wylosuj z niej i zapisz do zmiennej `sample` próbę losową zawierającą po 20% losowo wybranych osobników zamieszkujących każdą z wysp (bez zwracania)."
   ]
  },
  {
   "cell_type": "code",
   "execution_count": null,
   "id": "1d56174f-393b-4404-8003-14ae976b428b",
   "metadata": {
    "deletable": false,
    "nbgrader": {
     "cell_type": "code",
     "checksum": "0411dba8c92acfe703947474cf782a8e",
     "grade": false,
     "grade_id": "cell-6060bc71a588c481",
     "locked": false,
     "schema_version": 3,
     "solution": true,
     "task": false
    },
    "tags": []
   },
   "outputs": [],
   "source": [
    "# YOUR CODE HERE\n",
    "raise NotImplementedError()"
   ]
  },
  {
   "cell_type": "code",
   "execution_count": null,
   "id": "cf0e46e1-d92f-448c-b0a6-28a8cf5aae9b",
   "metadata": {
    "deletable": false,
    "editable": false,
    "nbgrader": {
     "cell_type": "code",
     "checksum": "d0438a7386a21eccb9c6680ab9d7f5ea",
     "grade": true,
     "grade_id": "cell-eced5f1fe29d8b10",
     "locked": true,
     "points": 2,
     "schema_version": 3,
     "solution": false,
     "task": false
    },
    "tags": []
   },
   "outputs": [],
   "source": [
    "# Komórka testowa\n",
    "assert type(sample) == pd.DataFrame\n"
   ]
  },
  {
   "cell_type": "markdown",
   "id": "55080b25-579b-43d3-964f-8e16a6eea104",
   "metadata": {
    "deletable": false,
    "editable": false,
    "nbgrader": {
     "cell_type": "markdown",
     "checksum": "cd5b6ff79eeb5cc35357a6664aaa71e8",
     "grade": false,
     "grade_id": "cell-89f8cf6f4014b381",
     "locked": true,
     "schema_version": 3,
     "solution": false,
     "task": false
    },
    "tags": []
   },
   "source": [
    "### c)\n",
    "\n",
    "Korzystając z dedykowanej do tego funkcji pakietu scipy dokonaj estymacji przedziałowej metodą bootstrap współczynnika a prostej regresji liniowej (ax+b) między długością płetw a masą ciała pingwinów na poziomie istotności 1-alpha = 0.98.\n",
    "\n",
    "Wynik zapisz do zmiennej `a_ci` zawierającej listę lub krotkę z dolną i górną granicą przedziału ufności. Ustaw wartość argumentu funkcji odpowiadającego za ziarno generatora liczb losowych funkcji na 34."
   ]
  },
  {
   "cell_type": "code",
   "execution_count": null,
   "id": "1b4e5e43-affd-407f-9cc6-d4eb9ab5c363",
   "metadata": {
    "deletable": false,
    "nbgrader": {
     "cell_type": "code",
     "checksum": "78f40c6027906ec7adb14be117447244",
     "grade": false,
     "grade_id": "cell-b6f52487824e8671",
     "locked": false,
     "schema_version": 3,
     "solution": true,
     "task": false
    },
    "tags": []
   },
   "outputs": [],
   "source": [
    "# YOUR CODE HERE\n",
    "raise NotImplementedError()"
   ]
  },
  {
   "cell_type": "code",
   "execution_count": null,
   "id": "2dc24ca2-d6f8-47b2-b790-a2741cc2c6d1",
   "metadata": {
    "deletable": false,
    "editable": false,
    "nbgrader": {
     "cell_type": "code",
     "checksum": "32167a9c9451943dc23ad05f6f42d9f9",
     "grade": true,
     "grade_id": "cell-94f8e37e60f83338",
     "locked": true,
     "points": 3,
     "schema_version": 3,
     "solution": false,
     "task": false
    },
    "tags": []
   },
   "outputs": [],
   "source": [
    "# Komórka testowa\n",
    "assert type(a_ci)==tuple or type(a_ci)==list\n",
    "assert len(a_ci)==2\n",
    "assert isinstance(a_ci[0], float)\n",
    "assert isinstance(a_ci[1], float)\n"
   ]
  },
  {
   "cell_type": "markdown",
   "id": "46d91be5-def2-4da3-b834-bf03848f7d42",
   "metadata": {
    "deletable": false,
    "editable": false,
    "nbgrader": {
     "cell_type": "markdown",
     "checksum": "4e6c66baedb7ee2eda16aa62667ee192",
     "grade": false,
     "grade_id": "cell-a26e10222f478e64",
     "locked": true,
     "schema_version": 3,
     "solution": false,
     "task": false
    },
    "tags": []
   },
   "source": [
    "### d)\n",
    "\n",
    "Korzystając z dedykowanej funkcji pakietu scipy zweryfikuj hipotezę, że średnia długość dzioba pingwinów z gatunku Gentoo jest równa 48 mm względem hipotezy alternatywnej, że jest mniejsza od 48 mm. W obliczeniach przyjmij poziom istotności 1 - alpha = 0.98.\n",
    "\n",
    "Zapisz obliczoną wartość pvalue do zmiennej `pvalue`, oraz przygotuj zmienną `H` zawierającą wynik testu statystycznego (0 - gdy wynik testu istotności nie daje podstaw do odrzucenia H0 na rzecz H1 na poziomie istotności 1-alpha, 1 - gdy następuje odrzucenie H0 na rzecz H1 na poziomie istotności 1-alpha)."
   ]
  },
  {
   "cell_type": "code",
   "execution_count": null,
   "id": "ec0bce6e-e0a7-4e6f-bbe4-fb32ad1fad05",
   "metadata": {
    "deletable": false,
    "nbgrader": {
     "cell_type": "code",
     "checksum": "e97121b9a7833f020edc9ecd609fcfac",
     "grade": false,
     "grade_id": "cell-b644105f89af5513",
     "locked": false,
     "schema_version": 3,
     "solution": true,
     "task": false
    },
    "tags": []
   },
   "outputs": [],
   "source": [
    "# YOUR CODE HERE\n",
    "raise NotImplementedError()"
   ]
  },
  {
   "cell_type": "code",
   "execution_count": null,
   "id": "cc7e70ab-6d87-4f57-837d-11cb4b116056",
   "metadata": {
    "deletable": false,
    "editable": false,
    "nbgrader": {
     "cell_type": "code",
     "checksum": "f5b3667c0dbc30c17a0b525178de2fbf",
     "grade": true,
     "grade_id": "cell-2dd896b4ca1ac760",
     "locked": true,
     "points": 2,
     "schema_version": 3,
     "solution": false,
     "task": false
    },
    "tags": []
   },
   "outputs": [],
   "source": [
    "# Komórka testowa\n",
    "assert isinstance(pvalue, float)\n",
    "assert isinstance(H, float) or isinstance(H, int)\n"
   ]
  }
 ],
 "metadata": {
  "kernelspec": {
   "display_name": "Python 3 (ipykernel)",
   "language": "python",
   "name": "python3"
  },
  "language_info": {
   "codemirror_mode": {
    "name": "ipython",
    "version": 3
   },
   "file_extension": ".py",
   "mimetype": "text/x-python",
   "name": "python",
   "nbconvert_exporter": "python",
   "pygments_lexer": "ipython3",
   "version": "3.9.12"
  }
 },
 "nbformat": 4,
 "nbformat_minor": 5
}
