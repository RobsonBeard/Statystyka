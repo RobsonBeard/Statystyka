{
 "cells": [
  {
   "cell_type": "markdown",
   "id": "87aa93e3",
   "metadata": {
    "deletable": false,
    "editable": false,
    "nbgrader": {
     "cell_type": "markdown",
     "checksum": "195534d4a61a341068cf0f6fbe9188c7",
     "grade": false,
     "grade_id": "cell-fcd2666579131b77",
     "locked": true,
     "schema_version": 3,
     "solution": false,
     "task": false
    },
    "tags": []
   },
   "source": [
    "# Statystyka matematyczna - ćwiczenia laboratoryjne\n",
    "\n",
    "Ten notatnik ma charakter wyłącznie ćwiczeniowy, nie podlega ocenie i nie zalicza się do zestawów zadań, na podstawie których odbywa się zaliczenie przedmiotu.\n",
    "\n",
    "Uwagi i wytyczne ogólne dotyczące uzupełniania notatnika:\n",
    "- Podczas wykonywania zadań należy korzystać wyłącznie z pakietów zaimportowanych na początku notatnika oraz z pakietów wchodzących w skład standardowej biblioteki Pythona, które można zaimportować samodzielnie we wskazanej komórce notatnika.\n",
    "- Swoje rozwiązania należy wprowadzać wyłącznie w miejce następujących fragmentów kodu:<br/> `# YOUR CODE HERE`<br/> `raise NotImplementedError()`<br/> \n",
    "a odpowiedzi tekstowe w komórkach oznaczonych hasłem:<br/> \n",
    "`YOUR ANSWER HERE`<br/> \n",
    "Nie należy w żaden sposób modyfikować pozostałych fragmentów kodu oraz innych elementów notatnika, w szczególności dodawać lub usuwać komórek oraz zmieniać nazwy pliku.\n",
    "- Otrzymywane wyniki i odpowiedzi mają być rezultatem wykonania napisanego kodu.\n",
    "- Zadanie należy wykonać w taki sposób, aby podczas wykonywania kodu nie zostały wyświetlone żadne ostrzeżenia.\n",
    "- Zawarte w notatniku automatyczne testy mają charakter poglądowy. Dotyczą one wybranych aspektów zadań i mają za zadanie wyłapać podstawowe błędy. Przejście wszystkich testów nie oznacza, że zadanie jest wykonane w całości poprawnie.\n",
    "\n",
    "Uwagi i wytyczne ogólne dotyczące wizualizacji wyników:\n",
    "- Wszystkie wykresy powinny być wykonane w jednolitym, przejrzystym i czytelnym stylu, posiadać odpowiednio dobrane proporcje i zakresy wartości osi.\n",
    "- Wykresy oraz ich osie powinny mieć nadane tytuły. Jeżeli w obrębie figury znajduje się więcej niż jeden wykres to figura również powinna mieć nadany tytuł. \n",
    "- Figury powinny mieć ustawione białe tło, tak, aby niezależnie od ustawień notatnika wszystkie elementy wykresów były dobrze widoczne (domyślnie tło jest przeźroczyste co może powodować problemy w notatnikach z ustawionym ciemnym tłem).\n",
    "- Rozmiar poziomy figur nie powinien przekraczać 20 cali."
   ]
  },
  {
   "cell_type": "markdown",
   "id": "71303c97",
   "metadata": {
    "deletable": false,
    "editable": false,
    "nbgrader": {
     "cell_type": "markdown",
     "checksum": "eddc8826810e4a6f7bf68319da334bd9",
     "grade": false,
     "grade_id": "cell-109006d425e5cf83",
     "locked": true,
     "schema_version": 3,
     "solution": false,
     "task": false
    },
    "tags": []
   },
   "source": [
    "---"
   ]
  },
  {
   "cell_type": "markdown",
   "id": "a5959493-b2a1-45f2-bcb0-d42fa60bf407",
   "metadata": {
    "deletable": false,
    "editable": false,
    "nbgrader": {
     "cell_type": "markdown",
     "checksum": "7071d65d8406aa714b698664c6369166",
     "grade": false,
     "grade_id": "cell-096832089209cb23",
     "locked": true,
     "schema_version": 3,
     "solution": false,
     "task": false
    },
    "tags": []
   },
   "source": [
    "# Zestaw ćwiczeniowy 2: pakiety Numpy, Pandas, Matplotlib i Seaborn"
   ]
  },
  {
   "cell_type": "code",
   "execution_count": 1,
   "id": "0069184f-959f-4b8f-8f3f-c55cd359f11d",
   "metadata": {
    "deletable": false,
    "editable": false,
    "nbgrader": {
     "cell_type": "code",
     "checksum": "c7d49f58eef645c387aa71e3091c4485",
     "grade": false,
     "grade_id": "cell-f0996c87ad3e192e",
     "locked": true,
     "schema_version": 3,
     "solution": false,
     "task": false
    },
    "tags": []
   },
   "outputs": [],
   "source": [
    "import numpy as np\n",
    "import pandas as pd\n",
    "import matplotlib as mpl\n",
    "import matplotlib.pyplot as plt\n",
    "import seaborn as sns"
   ]
  },
  {
   "cell_type": "code",
   "execution_count": null,
   "id": "55c3bd09-a469-452b-904f-2ec48c278f70",
   "metadata": {},
   "outputs": [],
   "source": [
    "# Miejsce do importu pakietów wchodzących w skład standardowej biblioteki Pythona oraz ustawienie opcji wykorzystywanych pakietów"
   ]
  },
  {
   "cell_type": "markdown",
   "id": "4f7b19c7-c0f2-40ce-8cad-5634393c9d80",
   "metadata": {
    "deletable": false,
    "editable": false,
    "nbgrader": {
     "cell_type": "markdown",
     "checksum": "1eabc5c4697a1c84cb01254a7cf6f5e6",
     "grade": false,
     "grade_id": "cell-ca00758da9f7e695",
     "locked": true,
     "schema_version": 3,
     "solution": false,
     "task": false
    },
    "tags": []
   },
   "source": [
    "## Zadanie 1\n",
    "a) Korzystając z funkcji `np.array()` zdefiniuj zmienną `ar1` zawierającą następującą macierz $\\left[ \\begin{array}{cccc} 5 & 3 & 6 & 4 \\\\ 1 & 7 & 4 & 1 \\\\ 9 & 2 & 8 & 5 \\\\ \\end{array} \\right]$."
   ]
  },
  {
   "cell_type": "code",
   "execution_count": 3,
   "id": "fbeed4f9-aaee-4a3d-98bc-0da73cd0ed3b",
   "metadata": {
    "deletable": false,
    "nbgrader": {
     "cell_type": "code",
     "checksum": "2061d028360bc919542ef953d6e39fbb",
     "grade": false,
     "grade_id": "cell-47e4afbde69c1ab7",
     "locked": false,
     "schema_version": 3,
     "solution": true,
     "task": false
    },
    "tags": []
   },
   "outputs": [],
   "source": [
    "ar1 = np.array([[5,3,6,4],[1,7,4,1],[9,2,8,5]])"
   ]
  },
  {
   "cell_type": "code",
   "execution_count": 4,
   "id": "95302978-0754-4e6c-81d2-34342d08e2fe",
   "metadata": {
    "deletable": false,
    "editable": false,
    "nbgrader": {
     "cell_type": "code",
     "checksum": "22eaf8f0d350a8899280226158cfefd8",
     "grade": true,
     "grade_id": "cell-31b962e3c2da9533",
     "locked": true,
     "points": 0,
     "schema_version": 3,
     "solution": false,
     "task": false
    },
    "tags": []
   },
   "outputs": [],
   "source": [
    "# Komórka testowa\n",
    "assert ar1.shape == (3, 4)\n",
    "assert ar1.min() == 1\n",
    "assert ar1.max() == 9\n",
    "assert np.isclose(ar1.mean(), 4.583333333333333)\n",
    "assert ar1[0, 2] == 6\n",
    "assert ar1[1, 0] == 1\n",
    "assert ar1[2, 3] == 5"
   ]
  },
  {
   "cell_type": "markdown",
   "id": "d2f43c09-a64f-4592-b991-f89fc60bceab",
   "metadata": {
    "deletable": false,
    "editable": false,
    "nbgrader": {
     "cell_type": "markdown",
     "checksum": "0a7632f9e90eb9429b6474c4e9cf9be0",
     "grade": false,
     "grade_id": "cell-e28945e5dc25cb3b",
     "locked": true,
     "schema_version": 3,
     "solution": false,
     "task": false
    },
    "tags": []
   },
   "source": [
    "b) Korzystając z funkcji `np.zeros_like()` zdefiniuj macierz zerową `ar2` o wymiarach identycznych jak macierz `ar1`."
   ]
  },
  {
   "cell_type": "code",
   "execution_count": 5,
   "id": "983b2bc1-d573-4ca4-bb98-86bca5ef06b9",
   "metadata": {
    "deletable": false,
    "nbgrader": {
     "cell_type": "code",
     "checksum": "523c840e4b82cead4156c9fc41aa3071",
     "grade": false,
     "grade_id": "cell-418faeed9a54d944",
     "locked": false,
     "schema_version": 3,
     "solution": true,
     "task": false
    },
    "tags": []
   },
   "outputs": [],
   "source": [
    "ar2 = np.zeros_like(ar1)"
   ]
  },
  {
   "cell_type": "code",
   "execution_count": 6,
   "id": "dbbe8dc2-1eb4-4b5d-b213-3f0c3e841675",
   "metadata": {
    "deletable": false,
    "editable": false,
    "nbgrader": {
     "cell_type": "code",
     "checksum": "d4aa857871174bf2d8d9222dedfe0814",
     "grade": true,
     "grade_id": "cell-06040bebb6768795",
     "locked": true,
     "points": 0,
     "schema_version": 3,
     "solution": false,
     "task": false
    },
    "tags": []
   },
   "outputs": [],
   "source": [
    "# Komórka testowa\n",
    "assert ar2.shape == (3, 4)\n",
    "assert ar2.min() == 0\n",
    "assert ar2.max() == 0"
   ]
  },
  {
   "cell_type": "markdown",
   "id": "211ceba4-d487-4f6b-8c4d-6da32be8ded1",
   "metadata": {
    "deletable": false,
    "editable": false,
    "nbgrader": {
     "cell_type": "markdown",
     "checksum": "1b15f1cfb7a9e84590104f96025060fe",
     "grade": false,
     "grade_id": "cell-c1d09e7b09adb7d8",
     "locked": true,
     "schema_version": 3,
     "solution": false,
     "task": false
    },
    "tags": []
   },
   "source": [
    "c) Korzystając z instrukcji warunkowej dodaj 1 do komórek macierzy `ar2`, jeżeli wartość w odpowiadających im komórkach macierzy `ar1` jest większa od 5."
   ]
  },
  {
   "cell_type": "code",
   "execution_count": 43,
   "id": "98da2f83-94ca-42b7-b009-776b82fa2bb3",
   "metadata": {
    "deletable": false,
    "nbgrader": {
     "cell_type": "code",
     "checksum": "8356a0e90c5aeac26cad7f1a072d46d5",
     "grade": false,
     "grade_id": "cell-466c08cb86cc3261",
     "locked": false,
     "schema_version": 3,
     "solution": true,
     "task": false
    },
    "tags": []
   },
   "outputs": [
    {
     "name": "stdout",
     "output_type": "stream",
     "text": [
      "[[0 0 1 0]\n",
      " [0 1 0 0]\n",
      " [1 0 1 0]]\n"
     ]
    }
   ],
   "source": [
    "# for i in range(0,len(ar1)):\n",
    "    # for j in range(0,len(ar1[i])):\n",
    "        # if(ar1[i][j]>5): ar2[i][j]=1\n",
    "ar2[ar1>5] =1\n",
    "print(ar2)"
   ]
  },
  {
   "cell_type": "code",
   "execution_count": 29,
   "id": "540bcaa2-aa3a-456a-aa8d-a702e4a1e087",
   "metadata": {
    "deletable": false,
    "editable": false,
    "nbgrader": {
     "cell_type": "code",
     "checksum": "a08a54da08f0c8bc2e54c2e1c15a6e81",
     "grade": true,
     "grade_id": "cell-5713abbf834c080e",
     "locked": true,
     "points": 0,
     "schema_version": 3,
     "solution": false,
     "task": false
    },
    "tags": []
   },
   "outputs": [],
   "source": [
    "# Komórka testowa\n",
    "assert np.all(np.isclose(ar2, np.array([[0, 0, 1, 0], [0, 1, 0, 0], [1, 0, 1, 0]])))"
   ]
  },
  {
   "cell_type": "markdown",
   "id": "b772d350-c029-4203-ac13-37210c654801",
   "metadata": {
    "deletable": false,
    "editable": false,
    "nbgrader": {
     "cell_type": "markdown",
     "checksum": "efbb1cf81cf9935c77c8b01299d7ba67",
     "grade": false,
     "grade_id": "cell-4dcbdd5a700d82b1",
     "locked": true,
     "schema_version": 3,
     "solution": false,
     "task": false
    },
    "tags": []
   },
   "source": [
    "## Zadanie 2\n",
    "\n",
    "a) Korzystając z funkcji `np.arange()` zdefiniuj zmienną `ar3` jako macierz zawierającą kolejne liczby od 0 do 100 z krokiem 20."
   ]
  },
  {
   "cell_type": "code",
   "execution_count": 31,
   "id": "222f192b-4ece-44b2-b316-bcbf8444d12b",
   "metadata": {
    "deletable": false,
    "nbgrader": {
     "cell_type": "code",
     "checksum": "b90fdef79df46564c3d392e80dc96278",
     "grade": false,
     "grade_id": "cell-025b617ca41e7915",
     "locked": false,
     "schema_version": 3,
     "solution": true,
     "task": false
    },
    "tags": []
   },
   "outputs": [
    {
     "name": "stdout",
     "output_type": "stream",
     "text": [
      "[  0  20  40  60  80 100]\n"
     ]
    }
   ],
   "source": [
    "ar3 = np.arange(0,101,20)\n",
    "print(ar3)"
   ]
  },
  {
   "cell_type": "code",
   "execution_count": 32,
   "id": "e01e43e8-9b62-419b-8d71-acf579e7f1a9",
   "metadata": {
    "deletable": false,
    "editable": false,
    "nbgrader": {
     "cell_type": "code",
     "checksum": "0c5cf5c31bdd3d0b0fb9dce03125568f",
     "grade": true,
     "grade_id": "cell-b33db42846231a4c",
     "locked": true,
     "points": 0,
     "schema_version": 3,
     "solution": false,
     "task": false
    },
    "tags": []
   },
   "outputs": [],
   "source": [
    "# Komórka testowa\n",
    "assert ar3.shape == (6,)\n",
    "assert np.all(np.isclose(ar3, np.array([0, 20, 40, 60, 80, 100])))"
   ]
  },
  {
   "cell_type": "markdown",
   "id": "6701632c-85f4-4ac6-a49e-0062ef2fc6f5",
   "metadata": {
    "deletable": false,
    "editable": false,
    "nbgrader": {
     "cell_type": "markdown",
     "checksum": "870a0c890ce89276944c4e67b81877a5",
     "grade": false,
     "grade_id": "cell-c55e5435d278d9b5",
     "locked": true,
     "schema_version": 3,
     "solution": false,
     "task": false
    },
    "tags": []
   },
   "source": [
    "b) Korzystając z funkcji `np.atleast_2d()` i transpozycji (`.T`) zdefiniuj macierz `ar4` jako transponowaną macierz `ar3`."
   ]
  },
  {
   "cell_type": "code",
   "execution_count": 33,
   "id": "1dded405-9da4-4db8-a7f1-2515b29db35d",
   "metadata": {
    "deletable": false,
    "nbgrader": {
     "cell_type": "code",
     "checksum": "7b7b9cb4454ebc2a558e54afd3a76655",
     "grade": false,
     "grade_id": "cell-2eb3b6f7202d0d1c",
     "locked": false,
     "schema_version": 3,
     "solution": true,
     "task": false
    },
    "tags": []
   },
   "outputs": [
    {
     "name": "stdout",
     "output_type": "stream",
     "text": [
      "[[  0]\n",
      " [ 20]\n",
      " [ 40]\n",
      " [ 60]\n",
      " [ 80]\n",
      " [100]]\n"
     ]
    }
   ],
   "source": [
    "ar4 = np.atleast_2d(ar3).T\n",
    "print(ar4)"
   ]
  },
  {
   "cell_type": "code",
   "execution_count": 34,
   "id": "68c60633-ac0e-407c-830c-cf76a7b2e308",
   "metadata": {
    "deletable": false,
    "editable": false,
    "nbgrader": {
     "cell_type": "code",
     "checksum": "5ad718cff96dc1dba3b8a41ff2b32ad5",
     "grade": true,
     "grade_id": "cell-fb4bb238da66b846",
     "locked": true,
     "points": 0,
     "schema_version": 3,
     "solution": false,
     "task": false
    },
    "tags": []
   },
   "outputs": [],
   "source": [
    "# Komórka testowa\n",
    "assert ar4.shape == (6, 1)\n",
    "assert np.all(np.isclose(ar4, np.array([[0], [20], [40], [60], [80], [100]])))"
   ]
  },
  {
   "cell_type": "markdown",
   "id": "fb72fa8b-4aff-4d7d-bc4f-e27ce79736e0",
   "metadata": {
    "deletable": false,
    "editable": false,
    "nbgrader": {
     "cell_type": "markdown",
     "checksum": "4e040749325491a1297d0148233c7135",
     "grade": false,
     "grade_id": "cell-d38ccb79b3905fb8",
     "locked": true,
     "schema_version": 3,
     "solution": false,
     "task": false
    },
    "tags": []
   },
   "source": [
    "c) Zdefiniuj macierz `ar5` jako iloczyn macierzy `ar4` i `ar3`."
   ]
  },
  {
   "cell_type": "code",
   "execution_count": 36,
   "id": "8859205f-4af2-4ac6-b806-075338d3f4f3",
   "metadata": {
    "deletable": false,
    "nbgrader": {
     "cell_type": "code",
     "checksum": "8840ea06c09dbc87b9f68c45111c7b9f",
     "grade": false,
     "grade_id": "cell-1aee43fb693c05e5",
     "locked": false,
     "schema_version": 3,
     "solution": true,
     "task": false
    },
    "tags": []
   },
   "outputs": [
    {
     "name": "stdout",
     "output_type": "stream",
     "text": [
      "[[    0     0     0     0     0     0]\n",
      " [    0   400   800  1200  1600  2000]\n",
      " [    0   800  1600  2400  3200  4000]\n",
      " [    0  1200  2400  3600  4800  6000]\n",
      " [    0  1600  3200  4800  6400  8000]\n",
      " [    0  2000  4000  6000  8000 10000]]\n"
     ]
    }
   ],
   "source": [
    "ar5 = ar4 * ar3\n",
    "print(ar5)"
   ]
  },
  {
   "cell_type": "code",
   "execution_count": 38,
   "id": "a6f18922-155e-4a28-8886-d66438d500a6",
   "metadata": {
    "deletable": false,
    "editable": false,
    "nbgrader": {
     "cell_type": "code",
     "checksum": "0cbcad5e3d1d16540dd794c3c0ef8fa3",
     "grade": true,
     "grade_id": "cell-d917297f42125c88",
     "locked": true,
     "points": 0,
     "schema_version": 3,
     "solution": false,
     "task": false
    },
    "tags": []
   },
   "outputs": [],
   "source": [
    "# Komórka testowa\n",
    "assert ar5.shape == (6, 6)\n",
    "assert np.isclose(ar5.min(), 0)\n",
    "assert np.isclose(ar5.max(), 10000)\n",
    "assert np.isclose(ar5.mean(), 2500.0)\n",
    "assert np.all(np.isclose(ar5.sum(axis=0), ar5.sum(axis=1)))"
   ]
  },
  {
   "cell_type": "markdown",
   "id": "53ab946e-1f8b-46fd-aeb0-4c328e4ff390",
   "metadata": {
    "deletable": false,
    "editable": false,
    "nbgrader": {
     "cell_type": "markdown",
     "checksum": "540b88d2b54948591a7fef2555ffb870",
     "grade": false,
     "grade_id": "cell-93114bffc84ea287",
     "locked": true,
     "schema_version": 3,
     "solution": false,
     "task": false
    },
    "tags": []
   },
   "source": [
    "d) Korzystając z funckji `np.reshape()` zdefiniuj  na podstawie macierzy `ar5` macierz `ar6` o wymiarach 12x3. Skorzystaj z domyślnej wartości argumentu `order`."
   ]
  },
  {
   "cell_type": "code",
   "execution_count": 39,
   "id": "9275c554-bb56-4536-93af-90ec80cc5715",
   "metadata": {
    "deletable": false,
    "nbgrader": {
     "cell_type": "code",
     "checksum": "8eb110cf851204b7848b85fc99ba0840",
     "grade": false,
     "grade_id": "cell-c03ae2c33cf06753",
     "locked": false,
     "schema_version": 3,
     "solution": true,
     "task": false
    },
    "tags": []
   },
   "outputs": [
    {
     "name": "stdout",
     "output_type": "stream",
     "text": [
      "[[    0     0     0]\n",
      " [    0     0     0]\n",
      " [    0   400   800]\n",
      " [ 1200  1600  2000]\n",
      " [    0   800  1600]\n",
      " [ 2400  3200  4000]\n",
      " [    0  1200  2400]\n",
      " [ 3600  4800  6000]\n",
      " [    0  1600  3200]\n",
      " [ 4800  6400  8000]\n",
      " [    0  2000  4000]\n",
      " [ 6000  8000 10000]]\n"
     ]
    }
   ],
   "source": [
    "ar6 = np.reshape(ar5, (12,3))\n",
    "print(ar6)"
   ]
  },
  {
   "cell_type": "code",
   "execution_count": 40,
   "id": "07096f5d-047f-4061-bb5e-7471c08e2506",
   "metadata": {
    "deletable": false,
    "editable": false,
    "nbgrader": {
     "cell_type": "code",
     "checksum": "6508d3e2fddf2280bf7a98b4acaaa9f8",
     "grade": true,
     "grade_id": "cell-7eca5319d2b8d593",
     "locked": true,
     "points": 0,
     "schema_version": 3,
     "solution": false,
     "task": false
    },
    "tags": []
   },
   "outputs": [],
   "source": [
    "# Komórka testowa\n",
    "assert ar6.shape == (12, 3)\n",
    "assert np.isclose(ar6.min(), 0)\n",
    "assert np.isclose(ar6.max(), 10000)\n",
    "assert np.all(np.isclose(ar6.sum(axis=0), [18000, 30000, 42000]))\n",
    "assert np.all(np.isclose(ar6.sum(axis=1), [0, 0, 1200, 4800, 2400, 9600, 3600, 14400, 4800, 19200, 6000, 24000]))"
   ]
  },
  {
   "cell_type": "markdown",
   "id": "5f811ae4-08b8-42cd-b5fb-ff1bf690b726",
   "metadata": {
    "deletable": false,
    "editable": false,
    "nbgrader": {
     "cell_type": "markdown",
     "checksum": "02d6c4cf755b2928cf7a152a1803ee31",
     "grade": false,
     "grade_id": "cell-71aa957ec9a30892",
     "locked": true,
     "schema_version": 3,
     "solution": false,
     "task": false
    },
    "tags": []
   },
   "source": [
    "## Zadanie 3\n",
    "\n",
    "a) Zdefiniuj zmienną `ar7` jako macierz przygotowaną zgodnie z poniższymi wytycznymi:\n",
    "1) Korzystając z funkcji `np.zeros()` zdefiniuj macierz zerową o wymiarach 7x5.\n",
    "2) Dodaj 10 do wszystkich elementów macierzy.\n",
    "3) Dodaj do kolejnych kolumn macierzy następujące wartości: 1, 2, 3, 2, 1.\n",
    "4) Odejmij od kolejnych wierszy macierzy następujące wartości: 3, 2, 1, 0, 1, 2, 3."
   ]
  },
  {
   "cell_type": "code",
   "execution_count": 63,
   "id": "66c63617-0d9b-47c7-9a33-44e77dc9bb25",
   "metadata": {
    "deletable": false,
    "nbgrader": {
     "cell_type": "code",
     "checksum": "ca89ca350fe4303e1c117945fa866d2e",
     "grade": false,
     "grade_id": "cell-e5a5554ef51ae6c6",
     "locked": false,
     "schema_version": 3,
     "solution": true,
     "task": false
    },
    "tags": []
   },
   "outputs": [
    {
     "name": "stdout",
     "output_type": "stream",
     "text": [
      "[[ 8.  9. 10.  9.  8.]\n",
      " [ 9. 10. 11. 10.  9.]\n",
      " [10. 11. 12. 11. 10.]\n",
      " [11. 12. 13. 12. 11.]\n",
      " [10. 11. 12. 11. 10.]\n",
      " [ 9. 10. 11. 10.  9.]\n",
      " [ 8.  9. 10.  9.  8.]]\n"
     ]
    }
   ],
   "source": [
    "ar7 = np.zeros((7,5))\n",
    "ar7 +=10\n",
    "ar7 += [1,2,3,2,1]\n",
    "ar7-=np.array([3,2,1,0,1,2,3]).reshape(-1,1)\n",
    "print(ar7)\n",
    "# print(np.array([3,2,1,0,1,2,3]).reshape(-1,1))"
   ]
  },
  {
   "cell_type": "code",
   "execution_count": 52,
   "id": "f5eaedc2-9794-4fe7-bcd2-0c702ab2eb32",
   "metadata": {
    "deletable": false,
    "editable": false,
    "nbgrader": {
     "cell_type": "code",
     "checksum": "400435c513860a3e0f10fa2aff1f7a0d",
     "grade": true,
     "grade_id": "cell-8bd0c10632a37f2c",
     "locked": true,
     "points": 0,
     "schema_version": 3,
     "solution": false,
     "task": false
    },
    "tags": []
   },
   "outputs": [],
   "source": [
    "# Komórka testowa\n",
    "assert ar7.shape == (7, 5)\n",
    "assert np.isclose(ar7.min(), 8)\n",
    "assert np.isclose(ar7.max(), 13.0)\n",
    "assert np.all(np.isclose(ar7.sum(axis=0), [65., 72., 79., 72., 65.]))\n",
    "assert np.all(np.isclose(ar7.sum(axis=1), [44., 49., 54., 59., 54., 49., 44.]))"
   ]
  },
  {
   "cell_type": "markdown",
   "id": "6fd7b4ef-bf90-424a-bd05-1046bbf848a0",
   "metadata": {
    "deletable": false,
    "editable": false,
    "nbgrader": {
     "cell_type": "markdown",
     "checksum": "2874cd4c6039e3f5b6dce7b473081d82",
     "grade": false,
     "grade_id": "cell-04b0c23866a4e575",
     "locked": true,
     "schema_version": 3,
     "solution": false,
     "task": false
    },
    "tags": []
   },
   "source": [
    "b) Korzystając z funkcji `plt.subplots()` przygotuj figurę o wymiarach 10x10 zawierając jedno pole na wykres. W polu tym, korzystając z funkcji `plt.imshow()` umieść wykres przedstawiający rozkład wartości macierzy `ar7`. Ustaw wartość parametru `cmap` na \"viridis\" i wyświetl obok wykresu pasek kolorów. Nadaj wykresowi tytuł \"Rozkład wartości macierzy ar7\"."
   ]
  },
  {
   "cell_type": "code",
   "execution_count": 56,
   "id": "08013227-0a76-48d8-9985-01c7f795b871",
   "metadata": {
    "deletable": false,
    "nbgrader": {
     "cell_type": "code",
     "checksum": "b050b6843e2c1a6b05ab2239e53df45c",
     "grade": true,
     "grade_id": "cell-85c47b63e989b522",
     "locked": false,
     "points": 0,
     "schema_version": 3,
     "solution": true,
     "task": false
    },
    "tags": []
   },
   "outputs": [
    {
     "data": {
      "image/png": "[encoded data removed]",
      "text/plain": [
       "<Figure size 1000x1000 with 2 Axes>"
      ]
     },
     "metadata": {},
     "output_type": "display_data"
    }
   ],
   "source": [
    "fig, ax = plt.subplots(figsize=(10,10))\n",
    "im = plt.imshow(ar7, cmap=\"viridis\")\n",
    "cbar = plt.colorbar(im, ax=ax)\n",
    "ax.set_title(\"Rozklad wartosci macierzy ar7\")\n",
    "plt.show()"
   ]
  },
  {
   "cell_type": "markdown",
   "id": "f6cbc02d-1bc0-4e61-9f8a-94e26e94ca4e",
   "metadata": {
    "deletable": false,
    "editable": false,
    "nbgrader": {
     "cell_type": "markdown",
     "checksum": "e49d0250c66e01719b641b8798c2d626",
     "grade": false,
     "grade_id": "cell-aef31ff57a4a7749",
     "locked": true,
     "schema_version": 3,
     "solution": false,
     "task": false
    },
    "tags": []
   },
   "source": [
    "## Zadanie 4\n",
    "\n",
    "a) Zdefiniuj zmienną `ar8` jako macierz przygotowaną zgodnie z poniższymi wytycznymi:\n",
    "\n",
    "1) Korzystając z funkcji `np.zeros()` zdefiniuj macierz zerową o wymiarach 10x10.\n",
    "2) Dodaj 1 do elementów znajdujących się w trzeciej kolumnnie macierzy.\n",
    "3) Dodaj 1 do elementów znajdujących się w trzeciem od końca wierszu macierzy.\n",
    "4) Dodaj 3 do elementów, które jednocześnie znajdują się w 2-6 wierszu i 5-9 kolumnie macierzy."
   ]
  },
  {
   "cell_type": "code",
   "execution_count": 73,
   "id": "cee0a171-8c85-4887-a742-6f08edaf78ec",
   "metadata": {
    "deletable": false,
    "nbgrader": {
     "cell_type": "code",
     "checksum": "ef0ef96fbe3dbbf2636719b6acb4d8f4",
     "grade": false,
     "grade_id": "cell-01f3991ceb5a7286",
     "locked": false,
     "schema_version": 3,
     "solution": true,
     "task": false
    },
    "tags": []
   },
   "outputs": [
    {
     "name": "stdout",
     "output_type": "stream",
     "text": [
      "[[0. 0. 1. 0. 0. 0. 0. 0. 0. 0.]\n",
      " [0. 0. 1. 0. 3. 3. 3. 3. 3. 0.]\n",
      " [0. 0. 1. 0. 3. 3. 3. 3. 3. 0.]\n",
      " [0. 0. 1. 0. 3. 3. 3. 3. 3. 0.]\n",
      " [0. 0. 1. 0. 3. 3. 3. 3. 3. 0.]\n",
      " [0. 0. 1. 0. 3. 3. 3. 3. 3. 0.]\n",
      " [0. 0. 1. 0. 0. 0. 0. 0. 0. 0.]\n",
      " [1. 1. 2. 1. 1. 1. 1. 1. 1. 1.]\n",
      " [0. 0. 1. 0. 0. 0. 0. 0. 0. 0.]\n",
      " [0. 0. 1. 0. 0. 0. 0. 0. 0. 0.]]\n"
     ]
    }
   ],
   "source": [
    "ar8 = np.zeros((10,10))\n",
    "ar8[:,2]+=1\n",
    "ar8[-3,:]+=1\n",
    "ar8[1:6,4:9]+=3\n",
    "\n",
    "print(ar8)"
   ]
  },
  {
   "cell_type": "code",
   "execution_count": 74,
   "id": "d11a8402-c419-4eff-a466-a5af6fb908f2",
   "metadata": {
    "deletable": false,
    "editable": false,
    "nbgrader": {
     "cell_type": "code",
     "checksum": "5b747cbcff80cfff7841847e3812beed",
     "grade": true,
     "grade_id": "cell-5c4034c288f0aebb",
     "locked": true,
     "points": 0,
     "schema_version": 3,
     "solution": false,
     "task": false
    },
    "tags": []
   },
   "outputs": [],
   "source": [
    "# Komórka testowa\n",
    "assert ar8.shape == (10, 10)\n",
    "assert np.isclose(ar8.min(), 0)\n",
    "assert np.isclose(ar8.max(), 3)\n",
    "assert np.all(np.isclose(ar8.sum(axis=0), [1.,  1., 11.,  1., 16., 16., 16., 16., 16.,  1.]))\n",
    "assert np.all(np.isclose(ar8.sum(axis=1), [1., 16., 16., 16., 16., 16.,  1., 11.,  1.,  1.]))"
   ]
  },
  {
   "cell_type": "markdown",
   "id": "a904b760-796f-4ccb-83a9-8d4d73e86b1e",
   "metadata": {
    "deletable": false,
    "editable": false,
    "nbgrader": {
     "cell_type": "markdown",
     "checksum": "80765929f12661fc865750f4a19a7de8",
     "grade": false,
     "grade_id": "cell-5c1bc42c1bc3c5b0",
     "locked": true,
     "schema_version": 3,
     "solution": false,
     "task": false
    },
    "tags": []
   },
   "source": [
    "b) Korzystając z funkcji `plt.subplots()` przygotuj figurę o wymiarach 12x10 zawierając jedno pole na wykres. W polu tym, korzystając z funkcji `sns.heatmap()` umieść wykres przedstawiający rozkład wartości macierzy `ar8`. Ustaw wartość parametru `cmap` na \"viridis\". Nadaj wykresowi tytuł \"Rozkład wartości w macierzy ar8\"."
   ]
  },
  {
   "cell_type": "code",
   "execution_count": 78,
   "id": "86717ed9-ac61-4610-84b1-c8f9933db94a",
   "metadata": {
    "deletable": false,
    "nbgrader": {
     "cell_type": "code",
     "checksum": "0315d832d0e51963614b57849e3abab8",
     "grade": true,
     "grade_id": "cell-d1054e754550c679",
     "locked": false,
     "points": 0,
     "schema_version": 3,
     "solution": true,
     "task": false
    },
    "tags": []
   },
   "outputs": [
    {
     "data": {
      "image/png": "[encoded data removed]",
      "text/plain": [
       "<Figure size 1200x1000 with 2 Axes>"
      ]
     },
     "metadata": {},
     "output_type": "display_data"
    }
   ],
   "source": [
    "fig, ax = plt.subplots(figsize=(12,10))\n",
    "sns.heatmap(ar8,cmap=\"viridis\",ax=ax)\n",
    "ax.set_title(\"Rozkład wartości w macierzy ar8\")\n",
    "plt.show()"
   ]
  },
  {
   "cell_type": "markdown",
   "id": "8f072369-4cae-4471-980b-777039475923",
   "metadata": {
    "deletable": false,
    "editable": false,
    "nbgrader": {
     "cell_type": "markdown",
     "checksum": "6fadf0ff7430c98060dcfce632b82270",
     "grade": false,
     "grade_id": "cell-3094e80bb398d11c",
     "locked": true,
     "schema_version": 3,
     "solution": false,
     "task": false
    },
    "tags": []
   },
   "source": [
    "## Zadanie 5\n",
    "\n",
    "a) Korzystając z funkcji `np.full()` zdefiniuj zmienne `ar9` i `ar10` jako macierze o wymiarach 5x3 zawierające wartości odpowiednio 6 i 11."
   ]
  },
  {
   "cell_type": "code",
   "execution_count": 81,
   "id": "b38bc651-9ff8-4bff-aab0-abfe137ecf47",
   "metadata": {
    "deletable": false,
    "nbgrader": {
     "cell_type": "code",
     "checksum": "9f7cb636a39dad9b5921c75e91aecfd0",
     "grade": false,
     "grade_id": "cell-650d4406ee68e8fe",
     "locked": false,
     "schema_version": 3,
     "solution": true,
     "task": false
    },
    "tags": []
   },
   "outputs": [
    {
     "name": "stdout",
     "output_type": "stream",
     "text": [
      "[[6 6 6]\n",
      " [6 6 6]\n",
      " [6 6 6]\n",
      " [6 6 6]\n",
      " [6 6 6]]\n",
      "[[11 11 11]\n",
      " [11 11 11]\n",
      " [11 11 11]\n",
      " [11 11 11]\n",
      " [11 11 11]]\n"
     ]
    }
   ],
   "source": [
    "ar9 = np.full((5,3),6)\n",
    "ar10 = np.full((5,3),11)\n",
    "print(ar9)\n",
    "print(ar10)"
   ]
  },
  {
   "cell_type": "code",
   "execution_count": 82,
   "id": "59c647d3-a66f-46b2-bf01-cfa20e45bfaa",
   "metadata": {
    "deletable": false,
    "editable": false,
    "nbgrader": {
     "cell_type": "code",
     "checksum": "de61142a80d58a671bf88f2b382586de",
     "grade": true,
     "grade_id": "cell-2f1947d549cb61dc",
     "locked": true,
     "points": 0,
     "schema_version": 3,
     "solution": false,
     "task": false
    },
    "tags": []
   },
   "outputs": [],
   "source": [
    "# Komórka testowa\n",
    "assert ar9.shape == (5, 3)\n",
    "assert np.isclose(ar9.min(), 6)\n",
    "assert np.isclose(ar9.max(), 6)\n",
    "\n",
    "assert ar9.shape == (5, 3)\n",
    "assert np.isclose(ar9.min(), 6)\n",
    "assert np.isclose(ar9.max(), 6)"
   ]
  },
  {
   "cell_type": "markdown",
   "id": "97f0b69c-946c-4957-a305-150978a98368",
   "metadata": {
    "deletable": false,
    "editable": false,
    "nbgrader": {
     "cell_type": "markdown",
     "checksum": "59fc3dfa6155c9d48f40faa1b2ab2387",
     "grade": false,
     "grade_id": "cell-78c969b5fe96b10a",
     "locked": true,
     "schema_version": 3,
     "solution": false,
     "task": false
    },
    "tags": []
   },
   "source": [
    "b) Korzystając z funckji `np.hstack()` zdefiniuj zmienną `ar11` zawierającą w sobie połączone macierze `ar9` i `ar10`. Następnie wyświetl otrzymaną macierz."
   ]
  },
  {
   "cell_type": "code",
   "execution_count": 84,
   "id": "0f878e2d-3ef9-489a-9c23-ede62b461110",
   "metadata": {
    "deletable": false,
    "nbgrader": {
     "cell_type": "code",
     "checksum": "01d6e7aa4959cfd281498c01170417f0",
     "grade": false,
     "grade_id": "cell-547fe1fea485b256",
     "locked": false,
     "schema_version": 3,
     "solution": true,
     "task": false
    },
    "tags": []
   },
   "outputs": [
    {
     "name": "stdout",
     "output_type": "stream",
     "text": [
      "[[ 6  6  6 11 11 11]\n",
      " [ 6  6  6 11 11 11]\n",
      " [ 6  6  6 11 11 11]\n",
      " [ 6  6  6 11 11 11]\n",
      " [ 6  6  6 11 11 11]]\n"
     ]
    }
   ],
   "source": [
    "ar11 = np.hstack((ar9,ar10))\n",
    "print(ar11)"
   ]
  },
  {
   "cell_type": "code",
   "execution_count": 85,
   "id": "0b97e213-8626-44c0-b5d0-7f2c0b6a82b0",
   "metadata": {
    "deletable": false,
    "editable": false,
    "nbgrader": {
     "cell_type": "code",
     "checksum": "343bafd242190c0e668e295f4509f2d2",
     "grade": true,
     "grade_id": "cell-cc076ea79ee43ba4",
     "locked": true,
     "points": 0,
     "schema_version": 3,
     "solution": false,
     "task": false
    },
    "tags": []
   },
   "outputs": [],
   "source": [
    "# Komórka testowa\n",
    "assert ar11.shape == (5, 6)\n",
    "assert np.isclose(ar11.min(), 6)\n",
    "assert np.isclose(ar11.max(), 11)\n",
    "assert np.all(np.isclose(ar11.sum(axis=0), [30, 30, 30, 55, 55, 55]))\n",
    "assert np.all(np.isclose(ar11.sum(axis=1), [51, 51, 51, 51, 51]))"
   ]
  },
  {
   "cell_type": "markdown",
   "id": "d0f0d483-cfaf-4296-9ad5-2b6903a46b7a",
   "metadata": {
    "deletable": false,
    "editable": false,
    "nbgrader": {
     "cell_type": "markdown",
     "checksum": "02df32fd481b7801adbc0a7e9a6af978",
     "grade": false,
     "grade_id": "cell-6959c77316b57d28",
     "locked": true,
     "schema_version": 3,
     "solution": false,
     "task": false
    },
    "tags": []
   },
   "source": [
    "c) Korzystając z funckji `np.vstack()` zdefiniuj zmienną `ar12` zawierającą w sobie połączone macierze `ar9` i `ar10`. Następnie wyświetl otrzymaną macierz."
   ]
  },
  {
   "cell_type": "code",
   "execution_count": 86,
   "id": "740f86ab-76be-45de-810a-14c6a40c05bb",
   "metadata": {
    "deletable": false,
    "nbgrader": {
     "cell_type": "code",
     "checksum": "3e6a656596c2b54639733d7f7f6f0d89",
     "grade": false,
     "grade_id": "cell-080630b66cf00a02",
     "locked": false,
     "schema_version": 3,
     "solution": true,
     "task": false
    },
    "tags": []
   },
   "outputs": [
    {
     "name": "stdout",
     "output_type": "stream",
     "text": [
      "[[ 6  6  6]\n",
      " [ 6  6  6]\n",
      " [ 6  6  6]\n",
      " [ 6  6  6]\n",
      " [ 6  6  6]\n",
      " [11 11 11]\n",
      " [11 11 11]\n",
      " [11 11 11]\n",
      " [11 11 11]\n",
      " [11 11 11]]\n"
     ]
    }
   ],
   "source": [
    "ar12 = np.vstack((ar9,ar10))\n",
    "print(ar12)"
   ]
  },
  {
   "cell_type": "code",
   "execution_count": 87,
   "id": "13debce8-64ff-40a0-ad6a-1f07c00cfe69",
   "metadata": {
    "deletable": false,
    "editable": false,
    "nbgrader": {
     "cell_type": "code",
     "checksum": "d403940340083647a36ffddf8261fd5e",
     "grade": true,
     "grade_id": "cell-b9727473de5087fe",
     "locked": true,
     "points": 0,
     "schema_version": 3,
     "solution": false,
     "task": false
    },
    "tags": []
   },
   "outputs": [],
   "source": [
    "# Komórka testowa\n",
    "assert ar12.shape == (10, 3)\n",
    "assert np.isclose(ar12.min(), 6)\n",
    "assert np.isclose(ar12.max(), 11)\n",
    "assert np.all(np.isclose(ar12.sum(axis=0), [85, 85, 85]))\n",
    "assert np.all(np.isclose(ar12.sum(axis=1), [18, 18, 18, 18, 18, 33, 33, 33, 33, 33]))"
   ]
  },
  {
   "cell_type": "markdown",
   "id": "8ba4f28d-ce31-46d6-9853-78e57d755bf5",
   "metadata": {
    "deletable": false,
    "editable": false,
    "nbgrader": {
     "cell_type": "markdown",
     "checksum": "d122b294bf6f1b1daa784e6bf6acb4ad",
     "grade": false,
     "grade_id": "cell-7a0fa7d32c31f37e",
     "locked": true,
     "schema_version": 3,
     "solution": false,
     "task": false
    },
    "tags": []
   },
   "source": [
    "## Zadanie 6\n",
    "\n",
    "a) Korzystając z funkcji `np.linspace()` zdefiniuj zmienną `x` jako macierz zawierającą 100 liczb z przedziału $[0, 2\\pi]$."
   ]
  },
  {
   "cell_type": "code",
   "execution_count": 88,
   "id": "acde7f22-3fe0-4ea3-9c57-62214f6094cd",
   "metadata": {
    "deletable": false,
    "nbgrader": {
     "cell_type": "code",
     "checksum": "9efb0801e6fe3dca8ee607f3c6e392be",
     "grade": false,
     "grade_id": "cell-1bd86ac1ec2dfa81",
     "locked": false,
     "schema_version": 3,
     "solution": true,
     "task": false
    },
    "tags": []
   },
   "outputs": [
    {
     "name": "stdout",
     "output_type": "stream",
     "text": [
      "[0.         0.06346652 0.12693304 0.19039955 0.25386607 0.31733259\n",
      " 0.38079911 0.44426563 0.50773215 0.57119866 0.63466518 0.6981317\n",
      " 0.76159822 0.82506474 0.88853126 0.95199777 1.01546429 1.07893081\n",
      " 1.14239733 1.20586385 1.26933037 1.33279688 1.3962634  1.45972992\n",
      " 1.52319644 1.58666296 1.65012947 1.71359599 1.77706251 1.84052903\n",
      " 1.90399555 1.96746207 2.03092858 2.0943951  2.15786162 2.22132814\n",
      " 2.28479466 2.34826118 2.41172769 2.47519421 2.53866073 2.60212725\n",
      " 2.66559377 2.72906028 2.7925268  2.85599332 2.91945984 2.98292636\n",
      " 3.04639288 3.10985939 3.17332591 3.23679243 3.30025895 3.36372547\n",
      " 3.42719199 3.4906585  3.55412502 3.61759154 3.68105806 3.74452458\n",
      " 3.8079911  3.87145761 3.93492413 3.99839065 4.06185717 4.12532369\n",
      " 4.1887902  4.25225672 4.31572324 4.37918976 4.44265628 4.5061228\n",
      " 4.56958931 4.63305583 4.69652235 4.75998887 4.82345539 4.88692191\n",
      " 4.95038842 5.01385494 5.07732146 5.14078798 5.2042545  5.26772102\n",
      " 5.33118753 5.39465405 5.45812057 5.52158709 5.58505361 5.64852012\n",
      " 5.71198664 5.77545316 5.83891968 5.9023862  5.96585272 6.02931923\n",
      " 6.09278575 6.15625227 6.21971879 6.28318531]\n"
     ]
    }
   ],
   "source": [
    "x = np.linspace(0,np.pi*2,100)\n",
    "print(x)"
   ]
  },
  {
   "cell_type": "code",
   "execution_count": 89,
   "id": "72286037-fcc5-44c0-8daa-ca2d6f5fb96a",
   "metadata": {
    "deletable": false,
    "editable": false,
    "nbgrader": {
     "cell_type": "code",
     "checksum": "0d4f09fd968b016365f0d8671d01e27d",
     "grade": true,
     "grade_id": "cell-8369a19a141c31cb",
     "locked": true,
     "points": 0,
     "schema_version": 3,
     "solution": false,
     "task": false
    },
    "tags": []
   },
   "outputs": [],
   "source": [
    "# Komórka testowa\n",
    "assert x.shape == (100,)\n",
    "assert np.isclose(x.min(), 0)\n",
    "assert np.isclose(x.max(), 6.283185307179586)\n",
    "assert np.isclose(x.sum(), 314.15926535897927)"
   ]
  },
  {
   "cell_type": "markdown",
   "id": "d2c4203d-849c-4b00-b936-a5df746855da",
   "metadata": {
    "deletable": false,
    "editable": false,
    "nbgrader": {
     "cell_type": "markdown",
     "checksum": "b79aaef2e787eb2db846fdf92f022eb2",
     "grade": false,
     "grade_id": "cell-fe0dcbb4a465cef7",
     "locked": true,
     "schema_version": 3,
     "solution": false,
     "task": false
    },
    "tags": []
   },
   "source": [
    "b) Korzystając z funkcji `np.sin()` zdefiniuj macierz `y` zawierającą wartości funkcji $y = x^2 sin(x)$ obliczone na podstawie wartości zmiennej `x`."
   ]
  },
  {
   "cell_type": "code",
   "execution_count": 91,
   "id": "81b7dad8-a544-4ff8-b82d-51a8e6f191cc",
   "metadata": {
    "deletable": false,
    "nbgrader": {
     "cell_type": "code",
     "checksum": "742fb58f3199979db6dbb9e42cfb5ff2",
     "grade": false,
     "grade_id": "cell-e85b84118e92a6c1",
     "locked": false,
     "schema_version": 3,
     "solution": true,
     "task": false
    },
    "tags": []
   },
   "outputs": [
    {
     "name": "stdout",
     "output_type": "stream",
     "text": [
      "[ 0.00000000e+00  2.55471481e-04  2.03965707e-03  6.86073430e-03\n",
      "  1.61859812e-02  3.14217597e-02  5.38940152e-02  8.48294591e-02\n",
      "  1.25337596e-01  1.76393752e-01  2.38823251e-01  3.13286885e-01\n",
      "  4.00267804e-01  5.00059951e-01  6.12758158e-01  7.38249991e-01\n",
      "  8.76209441e-01  1.02609254e+00  1.18713493e+00  1.35835152e+00\n",
      "  1.53853809e+00  1.72627508e+00  1.91993342e+00  2.11768237e+00\n",
      "  2.31749947e+00  2.51718245e+00  2.71436307e+00  2.90652279e+00\n",
      "  3.09101033e+00  3.26506072e+00  3.42581607e+00  3.57034768e+00\n",
      "  3.69567946e+00  3.79881251e+00  3.87675061e+00  3.92652662e+00\n",
      "  3.94522940e+00  3.93003124e+00  3.87821553e+00  3.78720443e+00\n",
      "  3.65458645e+00  3.47814363e+00  3.25587820e+00  2.98603843e+00\n",
      "  2.66714352e+00  2.29800734e+00  1.87776081e+00  1.40587267e+00\n",
      "  8.82168518e-01  3.06847998e-01 -3.19500206e-01 -9.95885554e-01\n",
      " -1.72090525e+00 -2.49273635e+00 -3.30913057e+00 -4.16741174e+00\n",
      " -5.06447621e+00 -5.99679608e+00 -6.96042545e+00 -7.95100964e+00\n",
      " -8.96379747e+00 -9.99365650e+00 -1.10350914e+01 -1.20822650e+01\n",
      " -1.31290229e+01 -1.41689198e+01 -1.51952500e+01 -1.62010792e+01\n",
      " -1.71792796e+01 -1.81225670e+01 -1.90235404e+01 -1.98747233e+01\n",
      " -2.06686065e+01 -2.13976935e+01 -2.20545458e+01 -2.26318308e+01\n",
      " -2.31223693e+01 -2.35191844e+01 -2.38155501e+01 -2.40050405e+01\n",
      " -2.40815782e+01 -2.40394824e+01 -2.38735164e+01 -2.35789330e+01\n",
      " -2.31515197e+01 -2.25876413e+01 -2.18842805e+01 -2.10390764e+01\n",
      " -2.00503606e+01 -1.89171897e+01 -1.76393752e+01 -1.62175099e+01\n",
      " -1.46529906e+01 -1.29480371e+01 -1.11057068e+01 -9.12990503e+00\n",
      " -7.02539193e+00 -4.79778335e+00 -2.45354810e+00 -9.66942355e-15]\n"
     ]
    }
   ],
   "source": [
    "y = x**2*np.sin(x)\n",
    "print(y)"
   ]
  },
  {
   "cell_type": "code",
   "execution_count": 92,
   "id": "12ae79ba-5cd1-47f8-86bf-680385b138e3",
   "metadata": {
    "deletable": false,
    "editable": false,
    "nbgrader": {
     "cell_type": "code",
     "checksum": "434b58f29266c61b74a025919e3cff15",
     "grade": true,
     "grade_id": "cell-84fd5971e478c3e2",
     "locked": true,
     "points": 0,
     "schema_version": 3,
     "solution": false,
     "task": false
    },
    "tags": []
   },
   "outputs": [],
   "source": [
    "# Komórka testowa\n",
    "assert y.shape == (100,)\n",
    "assert np.isclose(y.min(), -24.08157817807183)\n",
    "assert np.isclose(y.max(), 3.945229395130286)\n",
    "assert np.isclose(y.sum(), -621.8265349162731)"
   ]
  },
  {
   "cell_type": "markdown",
   "id": "0abb1cfb-bba6-4204-a22d-8f9e0afd007c",
   "metadata": {
    "deletable": false,
    "editable": false,
    "nbgrader": {
     "cell_type": "markdown",
     "checksum": "17a4c2d1f30b487fe85652566dc86779",
     "grade": false,
     "grade_id": "cell-41d932583145ab0b",
     "locked": true,
     "schema_version": 3,
     "solution": false,
     "task": false
    },
    "tags": []
   },
   "source": [
    "c) Korzystając z funkcji `pd.DataFrame()` zdefiniuj zmienną `df1`. Następnie dodaj do zdefiniowanej tablicy wartości macierzy `x` i `y` ustawiając odpowiednio \"X\" i \"Y\" jako nazwy kolumn."
   ]
  },
  {
   "cell_type": "code",
   "execution_count": 98,
   "id": "5851e8c9-d90c-495d-9e76-6bcaf235194d",
   "metadata": {
    "deletable": false,
    "nbgrader": {
     "cell_type": "code",
     "checksum": "dfb2c2788ab1a4c6377c314eec632785",
     "grade": false,
     "grade_id": "cell-c41344fb78cc28a1",
     "locked": false,
     "schema_version": 3,
     "solution": true,
     "task": false
    },
    "tags": []
   },
   "outputs": [
    {
     "name": "stdout",
     "output_type": "stream",
     "text": [
      "Poczatek DataFrame\n",
      "          X         Y\n",
      "0  0.000000  0.000000\n",
      "1  0.063467  0.000255\n",
      "2  0.126933  0.002040\n",
      "3  0.190400  0.006861\n",
      "4  0.253866  0.016186\n",
      "5  0.317333  0.031422\n",
      "6  0.380799  0.053894\n"
     ]
    }
   ],
   "source": [
    "df1 = pd.DataFrame({\"X\":x,\"Y\":y})\n",
    "print(\"Poczatek DataFrame\")\n",
    "print(df1.head(7))"
   ]
  },
  {
   "cell_type": "code",
   "execution_count": 99,
   "id": "a42f0256-84b8-48d8-a457-eb13ce1addec",
   "metadata": {
    "deletable": false,
    "editable": false,
    "nbgrader": {
     "cell_type": "code",
     "checksum": "7ec81a4d6bfc0b69a9f1aaedb919bd2f",
     "grade": true,
     "grade_id": "cell-73aca5d3491fabcd",
     "locked": true,
     "points": 0,
     "schema_version": 3,
     "solution": false,
     "task": false
    },
    "tags": []
   },
   "outputs": [],
   "source": [
    "# Komórka testowa\n",
    "assert df1.shape == (100, 2)\n",
    "assert np.all(df1.columns == ['X', 'Y'])\n",
    "assert np.isclose(df1[\"X\"].min(), 0)\n",
    "assert np.isclose(df1[\"X\"].max(), 6.283185307179586)\n",
    "assert np.isclose(df1[\"X\"].sum(), 314.15926535897927)\n",
    "assert np.isclose(df1[\"Y\"].min(), -24.08157817807183)\n",
    "assert np.isclose(df1[\"Y\"].max(), 3.945229395130286)\n",
    "assert np.isclose(df1[\"Y\"].sum(), -621.8265349162731)"
   ]
  },
  {
   "cell_type": "markdown",
   "id": "c248e029-4919-4c2b-ba17-ee9f0866a10b",
   "metadata": {
    "deletable": false,
    "editable": false,
    "nbgrader": {
     "cell_type": "markdown",
     "checksum": "d7956245b8f4428c485a3abffddd3a34",
     "grade": false,
     "grade_id": "cell-d15a3c8e80d062a5",
     "locked": true,
     "schema_version": 3,
     "solution": false,
     "task": false
    },
    "tags": []
   },
   "source": [
    "d) Wykorzystaj funkcje `pd.DataFrame.head()`, `pd.DataFrame.tail()` i `pd.DataFrame.describe()` do wyświetlenia początku i końca tablicy oraz statystycznego podsumowania zawartych w niej danych."
   ]
  },
  {
   "cell_type": "code",
   "execution_count": 101,
   "id": "4327700d-c2cd-497d-a3bb-e8163e220255",
   "metadata": {
    "deletable": false,
    "nbgrader": {
     "cell_type": "code",
     "checksum": "46bd2b3ebf221cd87f8b11e992cc35d5",
     "grade": true,
     "grade_id": "cell-42318b97e99b9bc4",
     "locked": false,
     "points": 0,
     "schema_version": 3,
     "solution": true,
     "task": false
    },
    "tags": []
   },
   "outputs": [
    {
     "name": "stdout",
     "output_type": "stream",
     "text": [
      "Poczatek DataFrame\n",
      "          X         Y\n",
      "0  0.000000  0.000000\n",
      "1  0.063467  0.000255\n",
      "2  0.126933  0.002040\n",
      "3  0.190400  0.006861\n",
      "4  0.253866  0.016186\n",
      "5  0.317333  0.031422\n",
      "6  0.380799  0.053894\n",
      "Koniec DataFrame\n",
      "           X             Y\n",
      "94  5.965853 -1.110571e+01\n",
      "95  6.029319 -9.129905e+00\n",
      "96  6.092786 -7.025392e+00\n",
      "97  6.156252 -4.797783e+00\n",
      "98  6.219719 -2.453548e+00\n",
      "99  6.283185 -9.669424e-15\n",
      "Statystyczne podsumowanie\n",
      "                X             Y\n",
      "count  100.000000  1.000000e+02\n",
      "mean     3.141593 -6.218265e+00\n",
      "std      1.841258  9.889789e+00\n",
      "min      0.000000 -2.408158e+01\n",
      "25%      1.570796 -1.544671e+01\n",
      "50%      3.141593 -4.834712e-15\n",
      "75%      4.712389  1.764147e+00\n",
      "max      6.283185  3.945229e+00\n"
     ]
    }
   ],
   "source": [
    "print(\"Poczatek DataFrame\")\n",
    "print(df1.head(7))\n",
    "\n",
    "print(\"Koniec DataFrame\")\n",
    "print(df1.tail(6))\n",
    "\n",
    "print(\"Statystyczne podsumowanie\")\n",
    "print(df1.describe())"
   ]
  },
  {
   "cell_type": "code",
   "execution_count": 102,
   "id": "9c60cfe9-e0e1-4667-b12d-3788615b14c9",
   "metadata": {
    "deletable": false,
    "nbgrader": {
     "cell_type": "code",
     "checksum": "e22cd49be043f8963a8f57c80fb4afbb",
     "grade": true,
     "grade_id": "cell-d21071798f3affc6",
     "locked": false,
     "points": 0,
     "schema_version": 3,
     "solution": true,
     "task": false
    },
    "tags": []
   },
   "outputs": [],
   "source": [
    "# YOUR CODE HERE\n"
   ]
  },
  {
   "cell_type": "code",
   "execution_count": 103,
   "id": "24772ad1-f451-433d-857a-6aaf4574959f",
   "metadata": {
    "deletable": false,
    "nbgrader": {
     "cell_type": "code",
     "checksum": "df9cef9b26a86c371a1d85d1232e8830",
     "grade": true,
     "grade_id": "cell-8f9530dc829a7fba",
     "locked": false,
     "points": 0,
     "schema_version": 3,
     "solution": true,
     "task": false
    },
    "tags": []
   },
   "outputs": [],
   "source": [
    "# YOUR CODE HERE\n"
   ]
  },
  {
   "cell_type": "markdown",
   "id": "38adcb8c-7708-43e0-94f7-04a98d470149",
   "metadata": {
    "deletable": false,
    "editable": false,
    "nbgrader": {
     "cell_type": "markdown",
     "checksum": "cecec85b8367c08c33f5eec9a9cc2f04",
     "grade": false,
     "grade_id": "cell-0659bce549825b4e",
     "locked": true,
     "schema_version": 3,
     "solution": false,
     "task": false
    },
    "tags": []
   },
   "source": [
    "e) Korzystając z funkcji `plt.subplots()` przygotuj figurę o wymiarach 15x10 zawierając dwa pola na wykresy (siatka 2x1). Na górnym polu umieść wykres liniowy wygenerowany za pomocą funkcji `plt.plot()`. Na dolnym polu umieść wykres wygenerowany za pomocą funkcji `sns.lineplot()`. Przygotowując wykresy wykorzystaj dane z tablicy `df1`. W obu przypadkach zadbaj o to aby wykresy miały nadany tytuł, podpisane osie, a zakres osi x dostosowany był do zakresu danych. Samodzielnie dobierz inne od domyślnych wartości parametrów określających styl, grubość i kolor linii oraz dostosuj odległość między wykresami z wykorzystaniem funkcji `plt.subplots_adjust()`."
   ]
  },
  {
   "cell_type": "code",
   "execution_count": 112,
   "id": "e2147df1-48a5-415a-8a4a-22d4e516e650",
   "metadata": {
    "deletable": false,
    "nbgrader": {
     "cell_type": "code",
     "checksum": "e3f0d14d97b03ffaf4e318f68b6b6d92",
     "grade": true,
     "grade_id": "cell-a6a9eab7e5e1c7f2",
     "locked": false,
     "points": 0,
     "schema_version": 3,
     "solution": true,
     "task": false
    },
    "scrolled": true,
    "tags": []
   },
   "outputs": [
    {
     "data": {
      "image/png": "[encoded data removed]",
      "text/plain": [
       "<Figure size 1500x1000 with 2 Axes>"
      ]
     },
     "metadata": {},
     "output_type": "display_data"
    }
   ],
   "source": [
    "fig,axes = plt.subplots(nrows=2,ncols=1,figsize=(15,10))\n",
    "axes[0].plot(df1[\"X\"],df1[\"Y\"],label=\"y= x^2 * sin(x)\",color=\"green\",linestyle=\"--\",linewidth=3)\n",
    "\n",
    "axes[0].set_title(\"Wykres liniowy\")\n",
    "axes[0].set_xlabel(\"X\")\n",
    "axes[0].set_ylabel(\"Y\")\n",
    "axes[0].legend()\n",
    "axes[0].grid(True)\n",
    "\n",
    "sns.lineplot(x=\"X\",y=\"Y\",data=df1,ax=axes[1],label=\"y= x^2 * sin(x)\",color=\"red\",linestyle=\"-.\",linewidth=2)\n",
    "axes[1].set_title(\"Wykres seaborn\")\n",
    "axes[1].set_xlabel(\"X\")\n",
    "axes[1].set_ylabel(\"Y\")\n",
    "axes[1].legend()\n",
    "axes[1].grid(True)\n",
    "\n",
    "\n",
    "plt.show()"
   ]
  },
  {
   "cell_type": "markdown",
   "id": "d6b4554c-a572-495d-8e47-c3dd3a33737b",
   "metadata": {
    "deletable": false,
    "editable": false,
    "nbgrader": {
     "cell_type": "markdown",
     "checksum": "eb9df467e5d61469e5ce1890b248c59f",
     "grade": false,
     "grade_id": "cell-c46ff511c067e2f4",
     "locked": true,
     "schema_version": 3,
     "solution": false,
     "task": false
    },
    "tags": []
   },
   "source": [
    "## Zadanie 7\n",
    "\n",
    "Zmienna `df2` zawiera dane z badań kwiatów."
   ]
  },
  {
   "cell_type": "code",
   "execution_count": null,
   "id": "16300d77-d567-45e3-b99f-bea51f95ab06",
   "metadata": {
    "deletable": false,
    "editable": false,
    "nbgrader": {
     "cell_type": "code",
     "checksum": "5cae66be4b6a4341853d4070a4f099f7",
     "grade": false,
     "grade_id": "cell-b41c8613d61f2877",
     "locked": true,
     "schema_version": 3,
     "solution": false,
     "task": false
    },
    "tags": []
   },
   "outputs": [],
   "source": [
    "df2 = sns.load_dataset(\"iris\")\n",
    "df2.head()"
   ]
  },
  {
   "cell_type": "markdown",
   "id": "65693828-1496-44f3-bbf9-cd3759b0bc56",
   "metadata": {
    "deletable": false,
    "editable": false,
    "nbgrader": {
     "cell_type": "markdown",
     "checksum": "c6134921f524c77d57f969e155e9b5e2",
     "grade": false,
     "grade_id": "cell-553de7eede26de1c",
     "locked": true,
     "schema_version": 3,
     "solution": false,
     "task": false
    },
    "tags": []
   },
   "source": [
    "a) Korzystając z funkcji `plt.subplots()` i `sns.scatterplot()` przygotuj figurę o wymiarach 15x7.5 zawierając dwa pola na wykresy (siatka 1x2). Zapełnij pola wykresami zestawiającymi ze sobą długość i szerokość poszczególnych fragmentów kwiatów, jednocześnie rozróżniając punkty na wykresach kolorem (`hue`) na podstawie gatunku roślin."
   ]
  },
  {
   "cell_type": "code",
   "execution_count": null,
   "id": "519a96d7-6ca2-413d-829b-643e2931259e",
   "metadata": {
    "deletable": false,
    "nbgrader": {
     "cell_type": "code",
     "checksum": "da58d56dbd26d07ac1400cd31d20b419",
     "grade": true,
     "grade_id": "cell-773250e3f450ea8a",
     "locked": false,
     "points": 0,
     "schema_version": 3,
     "solution": true,
     "task": false
    },
    "tags": []
   },
   "outputs": [],
   "source": [
    "# YOUR CODE HERE\n",
    "raise NotImplementedError()"
   ]
  },
  {
   "cell_type": "markdown",
   "id": "d6e91d03-db31-4aa2-a3cf-0700aa1c9335",
   "metadata": {
    "deletable": false,
    "editable": false,
    "nbgrader": {
     "cell_type": "markdown",
     "checksum": "9847b54aeb2305fd3f451158ac9edee2",
     "grade": false,
     "grade_id": "cell-23b2a3b9769a3c6f",
     "locked": true,
     "schema_version": 3,
     "solution": false,
     "task": false
    },
    "tags": []
   },
   "source": [
    "b) Korzystając z funkcji `plt.subplots()` i `sns.histplot()` przygotuj figurę o wymiarach 20x5 zawierając cztery pola na wykresy (siatka 1x4). Zapełnij pola histogramami wybranych przez siebie parametrów liczbowych, jednocześnie rozróżniając na wykresach kolorem (`hue`) dane przypisane do poszczególnych gatunków roślin. Przetestuj wykorzystanie różnych wartości parametrów `element`, `kde` i `multiple` oraz innych wybranych przez siebie parametrów wykresu."
   ]
  },
  {
   "cell_type": "code",
   "execution_count": null,
   "id": "c1c46e15-f9c9-40ea-81cc-1b623c134af3",
   "metadata": {
    "deletable": false,
    "nbgrader": {
     "cell_type": "code",
     "checksum": "150ad704d80fa7096a600cda85324528",
     "grade": true,
     "grade_id": "cell-991f8f89f17eb30d",
     "locked": false,
     "points": 0,
     "schema_version": 3,
     "solution": true,
     "task": false
    },
    "tags": []
   },
   "outputs": [],
   "source": [
    "# YOUR CODE HERE\n",
    "raise NotImplementedError()"
   ]
  },
  {
   "cell_type": "markdown",
   "id": "c50c9520-0483-4839-9b6e-aa79bbd1cca1",
   "metadata": {
    "deletable": false,
    "editable": false,
    "nbgrader": {
     "cell_type": "markdown",
     "checksum": "e9fe02ed818c515140306d388405e88b",
     "grade": false,
     "grade_id": "cell-de62577d2f7bec8e",
     "locked": true,
     "schema_version": 3,
     "solution": false,
     "task": false
    },
    "tags": []
   },
   "source": [
    "c) Zdefiniuj i wyświetl zmienną `df_setosa`, która zawiera wyłącznie dane odnoszące się do kwiatów z gatunku setosa."
   ]
  },
  {
   "cell_type": "code",
   "execution_count": null,
   "id": "0b6934b8-2837-4211-81b0-90cc45db70b8",
   "metadata": {
    "deletable": false,
    "nbgrader": {
     "cell_type": "code",
     "checksum": "a71f8cafd46dffb2788874486a02372d",
     "grade": false,
     "grade_id": "cell-297bb25c82022730",
     "locked": false,
     "schema_version": 3,
     "solution": true,
     "task": false
    },
    "tags": []
   },
   "outputs": [],
   "source": [
    "# YOUR CODE HERE\n",
    "raise NotImplementedError()"
   ]
  },
  {
   "cell_type": "code",
   "execution_count": null,
   "id": "5717dc28-dac2-4c0e-89d5-70615aaf609c",
   "metadata": {
    "deletable": false,
    "editable": false,
    "nbgrader": {
     "cell_type": "code",
     "checksum": "8fd5db71e70902eb7235d1478217d9d1",
     "grade": true,
     "grade_id": "cell-376fb07340af302a",
     "locked": true,
     "points": 0,
     "schema_version": 3,
     "solution": false,
     "task": false
    },
    "tags": []
   },
   "outputs": [],
   "source": [
    "# Komórka testowa\n",
    "assert df_setosa.shape == (50, 5)\n",
    "assert df_setosa[\"species\"].unique() == ['setosa']"
   ]
  },
  {
   "cell_type": "markdown",
   "id": "2bf42c23-f12b-4eb7-834e-b48598ce5f67",
   "metadata": {
    "deletable": false,
    "editable": false,
    "nbgrader": {
     "cell_type": "markdown",
     "checksum": "dd55c11b1df227b0ee7237afa6cd8c9e",
     "grade": false,
     "grade_id": "cell-5eee1a769ef6276c",
     "locked": true,
     "schema_version": 3,
     "solution": false,
     "task": false
    },
    "tags": []
   },
   "source": [
    "## Zadanie 8\n",
    "\n",
    "Zmienna `df3` zawiera dane z badań pingwinów."
   ]
  },
  {
   "cell_type": "code",
   "execution_count": null,
   "id": "31ddfce5-9a4a-44de-87bc-9c18845f305b",
   "metadata": {
    "deletable": false,
    "editable": false,
    "nbgrader": {
     "cell_type": "code",
     "checksum": "1a0c39bcae0719a0239ce6d81420bc07",
     "grade": false,
     "grade_id": "cell-4d7b17cbaf3bd1d7",
     "locked": true,
     "schema_version": 3,
     "solution": false,
     "task": false
    },
    "tags": []
   },
   "outputs": [],
   "source": [
    "df3 = sns.load_dataset(\"penguins\")\n",
    "df3.head()"
   ]
  },
  {
   "cell_type": "markdown",
   "id": "d9b76259-9685-4d60-b45e-1457040d9a3f",
   "metadata": {
    "deletable": false,
    "editable": false,
    "nbgrader": {
     "cell_type": "markdown",
     "checksum": "c789c2aa4a6f0334bacb565e13168ba0",
     "grade": false,
     "grade_id": "cell-d65b8e3e720a8301",
     "locked": true,
     "schema_version": 3,
     "solution": false,
     "task": false
    },
    "tags": []
   },
   "source": [
    "a) Wykorzystaj funckję `pd.DataFrame.dropna()` do usunięcia z tablicy `df3` wierszy zawierających wartości `NaN`."
   ]
  },
  {
   "cell_type": "code",
   "execution_count": null,
   "id": "067ef05f-a5ad-4404-ad74-40f52aa8a4df",
   "metadata": {
    "deletable": false,
    "nbgrader": {
     "cell_type": "code",
     "checksum": "49beed7e43dcbf931a767d3ee970b078",
     "grade": false,
     "grade_id": "cell-cbd321b773c4fa71",
     "locked": false,
     "schema_version": 3,
     "solution": true,
     "task": false
    },
    "tags": []
   },
   "outputs": [],
   "source": [
    "# YOUR CODE HERE\n",
    "raise NotImplementedError()"
   ]
  },
  {
   "cell_type": "code",
   "execution_count": null,
   "id": "6a4770bf-d9f4-42a7-aecf-978cb161df74",
   "metadata": {
    "deletable": false,
    "editable": false,
    "nbgrader": {
     "cell_type": "code",
     "checksum": "53811b438c827a8ed6ef9f7f8ded2372",
     "grade": true,
     "grade_id": "cell-74665eaa5095f3fc",
     "locked": true,
     "points": 0,
     "schema_version": 3,
     "solution": false,
     "task": false
    },
    "tags": []
   },
   "outputs": [],
   "source": [
    "# Komórka testowa\n",
    "assert df3.shape == (333, 7)"
   ]
  },
  {
   "cell_type": "markdown",
   "id": "1d125e6e-434a-4f21-b8e3-6d8de593ed7c",
   "metadata": {
    "deletable": false,
    "editable": false,
    "nbgrader": {
     "cell_type": "markdown",
     "checksum": "908f896e5d35384cc42a9835a887b116",
     "grade": false,
     "grade_id": "cell-70f51526b6ac02cd",
     "locked": true,
     "schema_version": 3,
     "solution": false,
     "task": false
    },
    "tags": []
   },
   "source": [
    "b) Korzystając z funkcji `plt.subplots()` oraz `sns.scatterplot()` przygotuj figurę o wymiarach 15x15 zawierając 4 pola na wykresy (siatka 2x2). Zapełnij wszystkie pola wykresami zestawiającymi ze sobą różne parametry liczbowe, jednocześnie rozróżniając punkty na wykresach kolorem (`hue`) i kształtem (`style`) na podstawie wybranych przez siebie parametrów opisowych."
   ]
  },
  {
   "cell_type": "code",
   "execution_count": null,
   "id": "af5a4791-2d63-43a1-a590-fa2d5e4993e6",
   "metadata": {
    "deletable": false,
    "nbgrader": {
     "cell_type": "code",
     "checksum": "3bc08e8d1571fb967765f61d8ec993cc",
     "grade": true,
     "grade_id": "cell-41531edc36966ed5",
     "locked": false,
     "points": 0,
     "schema_version": 3,
     "solution": true,
     "task": false
    },
    "tags": []
   },
   "outputs": [],
   "source": [
    "# YOUR CODE HERE\n",
    "raise NotImplementedError()"
   ]
  },
  {
   "cell_type": "markdown",
   "id": "c01e91ad-478f-4711-91c8-7e937a03ffe3",
   "metadata": {
    "deletable": false,
    "editable": false,
    "nbgrader": {
     "cell_type": "markdown",
     "checksum": "b464d1df392b50b46f799a75384bf7c6",
     "grade": false,
     "grade_id": "cell-6356b58f9248258c",
     "locked": true,
     "schema_version": 3,
     "solution": false,
     "task": false
    },
    "tags": []
   },
   "source": [
    "c) Zdefiniuj i wyświetl zmienną `df_AT`, która zawiera wyłącznie dane odnoszące się do pingwinów z gatunku Adelie przebadanych na wyspie Torgersen."
   ]
  },
  {
   "cell_type": "code",
   "execution_count": null,
   "id": "1c738459-6cef-496e-8fe3-4bb149a9cf73",
   "metadata": {
    "deletable": false,
    "nbgrader": {
     "cell_type": "code",
     "checksum": "8332df2a2ddf3ce7cdc3bd638327c347",
     "grade": false,
     "grade_id": "cell-f574ecf27bd0e8f4",
     "locked": false,
     "schema_version": 3,
     "solution": true,
     "task": false
    },
    "tags": []
   },
   "outputs": [],
   "source": [
    "# YOUR CODE HERE\n",
    "raise NotImplementedError()"
   ]
  },
  {
   "cell_type": "code",
   "execution_count": null,
   "id": "1a7a15ee-f030-4479-9f21-9ad98ff1356b",
   "metadata": {
    "deletable": false,
    "editable": false,
    "nbgrader": {
     "cell_type": "code",
     "checksum": "62b1a37df19fa0ad64298d54666dee47",
     "grade": true,
     "grade_id": "cell-21e2792629948c25",
     "locked": true,
     "points": 0,
     "schema_version": 3,
     "solution": false,
     "task": false
    },
    "tags": []
   },
   "outputs": [],
   "source": [
    "# Komórka testowa\n",
    "assert df_AT.shape == (47, 7)\n",
    "assert df_AT[\"species\"].unique() == ['Adelie']\n",
    "assert df_AT[\"island\"].unique() == ['Torgersen']"
   ]
  },
  {
   "cell_type": "markdown",
   "id": "45041049-ad9f-486d-878b-674766044b57",
   "metadata": {
    "deletable": false,
    "editable": false,
    "nbgrader": {
     "cell_type": "markdown",
     "checksum": "a6f849e0de79fa97f0272c81a7db6c2e",
     "grade": false,
     "grade_id": "cell-a4cb2774d53f878d",
     "locked": true,
     "schema_version": 3,
     "solution": false,
     "task": false
    },
    "tags": []
   },
   "source": [
    "d) Odpowiedz na pytanie jaka jest średnia długość dzioba pingwinów płci żeńskiej zbadanych na wyspie Biscoe. Odpowiedź zapisz w zmiennej `bill_length`."
   ]
  },
  {
   "cell_type": "code",
   "execution_count": null,
   "id": "8987ca3a-2eab-4069-8cda-835532abce86",
   "metadata": {
    "deletable": false,
    "nbgrader": {
     "cell_type": "code",
     "checksum": "745d604be6dcbbaf46335a2d4c7522ac",
     "grade": false,
     "grade_id": "cell-29bae50eb526449d",
     "locked": false,
     "schema_version": 3,
     "solution": true,
     "task": false
    },
    "tags": []
   },
   "outputs": [],
   "source": [
    "# YOUR CODE HERE\n",
    "raise NotImplementedError()"
   ]
  },
  {
   "cell_type": "code",
   "execution_count": null,
   "id": "2e48781e-97f4-4fb2-8979-8fbce89c3123",
   "metadata": {
    "deletable": false,
    "editable": false,
    "nbgrader": {
     "cell_type": "code",
     "checksum": "398e4746bb854849e7b224b2c3312c22",
     "grade": true,
     "grade_id": "cell-082e9e33b653d72f",
     "locked": true,
     "points": 0,
     "schema_version": 3,
     "solution": false,
     "task": false
    },
    "tags": []
   },
   "outputs": [],
   "source": [
    "# Komórka testowa\n",
    "assert np.isclose(bill_length, 43.30749999999999)"
   ]
  },
  {
   "cell_type": "markdown",
   "id": "47d76a0d-a329-4244-87ce-39edccf71614",
   "metadata": {
    "deletable": false,
    "editable": false,
    "nbgrader": {
     "cell_type": "markdown",
     "checksum": "4df6e72033e7d0c9cc1e480deee54e81",
     "grade": false,
     "grade_id": "cell-76d2e475b602f2f8",
     "locked": true,
     "schema_version": 3,
     "solution": false,
     "task": false
    },
    "tags": []
   },
   "source": [
    "e) Odpowiedz na pytanie jakie są minimalne, średnie i maksymalne wagi pingwinów gatunku Adelie zbadanych na poszczególnych wyspach. Wyniki zapisz w tablicy pandas o następującej strukturze:\n",
    "- nazwy kolumn: nazwy wysp w kolejności alfabetycznej\n",
    "- nazwy wierszy: kolejno \"min\", \"mean\", \"max\""
   ]
  },
  {
   "cell_type": "code",
   "execution_count": null,
   "id": "362371f3-a652-4c62-b83b-fc0fa179976e",
   "metadata": {
    "deletable": false,
    "nbgrader": {
     "cell_type": "code",
     "checksum": "d204b0b5b82f000b230962f067b5eaa7",
     "grade": false,
     "grade_id": "cell-851b81347da5f3df",
     "locked": false,
     "schema_version": 3,
     "solution": true,
     "task": false
    },
    "tags": []
   },
   "outputs": [],
   "source": [
    "# YOUR CODE HERE\n",
    "raise NotImplementedError()"
   ]
  },
  {
   "cell_type": "code",
   "execution_count": null,
   "id": "798ae155-04f7-486e-ac74-05f475993cc3",
   "metadata": {
    "deletable": false,
    "editable": false,
    "nbgrader": {
     "cell_type": "code",
     "checksum": "2031032727eddfbc187fef19f31e7886",
     "grade": true,
     "grade_id": "cell-3aeb67ba37dd4f33",
     "locked": true,
     "points": 0,
     "schema_version": 3,
     "solution": false,
     "task": false
    },
    "tags": []
   },
   "outputs": [],
   "source": [
    "# Komórka testowa\n",
    "assert df_w.shape == (3, 3)\n",
    "assert np.all(df_w.columns == ['Biscoe', 'Dream', 'Torgersen'])\n",
    "assert np.all(df_w.index == ['min', 'mean', 'max'])\n",
    "assert np.all(np.isclose(df_w.values, np.array([[2850., 2900., 2900.], [3709.65909091, 3701.36363636, 3708.5106383], [4775., 4650., 4700.]])))"
   ]
  }
 ],
 "metadata": {
  "kernelspec": {
   "display_name": "Python 3 (ipykernel)",
   "language": "python",
   "name": "python3"
  },
  "language_info": {
   "codemirror_mode": {
    "name": "ipython",
    "version": 3
   },
   "file_extension": ".py",
   "mimetype": "text/x-python",
   "name": "python",
   "nbconvert_exporter": "python",
   "pygments_lexer": "ipython3",
   "version": "3.12.8"
  }
 },
 "nbformat": 4,
 "nbformat_minor": 5
}
