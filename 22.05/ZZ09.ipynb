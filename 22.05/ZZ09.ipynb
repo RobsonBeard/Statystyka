{
 "cells": [
  {
   "cell_type": "markdown",
   "id": "4b67653b",
   "metadata": {
    "deletable": false,
    "editable": false,
    "nbgrader": {
     "cell_type": "markdown",
     "checksum": "f523dba23a51181899106d4f0b4a1d7b",
     "grade": false,
     "grade_id": "cell-fcd2666579131b77",
     "locked": true,
     "schema_version": 3,
     "solution": false,
     "task": false
    },
    "tags": []
   },
   "source": [
    "# Statystyka matematyczna - ćwiczenia laboratoryjne\n",
    "\n",
    "Ten notatnik zalicza się do grupy zestawów zadań, na podstawie których odbywa się zaliczenie ćwiczeń i podlega zwrotowi do oceny w ustalonym na zajęciach terminie.\n",
    "\n",
    "Uwagi i wytyczne ogólne dotyczące uzupełniania notatnika:\n",
    "- Podczas wykonywania zadań należy korzystać wyłącznie z pakietów zaimportowanych na początku notatnika oraz z pakietów wchodzących w skład standardowej biblioteki Pythona, które można zaimportować samodzielnie we wskazanej komórce notatnika.\n",
    "- Swoje rozwiązania należy wprowadzać wyłącznie w miejce następujących fragmentów kodu:<br/> `# YOUR CODE HERE`<br/> `raise NotImplementedError()`<br/> \n",
    "a odpowiedzi tekstowe w komórkach oznaczonych hasłem:<br/> \n",
    "`YOUR ANSWER HERE`<br/> \n",
    "Nie należy w żaden sposób modyfikować pozostałych fragmentów kodu oraz innych elementów notatnika, w szczególności dodawać lub usuwać komórek oraz zmieniać nazwy pliku.\n",
    "- Otrzymywane wyniki i odpowiedzi mają być rezultatem wykonania napisanego kodu.\n",
    "- Zadanie należy wykonać w taki sposób, aby podczas wykonywania kodu nie zostały wyświetlone żadne ostrzeżenia.\n",
    "- Zawarte w notatniku automatyczne testy mają charakter poglądowy. Dotyczą one wybranych aspektów zadań i mają za zadanie wyłapać podstawowe błędy. Przejście wszystkich testów nie oznacza, że zadanie jest wykonane w całości poprawnie.\n",
    "\n",
    "Uwagi i wytyczne ogólne dotyczące wizualizacji wyników:\n",
    "- Wszystkie wykresy powinny być wykonane w jednolitym, przejrzystym i czytelnym stylu, posiadać odpowiednio dobrane proporcje i zakresy wartości osi.\n",
    "- Wykresy oraz ich osie powinny mieć nadane tytuły. Jeżeli w obrębie figury znajduje się więcej niż jeden wykres to figura również powinna mieć nadany tytuł. \n",
    "- Figury powinny mieć ustawione białe tło, tak, aby niezależnie od ustawień notatnika wszystkie elementy wykresów były dobrze widoczne (domyślnie tło jest przeźroczyste co może powodować problemy w notatnikach z ustawionym ciemnym tłem).\n",
    "- Rozmiar poziomy figur nie powinien przekraczać 20 cali.\n",
    "\n",
    "Przed odesłaniem zestawu zadań do oceny proszę uzupełnić komórkę z danymi autorów rozwiązania (nazwa zespołu oraz imiona, nazwiska i numery indeksów członków zespołu) oraz upewnić się, że notatnik działa zgodnie z oczekiwaniami. W tym celu należy skorzystać z opcji **Restart Kernel and Run All Cells...** dostępnej na górnej belce notatnika pod symbolem $\\blacktriangleright\\blacktriangleright$."
   ]
  },
  {
   "cell_type": "markdown",
   "id": "e218cb9b",
   "metadata": {},
   "source": [
    "Nazwa zespołu:\n",
    "Członkowie:"
   ]
  },
  {
   "cell_type": "markdown",
   "id": "e248025a",
   "metadata": {
    "deletable": false,
    "editable": false,
    "nbgrader": {
     "cell_type": "markdown",
     "checksum": "eddc8826810e4a6f7bf68319da334bd9",
     "grade": false,
     "grade_id": "cell-109006d425e5cf83",
     "locked": true,
     "schema_version": 3,
     "solution": false,
     "task": false
    },
    "tags": []
   },
   "source": [
    "---"
   ]
  },
  {
   "cell_type": "markdown",
   "id": "382d32c8-e544-41fe-874e-24890c5e2862",
   "metadata": {
    "deletable": false,
    "editable": false,
    "nbgrader": {
     "cell_type": "markdown",
     "checksum": "8f1337d921583b021763880fcb1634bf",
     "grade": false,
     "grade_id": "cell-316d27f4b45de7b7",
     "locked": true,
     "schema_version": 3,
     "solution": false,
     "task": false
    },
    "tags": []
   },
   "source": [
    "# Zestaw zadań 9: Weryfikacja hipotez statystycznych - testy parametryczne"
   ]
  },
  {
   "cell_type": "code",
   "execution_count": 1,
   "id": "391c514b-1c65-4498-bfef-204edf112c40",
   "metadata": {
    "deletable": false,
    "editable": false,
    "nbgrader": {
     "cell_type": "code",
     "checksum": "0f2d3dcc36b430d812ed257d781e8899",
     "grade": false,
     "grade_id": "cell-31010273a59a21db",
     "locked": true,
     "schema_version": 3,
     "solution": false,
     "task": false
    },
    "tags": []
   },
   "outputs": [],
   "source": [
    "import numpy as np\n",
    "import pandas as pd\n",
    "import scipy as sp\n",
    "import matplotlib as mpl\n",
    "import matplotlib.pyplot as plt\n",
    "import seaborn as sns"
   ]
  },
  {
   "cell_type": "code",
   "execution_count": 2,
   "id": "be7cae01-767c-4453-b460-4d0994c5e99d",
   "metadata": {},
   "outputs": [],
   "source": [
    "# Miejsce do importu pakietów wchodzących w skład standardowej biblioteki Pythona oraz ustawienie opcji wykorzystywanych pakietów"
   ]
  },
  {
   "cell_type": "markdown",
   "id": "02edfc5a-d1dd-4aaf-8d4a-5ccf6e9b408c",
   "metadata": {
    "deletable": false,
    "editable": false,
    "nbgrader": {
     "cell_type": "markdown",
     "checksum": "789d9d84c5bba6e6ea5619ff296587fb",
     "grade": false,
     "grade_id": "cell-d73b745224b84300",
     "locked": true,
     "schema_version": 3,
     "solution": false,
     "task": false
    },
    "tags": []
   },
   "source": [
    "### Funkcje do wykorzystania"
   ]
  },
  {
   "cell_type": "code",
   "execution_count": 3,
   "id": "5cf31602-a0b5-467f-8cd6-cd75b8fe7b2b",
   "metadata": {
    "deletable": false,
    "editable": false,
    "nbgrader": {
     "cell_type": "code",
     "checksum": "0335025477bfe58ca1cc8057a304c3d2",
     "grade": false,
     "grade_id": "cell-5b408029f7037853",
     "locked": true,
     "schema_version": 3,
     "solution": false,
     "task": false
    },
    "tags": []
   },
   "outputs": [],
   "source": [
    "def vizualize_test_result(pdf, statistic, rejection_region):\n",
    "    \"\"\"\n",
    "    Parameters\n",
    "    -------\n",
    "    pdf: pandas.DataFrame\n",
    "        Tablica zawierająca informacje niezbędne do wykreślenia funkcji gęstości prawdopodobieństwa wykorzystywanego w teście rozkładu\n",
    "        teoretycznego - index z wariantami zmiennej losowej i nadaną nazwą zmiennej (np. x) oraz pojedynczą kolumnę z wartościami\n",
    "        gęstościami prawdopodobieństwa wyliczonymi dla poszczególnych wariantów o nadanej nazwie bazującej na nazwie zmiennej (np. f(x)).\n",
    "    statistic: float\n",
    "        Wartość statystyki testowej wyliczonej na podstawie próby losowej.\n",
    "    rejection_region: list\n",
    "        Lista zawierająca trzy elementy pozwalające na określenie obszaru krytycznego w następującej kolejności:\n",
    "         - wartość dolnej granicy przedziału,\n",
    "         - wartość górnej granicy przedziału,\n",
    "         - \"inner\" lub \"outer\" w zależności od tego, czy ma być zakolorowana wewnętrzna, czy zewnętrzna część przedziału.\n",
    "    \"\"\"\n",
    "    pdf_name= pdf.columns[0]\n",
    "    \n",
    "    fig, axes = plt.subplots(1, 1, figsize=(8, 3), facecolor='white')\n",
    "\n",
    "    axes.plot(pdf.index, pdf[pdf_name], color=\"grey\")\n",
    "\n",
    "    if rejection_region[2]==\"inner\":\n",
    "        axes.fill_between(pdf.index, pdf[pdf_name], 0, where=((pdf.index > rejection_region[0]) & (pdf.index<rejection_region[1])), color='red', alpha=0.5)\n",
    "    elif rejection_region[2]==\"outer\":\n",
    "        axes.fill_between(pdf.index, pdf[pdf_name], 0, where=((pdf.index < rejection_region[0]) | (pdf.index>rejection_region[1])), color='red', alpha=0.5)\n",
    "    \n",
    "    axes.vlines(x=statistic, ymin=0, ymax=np.max(pdf[pdf_name]/3), color=\"blue\")\n",
    "    \n",
    "    axes.set_xlabel(pdf.index.name)\n",
    "    axes.set_ylabel(pdf_name)"
   ]
  },
  {
   "cell_type": "markdown",
   "id": "fae35bbe-4a61-4e42-8b51-457957274b02",
   "metadata": {
    "deletable": false,
    "editable": false,
    "nbgrader": {
     "cell_type": "markdown",
     "checksum": "72d339512bd028357e3e055d5c1dd0ec",
     "grade": false,
     "grade_id": "cell-ac814ce79e0be7cb",
     "locked": true,
     "schema_version": 3,
     "solution": false,
     "task": false
    },
    "tags": []
   },
   "source": [
    "### Dane do zadań\n",
    "\n",
    "W celu wygenerowania danych wykorzystywanych w zawartych w notatniku komórkach testowych wykonaj poniższe komórki."
   ]
  },
  {
   "cell_type": "code",
   "execution_count": 4,
   "id": "4939460e-063d-4ce2-a5dc-379232e87486",
   "metadata": {
    "deletable": false,
    "editable": false,
    "nbgrader": {
     "cell_type": "code",
     "checksum": "def5d503e2b93eb53978c0305a220065",
     "grade": false,
     "grade_id": "cell-59cd2f258a10ed49",
     "locked": true,
     "schema_version": 3,
     "solution": false,
     "task": false
    },
    "tags": []
   },
   "outputs": [
    {
     "data": {
      "text/html": [
       "<div>\n",
       "<style scoped>\n",
       "    .dataframe tbody tr th:only-of-type {\n",
       "        vertical-align: middle;\n",
       "    }\n",
       "\n",
       "    .dataframe tbody tr th {\n",
       "        vertical-align: top;\n",
       "    }\n",
       "\n",
       "    .dataframe thead th {\n",
       "        text-align: right;\n",
       "    }\n",
       "</style>\n",
       "<table border=\"1\" class=\"dataframe\">\n",
       "  <thead>\n",
       "    <tr style=\"text-align: right;\">\n",
       "      <th></th>\n",
       "      <th>X</th>\n",
       "    </tr>\n",
       "  </thead>\n",
       "  <tbody>\n",
       "    <tr>\n",
       "      <th>0</th>\n",
       "      <td>5.338105</td>\n",
       "    </tr>\n",
       "    <tr>\n",
       "      <th>1</th>\n",
       "      <td>4.906813</td>\n",
       "    </tr>\n",
       "    <tr>\n",
       "      <th>2</th>\n",
       "      <td>5.006564</td>\n",
       "    </tr>\n",
       "    <tr>\n",
       "      <th>3</th>\n",
       "      <td>5.081503</td>\n",
       "    </tr>\n",
       "    <tr>\n",
       "      <th>4</th>\n",
       "      <td>4.842215</td>\n",
       "    </tr>\n",
       "  </tbody>\n",
       "</table>\n",
       "</div>"
      ],
      "text/plain": [
       "          X\n",
       "0  5.338105\n",
       "1  4.906813\n",
       "2  5.006564\n",
       "3  5.081503\n",
       "4  4.842215"
      ]
     },
     "execution_count": 4,
     "metadata": {},
     "output_type": "execute_result"
    }
   ],
   "source": [
    "test_data_1 = pd.DataFrame(data=sp.stats.norm.rvs(loc=5, scale=0.2, size=15, random_state=7), columns=[\"X\"])\n",
    "test_data_1.head()"
   ]
  },
  {
   "cell_type": "code",
   "execution_count": 5,
   "id": "49d1a654-f254-4f24-903e-a7743b6dfae9",
   "metadata": {
    "deletable": false,
    "editable": false,
    "nbgrader": {
     "cell_type": "code",
     "checksum": "446acb9b701d7e4d6e0c739bc1c952bc",
     "grade": false,
     "grade_id": "cell-caffbd342342256e",
     "locked": true,
     "schema_version": 3,
     "solution": false,
     "task": false
    },
    "tags": []
   },
   "outputs": [
    {
     "data": {
      "text/html": [
       "<div>\n",
       "<style scoped>\n",
       "    .dataframe tbody tr th:only-of-type {\n",
       "        vertical-align: middle;\n",
       "    }\n",
       "\n",
       "    .dataframe tbody tr th {\n",
       "        vertical-align: top;\n",
       "    }\n",
       "\n",
       "    .dataframe thead th {\n",
       "        text-align: right;\n",
       "    }\n",
       "</style>\n",
       "<table border=\"1\" class=\"dataframe\">\n",
       "  <thead>\n",
       "    <tr style=\"text-align: right;\">\n",
       "      <th></th>\n",
       "      <th>X</th>\n",
       "    </tr>\n",
       "  </thead>\n",
       "  <tbody>\n",
       "    <tr>\n",
       "      <th>0</th>\n",
       "      <td>False</td>\n",
       "    </tr>\n",
       "    <tr>\n",
       "      <th>1</th>\n",
       "      <td>False</td>\n",
       "    </tr>\n",
       "    <tr>\n",
       "      <th>2</th>\n",
       "      <td>False</td>\n",
       "    </tr>\n",
       "    <tr>\n",
       "      <th>3</th>\n",
       "      <td>False</td>\n",
       "    </tr>\n",
       "    <tr>\n",
       "      <th>4</th>\n",
       "      <td>True</td>\n",
       "    </tr>\n",
       "  </tbody>\n",
       "</table>\n",
       "</div>"
      ],
      "text/plain": [
       "       X\n",
       "0  False\n",
       "1  False\n",
       "2  False\n",
       "3  False\n",
       "4   True"
      ]
     },
     "execution_count": 5,
     "metadata": {},
     "output_type": "execute_result"
    }
   ],
   "source": [
    "test_data_2 = pd.DataFrame(data=sp.stats.norm.rvs(loc=-0.15, scale=0.2, size=100, random_state=12)>0, columns=[\"X\"])\n",
    "test_data_2.head()"
   ]
  },
  {
   "cell_type": "code",
   "execution_count": 6,
   "id": "ddd3024d-32c2-445e-8b25-099ddce5ffdc",
   "metadata": {},
   "outputs": [
    {
     "data": {
      "text/html": [
       "<div>\n",
       "<style scoped>\n",
       "    .dataframe tbody tr th:only-of-type {\n",
       "        vertical-align: middle;\n",
       "    }\n",
       "\n",
       "    .dataframe tbody tr th {\n",
       "        vertical-align: top;\n",
       "    }\n",
       "\n",
       "    .dataframe thead th {\n",
       "        text-align: right;\n",
       "    }\n",
       "</style>\n",
       "<table border=\"1\" class=\"dataframe\">\n",
       "  <thead>\n",
       "    <tr style=\"text-align: right;\">\n",
       "      <th></th>\n",
       "      <th>A1</th>\n",
       "      <th>A2</th>\n",
       "      <th>A3</th>\n",
       "    </tr>\n",
       "  </thead>\n",
       "  <tbody>\n",
       "    <tr>\n",
       "      <th>0</th>\n",
       "      <td>1802</td>\n",
       "      <td>1664.0</td>\n",
       "      <td>1877.0</td>\n",
       "    </tr>\n",
       "    <tr>\n",
       "      <th>1</th>\n",
       "      <td>1992</td>\n",
       "      <td>1755.0</td>\n",
       "      <td>1710.0</td>\n",
       "    </tr>\n",
       "    <tr>\n",
       "      <th>2</th>\n",
       "      <td>1854</td>\n",
       "      <td>1823.0</td>\n",
       "      <td>1882.0</td>\n",
       "    </tr>\n",
       "    <tr>\n",
       "      <th>3</th>\n",
       "      <td>1880</td>\n",
       "      <td>1862.0</td>\n",
       "      <td>1720.0</td>\n",
       "    </tr>\n",
       "    <tr>\n",
       "      <th>4</th>\n",
       "      <td>1761</td>\n",
       "      <td>NaN</td>\n",
       "      <td>1950.0</td>\n",
       "    </tr>\n",
       "    <tr>\n",
       "      <th>5</th>\n",
       "      <td>1900</td>\n",
       "      <td>NaN</td>\n",
       "      <td>NaN</td>\n",
       "    </tr>\n",
       "  </tbody>\n",
       "</table>\n",
       "</div>"
      ],
      "text/plain": [
       "     A1      A2      A3\n",
       "0  1802  1664.0  1877.0\n",
       "1  1992  1755.0  1710.0\n",
       "2  1854  1823.0  1882.0\n",
       "3  1880  1862.0  1720.0\n",
       "4  1761     NaN  1950.0\n",
       "5  1900     NaN     NaN"
      ]
     },
     "execution_count": 6,
     "metadata": {},
     "output_type": "execute_result"
    }
   ],
   "source": [
    "test_data_3 = pd.DataFrame(columns=[\"A1\", \"A2\", \"A3\"])\n",
    "test_data_3[\"A1\"] = [1802, 1992, 1854, 1880, 1761, 1900]\n",
    "test_data_3[\"A2\"] = [1664, 1755, 1823, 1862, np.nan, np.nan]\n",
    "test_data_3[\"A3\"] = [1877, 1710, 1882, 1720, 1950, np.nan]\n",
    "test_data_3"
   ]
  },
  {
   "cell_type": "code",
   "execution_count": 7,
   "id": "dacdc110-3d04-4654-8082-2c6400961182",
   "metadata": {},
   "outputs": [
    {
     "data": {
      "text/html": [
       "<div>\n",
       "<style scoped>\n",
       "    .dataframe tbody tr th:only-of-type {\n",
       "        vertical-align: middle;\n",
       "    }\n",
       "\n",
       "    .dataframe tbody tr th {\n",
       "        vertical-align: top;\n",
       "    }\n",
       "\n",
       "    .dataframe thead th {\n",
       "        text-align: right;\n",
       "    }\n",
       "</style>\n",
       "<table border=\"1\" class=\"dataframe\">\n",
       "  <thead>\n",
       "    <tr style=\"text-align: right;\">\n",
       "      <th></th>\n",
       "      <th>B1</th>\n",
       "      <th>B2</th>\n",
       "      <th>B3</th>\n",
       "    </tr>\n",
       "  </thead>\n",
       "  <tbody>\n",
       "    <tr>\n",
       "      <th>0</th>\n",
       "      <td>9</td>\n",
       "      <td>9</td>\n",
       "      <td>4</td>\n",
       "    </tr>\n",
       "    <tr>\n",
       "      <th>1</th>\n",
       "      <td>8</td>\n",
       "      <td>7</td>\n",
       "      <td>3</td>\n",
       "    </tr>\n",
       "    <tr>\n",
       "      <th>2</th>\n",
       "      <td>7</td>\n",
       "      <td>6</td>\n",
       "      <td>1</td>\n",
       "    </tr>\n",
       "    <tr>\n",
       "      <th>3</th>\n",
       "      <td>5</td>\n",
       "      <td>5</td>\n",
       "      <td>1</td>\n",
       "    </tr>\n",
       "  </tbody>\n",
       "</table>\n",
       "</div>"
      ],
      "text/plain": [
       "   B1  B2  B3\n",
       "0   9   9   4\n",
       "1   8   7   3\n",
       "2   7   6   1\n",
       "3   5   5   1"
      ]
     },
     "execution_count": 7,
     "metadata": {},
     "output_type": "execute_result"
    }
   ],
   "source": [
    "test_data_4 = pd.DataFrame(columns=[\"B1\", \"B2\", \"B3\"])\n",
    "test_data_4[\"B1\"] = [9, 8, 7, 5]\n",
    "test_data_4[\"B2\"] = [9, 7, 6, 5]\n",
    "test_data_4[\"B3\"] = [4, 3, 1, 1]\n",
    "test_data_4"
   ]
  },
  {
   "cell_type": "code",
   "execution_count": 8,
   "id": "137970e4-f6e9-4c4d-90e1-857543f83737",
   "metadata": {},
   "outputs": [
    {
     "data": {
      "text/html": [
       "<div>\n",
       "<style scoped>\n",
       "    .dataframe tbody tr th:only-of-type {\n",
       "        vertical-align: middle;\n",
       "    }\n",
       "\n",
       "    .dataframe tbody tr th {\n",
       "        vertical-align: top;\n",
       "    }\n",
       "\n",
       "    .dataframe thead th {\n",
       "        text-align: right;\n",
       "    }\n",
       "</style>\n",
       "<table border=\"1\" class=\"dataframe\">\n",
       "  <thead>\n",
       "    <tr style=\"text-align: right;\">\n",
       "      <th></th>\n",
       "      <th>C1</th>\n",
       "      <th>C2</th>\n",
       "      <th>C3</th>\n",
       "      <th>C4</th>\n",
       "      <th>C5</th>\n",
       "      <th>C6</th>\n",
       "    </tr>\n",
       "  </thead>\n",
       "  <tbody>\n",
       "    <tr>\n",
       "      <th>0</th>\n",
       "      <td>0.444399</td>\n",
       "      <td>0.806100</td>\n",
       "      <td>2.207009</td>\n",
       "      <td>0.179143</td>\n",
       "      <td>-2.018446</td>\n",
       "      <td>-0.948586</td>\n",
       "    </tr>\n",
       "    <tr>\n",
       "      <th>1</th>\n",
       "      <td>-2.751942</td>\n",
       "      <td>-0.942722</td>\n",
       "      <td>-0.001221</td>\n",
       "      <td>3.345304</td>\n",
       "      <td>1.106018</td>\n",
       "      <td>1.250650</td>\n",
       "    </tr>\n",
       "    <tr>\n",
       "      <th>2</th>\n",
       "      <td>0.965852</td>\n",
       "      <td>-0.147755</td>\n",
       "      <td>0.140965</td>\n",
       "      <td>-0.142338</td>\n",
       "      <td>0.034468</td>\n",
       "      <td>0.053245</td>\n",
       "    </tr>\n",
       "    <tr>\n",
       "      <th>3</th>\n",
       "      <td>1.747967</td>\n",
       "      <td>-0.382373</td>\n",
       "      <td>-0.228505</td>\n",
       "      <td>0.300777</td>\n",
       "      <td>-2.649442</td>\n",
       "      <td>0.797719</td>\n",
       "    </tr>\n",
       "    <tr>\n",
       "      <th>4</th>\n",
       "      <td>1.585786</td>\n",
       "      <td>1.707110</td>\n",
       "      <td>-3.126494</td>\n",
       "      <td>0.724047</td>\n",
       "      <td>-1.257900</td>\n",
       "      <td>2.137653</td>\n",
       "    </tr>\n",
       "  </tbody>\n",
       "</table>\n",
       "</div>"
      ],
      "text/plain": [
       "         C1        C2        C3        C4        C5        C6\n",
       "0  0.444399  0.806100  2.207009  0.179143 -2.018446 -0.948586\n",
       "1 -2.751942 -0.942722 -0.001221  3.345304  1.106018  1.250650\n",
       "2  0.965852 -0.147755  0.140965 -0.142338  0.034468  0.053245\n",
       "3  1.747967 -0.382373 -0.228505  0.300777 -2.649442  0.797719\n",
       "4  1.585786  1.707110 -3.126494  0.724047 -1.257900  2.137653"
      ]
     },
     "execution_count": 8,
     "metadata": {},
     "output_type": "execute_result"
    }
   ],
   "source": [
    "test_data_5 = pd.DataFrame(columns=[\"C1\", \"C2\", \"C3\", \"C4\", \"C5\", \"C6\"])\n",
    "test_data_5[\"C1\"] = np.hstack([sp.stats.norm.rvs(0.03, 1.5, 38, random_state=17), np.full(12, np.nan)])\n",
    "test_data_5[\"C2\"] = np.hstack([sp.stats.norm.rvs(0.42, 1.5, 45, random_state=43), np.full(5, np.nan)])\n",
    "test_data_5[\"C3\"] = np.hstack([sp.stats.norm.rvs(-0.12, 1.5, 42, random_state=14), np.full(8, np.nan)])\n",
    "test_data_5[\"C4\"] = sp.stats.norm.rvs(0.06, 1.5, 50, random_state=18)\n",
    "test_data_5[\"C5\"] = np.hstack([sp.stats.norm.rvs(-0.39, 1.5, 43, random_state=123), np.full(7, np.nan)])\n",
    "test_data_5[\"C6\"] = np.hstack([sp.stats.norm.rvs(0.12, 1.5, 39, random_state=13), np.full(11, np.nan)])\n",
    "test_data_5.head()"
   ]
  },
  {
   "cell_type": "markdown",
   "id": "22462f61-4d54-4dea-8a05-5cdc04ac3d26",
   "metadata": {
    "deletable": false,
    "editable": false,
    "nbgrader": {
     "cell_type": "markdown",
     "checksum": "d95b2916d131ed4c34ff1c9ea63353b0",
     "grade": false,
     "grade_id": "cell-1fcd43f69e6e6ba2",
     "locked": true,
     "schema_version": 3,
     "solution": false,
     "task": false
    },
    "tags": []
   },
   "source": [
    "### Zadanie 1: Weryfikacja hipotezy o wartości przeciętnej [7 pkt]\n",
    "\n",
    "Przygotuj funkcję `mean_NHST()`, która będzie weryfikować hipotezę o wartości przeciętnej i wyświetlać wynik testu statystycznego zgodnie z wytycznymi zawartymi w dołączonym do notatnika zestawie wzorów, w treści zadania oraz w docstring funkcji.\n",
    "\n",
    "Poza zwracaniem zmiennych wymienionych w docsting funkcji, które są potrzebne do przeprowadzenia automatycznych testów funkcji powinna wykorzystywać udostępnioną na początku notatnika funkcję `vizualize_test_result()` do generowania wykresu zawierającego:\n",
    "- funkcję gęstości prawdopodobieństwa rozkładu teoretycznego wykorzystywanego w teście w zakresie od wartości, dla której dystrybuanta tego rozkładu przyjmuje wartość 0.0001 do wartości, dla której dystrybuanta tego rozkładu przyjmuje wartość 0.9999,\n",
    "- zaznaczony wyróżniającym się kolorem fragmentem pola pod krzywą odpowiadający wyznaczonemu w teście obszarowi krytycznemu,\n",
    "- wyróżniającą się kolorem pionowę linię wskazującą obliczoną wartość statystyki."
   ]
  },
  {
   "cell_type": "code",
   "execution_count": 44,
   "id": "56f1c656-c75f-435b-b3d1-264883c597ff",
   "metadata": {
    "deletable": false,
    "nbgrader": {
     "cell_type": "code",
     "checksum": "019a68ae62697f19becfc139de6978f1",
     "grade": false,
     "grade_id": "cell-edf64cc6951e2255",
     "locked": false,
     "schema_version": 3,
     "solution": true,
     "task": false
    },
    "tags": []
   },
   "outputs": [
    {
     "name": "stdout",
     "output_type": "stream",
     "text": [
      "               f(x)\n",
      "x                  \n",
      "-4.985013  0.000186\n",
      "-4.975033  0.000189\n",
      "-4.965053  0.000193\n",
      "-4.955073  0.000197\n",
      "-4.945093  0.000200\n",
      "...             ...\n",
      " 4.945093  0.000200\n",
      " 4.955073  0.000197\n",
      " 4.965053  0.000193\n",
      " 4.975033  0.000189\n",
      " 4.985013  0.000186\n",
      "\n",
      "[1000 rows x 1 columns]\n"
     ]
    },
    {
     "data": {
      "text/plain": [
       "((np.float64(-1.9346677837081263), np.float64(2.1447866879169273), 0),\n",
       " (-1.9346677837081263, 2.1447866879169273, 0))"
      ]
     },
     "execution_count": 44,
     "metadata": {},
     "output_type": "execute_result"
    },
    {
     "data": {
      "image/png": "[encoded data removed]",
      "text/plain": [
       "<Figure size 800x300 with 1 Axes>"
      ]
     },
     "metadata": {},
     "output_type": "display_data"
    }
   ],
   "source": [
    "def mean_NHST(data, H0, H1, alpha):\n",
    "    \"\"\"\n",
    "    Parameters\n",
    "    -------\n",
    "    data: DataFrame\n",
    "        Tablica zawierająca domyślny indeks i kolumnę \"X\" wynikami próby losowej.\n",
    "    H0: float\n",
    "        Wartość przeciętna przyjęta jako hipoteza zerowa.\n",
    "    H1: str\n",
    "        Postać hipotezy alternatywnej, przyjmuje wartości:\n",
    "        - two-sided: wartość przeciętna jest różna od wartości przyjętej w H0,\n",
    "        - less: wartość przeciętna jest mniejsza od wartości przyjętej w H0,\n",
    "        - greater: wartość przeciętna jest większa od wartości przyjętej w H0.\n",
    "    alpha: float\n",
    "        Wartość określająca poziom istotności.\n",
    "    \n",
    "    Returns\n",
    "    -------\n",
    "    t: float\n",
    "        Wyliczona na podstawie próby losowej wartość statystyki t.\n",
    "    t_alpha: float\n",
    "        Wartość statystyki t_alpha.\n",
    "    H: int\n",
    "        Wynik testu statystycznego, przyjmuje wartość:\n",
    "        0 - gdy wynik testu istotności nie daje podstaw do odrzucenia H0 na rzecz H1 na poziomie istotności 1-alpha,\n",
    "        1 - gdy następuje odrzucenie H0 na rzecz H1 na poziomie istotności 1-alpha.\n",
    "    \"\"\"\n",
    "    # data - proba\n",
    "    # mam juz ustalone H0\n",
    "    \n",
    "    mean = data[\"X\"].values.mean()\n",
    "    std =  data[\"X\"].values.std()\n",
    "    t = (mean-H0) * np.sqrt(len(data)-1) / std\n",
    "\n",
    "    \n",
    "    \n",
    "    if(H1 == \"two-sided\"):\n",
    "        t_alpha = sp.stats.t.ppf(1 - alpha/2, len(data)-1)\n",
    "        if( np.fabs(t) >= t_alpha): H=1\n",
    "        else: H=0   \n",
    "            \n",
    "        x_min = sp.stats.t.ppf(0.0001, len(data)-1)\n",
    "        x_max = sp.stats.t.ppf(0.9999, len(data)-1)\n",
    "        r2_variants = np.linspace(x_min,x_max,1000)\n",
    "        r2_probabilities=sp.stats.t.pdf(x=r2_variants, df=len(data)-1)\n",
    "        r2p = pd.DataFrame(data=r2_probabilities, index=r2_variants, columns=[\"f(x)\"])\n",
    "        r2p.index.name=\"x\"\n",
    "        print(r2p)\n",
    "        \n",
    "        vizualize_test_result(r2p,t_alpha,(0.0001,0.9999,\"outer\")) #zle, ale w tym kierunku\n",
    "    elif(H1 == \"less\"):\n",
    "        t_alpha = sp.stats.t.ppf(alpha, len(data)-1)\n",
    "        if( t <= t_alpha): H=1\n",
    "        else: H=0\n",
    "        vizualize_test_result(data,t_alpha,(0.0001,0.9999,\"inner\")) #zle\n",
    "    elif(H1 == \"greater\"):\n",
    "        t_alpha = sp.stats.t.ppf(1-alpha, len(data)-1)\n",
    "        if( t >= t_alpha): H=1\n",
    "        else: H=0\n",
    "        vizualize_test_result(data,t_alpha,(0.0001,0.9999,\"inner\")) #zle, trzeba podac jakas tabelke z pdf, gesto polozone linspace miedzy 0.0001 do 0.9999, zestaw 2, z rozkladu t studenta, x_min, x_max\n",
    "        \n",
    "    return (t, t_alpha, H)\n",
    "\n",
    "mean_NHST(test_data_1, 5.08, \"two-sided\", 0.05), (-1.9346677837081263, 2.1447866879169273, 0)\n",
    "# mean_NHST(test_data_1, 5.08, \"less\", 0.05), (-1.9346677837081263, -1.7613101357748564, 1)\n",
    "# mean_NHST(test_data_1, 5.08, \"greater\", 0.05), (-1.9346677837081263, 1.7613101357748562, 0)"
   ]
  },
  {
   "cell_type": "code",
   "execution_count": 18,
   "id": "b0721b99-f8b7-496d-b172-4d1f37a051b7",
   "metadata": {
    "deletable": false,
    "editable": false,
    "nbgrader": {
     "cell_type": "code",
     "checksum": "2142384814faaf003ec91b0d47b2af63",
     "grade": true,
     "grade_id": "cell-94c646736f969133",
     "locked": true,
     "points": 7,
     "schema_version": 3,
     "solution": false,
     "task": false
    },
    "tags": []
   },
   "outputs": [],
   "source": [
    "### Komórka testowa\n",
    "assert np.all(np.isclose(mean_NHST(test_data_1, 5.08, \"two-sided\", 0.05), (-1.9346677837081263, 2.1447866879169273, 0)))\n",
    "assert np.all(np.isclose(mean_NHST(test_data_1, 5.08, \"less\", 0.05), (-1.9346677837081263, -1.7613101357748564, 1)))\n",
    "assert np.all(np.isclose(mean_NHST(test_data_1, 5.08, \"greater\", 0.05), (-1.9346677837081263, 1.7613101357748562, 0)))\n",
    "\n",
    "assert np.all(np.isclose(mean_NHST(test_data_1, 4.92, \"two-sided\", 0.1), (1.8994107469740968, 1.7613101357748562, 1)))\n",
    "assert np.all(np.isclose(mean_NHST(test_data_1, 4.92, \"less\", 0.1), (1.8994107469740968, -1.3450303744546486, 0)))\n",
    "assert np.all(np.isclose(mean_NHST(test_data_1, 4.92, \"greater\", 0.1), (1.8994107469740968, 1.345030374454649, 1)))"
   ]
  },
  {
   "cell_type": "markdown",
   "id": "e19d24c1-d525-4158-b31d-8939acf7d681",
   "metadata": {
    "deletable": false,
    "editable": false,
    "nbgrader": {
     "cell_type": "markdown",
     "checksum": "5ed3c24e6a98f30086794a5b96f23547",
     "grade": false,
     "grade_id": "cell-9f8ff1ffa17805b2",
     "locked": true,
     "schema_version": 3,
     "solution": false,
     "task": false
    },
    "tags": []
   },
   "source": [
    "### Zadanie 2: Weryfikacja hipotezy o wariancji [9 pkt]\n",
    "\n",
    "Przygotuj funkcję `variance_NHST()`, która będzie weryfikować hipotezę o wartości wariancji i wyświetlać wynik testu statystycznego zgodnie z wytycznymi zawartymi w dołączonym do notatnika zestawie wzorów, w treści zadania oraz w docstring funkcji.\n",
    "\n",
    "Poza zwracaniem zmiennych wymienionych w docsting funkcji, które są potrzebne do przeprowadzenia automatycznych testów funkcji powinna wykorzystywać udostępnioną na początku notatnika funkcję `vizualize_test_result()` do generowania wykresu zawierającego:\n",
    "- funkcję gęstości prawdopodobieństwa rozkładu teoretycznego wykorzystywanego w teście w zakresie od wartości, dla której dystrybuanta tego rozkładu przyjmuje wartość 0.0001 do wartości, dla której dystrybuanta tego rozkładu przyjmuje wartość 0.9999,\n",
    "- zaznaczony wyróżniającym się kolorem fragmentem pola pod krzywą odpowiadający wyznaczonemu w teście obszarowi krytycznemu,\n",
    "- wyróżniającą się kolorem pionowę linię wskazującą obliczoną wartość statystyki."
   ]
  },
  {
   "cell_type": "code",
   "execution_count": null,
   "id": "e9aba12f-4da4-4331-ba5a-98af1db16c58",
   "metadata": {
    "deletable": false,
    "nbgrader": {
     "cell_type": "code",
     "checksum": "f62fdd533e4e92c3b269c94faaac9e20",
     "grade": false,
     "grade_id": "cell-f8660b34518fc763",
     "locked": false,
     "schema_version": 3,
     "solution": true,
     "task": false
    },
    "tags": []
   },
   "outputs": [],
   "source": [
    "def variance_NHST(data, H0, H1, alpha):\n",
    "    \"\"\"\n",
    "    Parameters\n",
    "    -------\n",
    "    data: DataFrame\n",
    "        Tablica zawierająca domyślny indeks i kolumnę \"X\" wynikami próby losowej.\n",
    "    H0: float\n",
    "        Wariancji przyjęta jako hipoteza zerowa.\n",
    "    H1: str\n",
    "        Postać hipotezy alternatywnej, przyjmuje wartości:\n",
    "        - two-sided: wariancja jest różna od wartości przyjętej w H0,\n",
    "        - less: wariancja jest mniejsza od wartości przyjętej w H0,\n",
    "        - greater: wariancja jest większa od wartości przyjętej w H0.\n",
    "    alpha: float\n",
    "        Wartość określająca poziom istotności.\n",
    "    \n",
    "    Returns\n",
    "    -------\n",
    "    chi2: float\n",
    "        Wyliczona na podstawie próby losowej wartość statystyki chi2.\n",
    "    chi2_alpha: float or list\n",
    "        Wartość statystyki chi2_alpha lub lista z dwoma wartościami chi2_alpha_1 i chi2_alpha_2\n",
    "    H: int\n",
    "        Wynik testu statystycznego, przyjmuje wartość:\n",
    "        0 - gdy wynik testu istotności nie daje podstaw do odrzucenia H0 na rzecz H1 na poziomie istotności 1-alpha,\n",
    "        1 - gdy następuje odrzucenie H0 na rzecz H1 na poziomie istotności 1-alpha.\n",
    "    \"\"\"\n",
    "    # YOUR CODE HERE\n",
    "    raise NotImplementedError()"
   ]
  },
  {
   "cell_type": "code",
   "execution_count": null,
   "id": "aef94371-b3b6-4758-84f0-4162604866e7",
   "metadata": {
    "deletable": false,
    "editable": false,
    "nbgrader": {
     "cell_type": "code",
     "checksum": "699278fff6ac3af4aad1c88bdb6a8c62",
     "grade": true,
     "grade_id": "cell-065f3bb28457a689",
     "locked": true,
     "points": 9,
     "schema_version": 3,
     "solution": false,
     "task": false
    },
    "tags": []
   },
   "outputs": [],
   "source": [
    "### Komórka testowa\n",
    "results = variance_NHST(test_data_1, 0.1, \"two-sided\", 0.05)\n",
    "assert np.all(np.isclose((results[0], results[1][0], results[1][1], results[2]), (3.657103504858619, 5.628726103039731, 26.11894804503737, 1)))\n",
    "assert np.all(np.isclose(variance_NHST(test_data_1, 0.1, \"less\", 0.05), (3.657103504858619, 6.570631383789345, 1)))\n",
    "assert np.all(np.isclose(variance_NHST(test_data_1, 0.1, \"greater\", 0.05), (3.657103504858619, 23.684791304840576, 0)))\n",
    "\n",
    "results = variance_NHST(test_data_1, 0.013, \"two-sided\", 0.02)\n",
    "assert np.all(np.isclose((results[0], results[1][0], results[1][1], results[2]), (28.13156542198938, 4.660425062657768, 29.141237740672796, 0)))\n",
    "assert np.all(np.isclose(variance_NHST(test_data_1, 0.013, \"less\", 0.02), (28.13156542198938, 5.368197419889671, 0)))\n",
    "assert np.all(np.isclose(variance_NHST(test_data_1, 0.013, \"greater\", 0.02), (28.13156542198938, 26.872764642314312, 1)))"
   ]
  },
  {
   "cell_type": "markdown",
   "id": "33da6eb6-de2e-412c-a750-8c38953a74d6",
   "metadata": {
    "deletable": false,
    "editable": false,
    "nbgrader": {
     "cell_type": "markdown",
     "checksum": "a86bfe55aad4f0fcbb370656eae4f3f5",
     "grade": false,
     "grade_id": "cell-188a8e80f3ce848f",
     "locked": true,
     "schema_version": 3,
     "solution": false,
     "task": false
    },
    "tags": []
   },
   "source": [
    "### Zadanie 3: Weryfikacja hipotezy o wskaźniku struktury (proporcji) [7 pkt]\n",
    "\n",
    "Przygotuj funkcję `proportion_NHST()`, która będzie weryfikować hipotezę o wartości wskaźnika struktury (proporcji) i wyświetlać wynik testu statystycznego zgodnie z wytycznymi zawartymi w dołączonym do notatnika zestawie wzorów, w treści zadania oraz w docstring funkcji.\n",
    "\n",
    "Poza zwracaniem zmiennych wymienionych w docsting funkcji, które są potrzebne do przeprowadzenia automatycznych testów funkcji powinna wykorzystywać udostępnioną na początku notatnika funkcję `vizualize_test_result()` do generowania wykresu zawierającego:\n",
    "- funkcję gęstości prawdopodobieństwa rozkładu teoretycznego wykorzystywanego w teście w zakresie od wartości, dla której dystrybuanta tego rozkładu przyjmuje wartość 0.0001 do wartości, dla której dystrybuanta tego rozkładu przyjmuje wartość 0.9999,\n",
    "- zaznaczony wyróżniającym się kolorem fragmentem pola pod krzywą odpowiadający wyznaczonemu w teście obszarowi krytycznemu,\n",
    "- wyróżniającą się kolorem pionowę linię wskazującą obliczoną wartość statystyki."
   ]
  },
  {
   "cell_type": "code",
   "execution_count": null,
   "id": "f05762cc-f1ba-4380-b44b-fa8537094d9c",
   "metadata": {
    "deletable": false,
    "nbgrader": {
     "cell_type": "code",
     "checksum": "6de975d822ad8a84d972bdb32eb09fa6",
     "grade": false,
     "grade_id": "cell-b96aad4b9c50c1cc",
     "locked": false,
     "schema_version": 3,
     "solution": true,
     "task": false
    },
    "tags": []
   },
   "outputs": [],
   "source": [
    "def proportion_NHST(data, H0, H1, alpha):\n",
    "    \"\"\"\n",
    "    Parameters\n",
    "    -------\n",
    "    data: DataFrame\n",
    "        Tablica zawierająca domyślny indeks i kolumnę \"X\" wynikami próby losowej (True, False).\n",
    "    H0: float\n",
    "        Wartość wskaźnika struktury przyjęta jako hipoteza zerowa.\n",
    "    H1: str\n",
    "        Postać hipotezy alternatywnej, przyjmuje wartości:\n",
    "        - two-sided: wartość wskaźnika struktury jest różna od wartości przyjętej w H0,\n",
    "        - less: wartość wskaźnika struktury jest mniejsza od wartości przyjętej w H0,\n",
    "        - greater: wartość wskaźnika struktury jest większa od wartości przyjętej w H0.\n",
    "    alpha: float\n",
    "        Wartość określająca poziom istotności.\n",
    "    \n",
    "    Returns\n",
    "    -------\n",
    "    u: float\n",
    "        Wyliczona na podstawie próby losowej wartość statystyki u.\n",
    "    u_alpha: float\n",
    "        Wartość statystyki u_alpha.\n",
    "    H: int\n",
    "        Wynik testu statystycznego, przyjmuje wartość:\n",
    "        0 - gdy wynik testu istotności nie daje podstaw do odrzucenia H0 na rzecz H1 na poziomie istotności 1-alpha,\n",
    "        1 - gdy następuje odrzucenie H0 na rzecz H1 na poziomie istotności 1-alpha.\n",
    "    \"\"\"\n",
    "    # YOUR CODE HERE\n",
    "    raise NotImplementedError()"
   ]
  },
  {
   "cell_type": "code",
   "execution_count": null,
   "id": "0c8b709e-5a76-44ae-bc61-351b7899ca4b",
   "metadata": {
    "deletable": false,
    "editable": false,
    "nbgrader": {
     "cell_type": "code",
     "checksum": "4f09b7b28a8ef6eec7b38583f11235e9",
     "grade": true,
     "grade_id": "cell-db2796420fe20fbb",
     "locked": true,
     "points": 7,
     "schema_version": 3,
     "solution": false,
     "task": false
    },
    "tags": []
   },
   "outputs": [],
   "source": [
    "### Komórka testowa\n",
    "assert np.all(np.isclose(proportion_NHST(test_data_2, 0.25, \"two-sided\", 0.1), (-1.3856406460551018, 1.6448536269514722, 0)))\n",
    "assert np.all(np.isclose(proportion_NHST(test_data_2, 0.25, \"less\", 0.1), (-1.3856406460551018, -1.2815515655446004, 1)))\n",
    "assert np.all(np.isclose(proportion_NHST(test_data_2, 0.25, \"greater\", 0.1), (-1.3856406460551018, 1.2815515655446004, 0)))\n",
    "\n",
    "assert np.all(np.isclose(proportion_NHST(test_data_2, 0.1, \"two-sided\", 0.01), (2.9999999999999996, 2.5758293035489004, 1)))\n",
    "assert np.all(np.isclose(proportion_NHST(test_data_2, 0.1, \"less\", 0.01), (2.9999999999999996, -2.3263478740408408, 0)))\n",
    "assert np.all(np.isclose(proportion_NHST(test_data_2, 0.1, \"greater\", 0.01), (2.9999999999999996, 2.3263478740408408, 1)))"
   ]
  },
  {
   "cell_type": "markdown",
   "id": "2dbab327-6b12-4de1-8404-e535cdeb89f5",
   "metadata": {
    "deletable": false,
    "editable": false,
    "nbgrader": {
     "cell_type": "markdown",
     "checksum": "04b1b2fcd8be8f081bbbc08fc7a82574",
     "grade": false,
     "grade_id": "cell-3de9916b46317147",
     "locked": true,
     "schema_version": 3,
     "solution": false,
     "task": false
    }
   },
   "source": [
    "### Zadanie 4: Jednoczynnikowa analiza wariancji [9 pkt]\n",
    "\n",
    "Przygotuj funkcję `one_way_anova()`, która będzie weryfikować hipotezę o równości wartości przeciętnych i wyświetlać wynik testu statystycznego zgodnie z wytycznymi zawartymi w treści zadania oraz w docstring funkcji.\n",
    "\n",
    "Poza zwracaniem zmiennych wymienionych w docsting funkcji, które są potrzebne do przeprowadzenia automatycznych testów funkcji powinna wykorzystywać udostępnioną na początku notatnika funkcję `vizualize_test_result()` do generowania wykresu zawierającego:\n",
    "- funkcję gęstości prawdopodobieństwa rozkładu teoretycznego wykorzystywanego w teście w zakresie od wartości, dla której dystrybuanta tego rozkładu przyjmuje wartość 0.0001 do wartości, dla której dystrybuanta tego rozkładu przyjmuje wartość 0.9999,\n",
    "- zaznaczony wyróżniającym się kolorem fragmentem pola pod krzywą odpowiadający wyznaczonemu w teście obszarowi krytycznemu,\n",
    "- wyróżniającą się kolorem pionowę linię wskazującą obliczoną wartość statystyki.\n",
    "\n",
    "Uwaga! Celem zadanie jest zapoznanie się ze schematem metody i samodzielne napisanie funkcji od podstaw. W związku z tym podczas rozwiązywania zadania nie należy korzystać z gotowych funkcji przeprowadzających analizę wariancji."
   ]
  },
  {
   "cell_type": "code",
   "execution_count": null,
   "id": "9a6e313c-b644-495f-9b17-7c60a91116be",
   "metadata": {
    "deletable": false,
    "nbgrader": {
     "cell_type": "code",
     "checksum": "242ddcac02f3e37e21acebe2f3df3afa",
     "grade": false,
     "grade_id": "cell-e5b89edb8dca7854",
     "locked": false,
     "schema_version": 3,
     "solution": true,
     "task": false
    }
   },
   "outputs": [],
   "source": [
    "def one_way_anova(data, alpha):\n",
    "    \"\"\"\n",
    "    data: DataFrame\n",
    "        Tablica zawierająca domyślny indeks i dowolnie nazwane kolumny (nazwy prób losowych) z wynikami prób losowych. Znajdujące się w tablicy wartości NaN nie są wynikami wchodzącymi w skład prób losowych,\n",
    "        a jedynie uzupełniają puste miejsca w tablicy powstałe na skutek różnej liczebności poszczególnych prób.\n",
    "    alpha: float\n",
    "        Wartość określająca poziom istotności.\n",
    "    \n",
    "    Returns\n",
    "    -------\n",
    "    F: float\n",
    "        Wyliczona na podstawie próby losowej wartość statystyki F.\n",
    "    F_alpha: float\n",
    "        Wartość statystyki F_alpha.\n",
    "    H: int\n",
    "        Wynik testu statystycznego, przyjmuje wartość:\n",
    "        0 - gdy wynik testu istotności nie daje podstaw do odrzucenia H0 na rzecz H1 na poziomie istotności 1-alpha,\n",
    "        1 - gdy następuje odrzucenie H0 na rzecz H1 na poziomie istotności 1-alpha.\n",
    "    \"\"\"\n",
    "    # YOUR CODE HERE\n",
    "    raise NotImplementedError()"
   ]
  },
  {
   "cell_type": "code",
   "execution_count": null,
   "id": "d7931f55-0e00-4582-9859-ef1492e7fd9d",
   "metadata": {
    "deletable": false,
    "editable": false,
    "nbgrader": {
     "cell_type": "code",
     "checksum": "41d747e4972ce08eb4e1a885bbcc382a",
     "grade": true,
     "grade_id": "cell-6c781a26aa18fb2d",
     "locked": true,
     "points": 9,
     "schema_version": 3,
     "solution": false,
     "task": false
    }
   },
   "outputs": [],
   "source": [
    "### Komórka testowa\n",
    "assert np.all(np.isclose(one_way_anova(test_data_3, 0.05), (1.127072228543553, 3.8852938346523946, 0)))\n",
    "assert np.all(np.isclose(one_way_anova(test_data_4, 0.05), (11.25773195876289, 4.256494729093748, 1)))\n",
    "assert np.all(np.isclose(one_way_anova(test_data_5, 0.02), (4.79388401864753, 2.7336800410268243, 1)))"
   ]
  },
  {
   "cell_type": "markdown",
   "id": "4c2c7540-f6fd-44d5-bf19-c426f57be252",
   "metadata": {
    "deletable": false,
    "editable": false,
    "nbgrader": {
     "cell_type": "markdown",
     "checksum": "6c608248f4ad2864acb3fba0b18ee6dd",
     "grade": false,
     "grade_id": "cell-e15b203db2d71310",
     "locked": true,
     "schema_version": 3,
     "solution": false,
     "task": false
    },
    "tags": []
   },
   "source": [
    "### Zadanie 5: Weryfikacja hipotez z wykorzystaniem dedykowanych funkcji [8 pkt]\n",
    "\n",
    "#### a) Rzut monetą\n",
    "Zmienna `coin_toss_sample` zawiera wyniki 50 rzutów monetą. Korzystając z funkcji `scipy.stats.binomtest()` zweryfikuj hipotezę, że moneta jest uczciwa (prawdopodobieństwo wyrzucenia orła i reszki jest równe). W obliczeniach przyjmij poziom istotności 1 - alpha = 0.95.\n",
    "\n",
    "Zapisz obliczoną wartość pvalue do zmiennej `pvalue_1`, oraz przygotuj zmienną `H_1` zawierającą wynik testu statystycznego (0 - gdy wynik testu istotności nie daje podstaw do odrzucenia H0 na rzecz H1 na poziomie istotności 1-alpha, 1 - gdy następuje odrzucenie H0 na rzecz H1 na poziomie istotności 1-alpha)."
   ]
  },
  {
   "cell_type": "code",
   "execution_count": null,
   "id": "0b696cdb-f82d-4563-8163-0720eea4020c",
   "metadata": {
    "deletable": false,
    "editable": false,
    "nbgrader": {
     "cell_type": "code",
     "checksum": "9518cd7a06535881a1a674d33dffb0a5",
     "grade": false,
     "grade_id": "cell-f43518316789b389",
     "locked": true,
     "schema_version": 3,
     "solution": false,
     "task": false
    },
    "tags": []
   },
   "outputs": [],
   "source": [
    "coin_toss_sample = ['O', 'R', 'O', 'O', 'R', 'R', 'O', 'R', 'O', 'O',\n",
    "                    'O', 'O', 'O', 'R', 'O', 'R', 'O', 'O', 'O', 'R',\n",
    "                    'R', 'R', 'O', 'O', 'R', 'O', 'R', 'O', 'O', 'O',\n",
    "                    'R', 'O', 'R', 'O', 'R', 'O', 'O', 'O', 'R', 'O',\n",
    "                    'O', 'O', 'O', 'O', 'R', 'O', 'R', 'O', 'O', 'O']"
   ]
  },
  {
   "cell_type": "code",
   "execution_count": null,
   "id": "ff543f0e-8c8e-4a83-876f-c8bf87e29abb",
   "metadata": {
    "deletable": false,
    "nbgrader": {
     "cell_type": "code",
     "checksum": "f89e160cae436a8d7f52c7d38d639800",
     "grade": false,
     "grade_id": "cell-eb14a780c0fb9093",
     "locked": false,
     "schema_version": 3,
     "solution": true,
     "task": false
    },
    "tags": []
   },
   "outputs": [],
   "source": [
    "# YOUR CODE HERE\n",
    "raise NotImplementedError()"
   ]
  },
  {
   "cell_type": "code",
   "execution_count": null,
   "id": "1c6d83e6-f430-4731-a995-842387bc7cc4",
   "metadata": {
    "deletable": false,
    "editable": false,
    "nbgrader": {
     "cell_type": "code",
     "checksum": "ed6904f622269cfd2e242a63319e51d1",
     "grade": true,
     "grade_id": "cell-1bb3abb4571d0593",
     "locked": true,
     "points": 2,
     "schema_version": 3,
     "solution": false,
     "task": false
    },
    "tags": []
   },
   "outputs": [],
   "source": [
    "### Komórka testowa\n",
    "assert np.isclose(pvalue_1, 0.032839137564268484)\n",
    "assert H_1 == 1"
   ]
  },
  {
   "cell_type": "markdown",
   "id": "585f4f26-a00e-4750-9c2c-fc8f35e26338",
   "metadata": {
    "deletable": false,
    "editable": false,
    "nbgrader": {
     "cell_type": "markdown",
     "checksum": "9dddb5a10df2b6160ebe6c68598cdcfc",
     "grade": false,
     "grade_id": "cell-eaffe2d1f19973d9",
     "locked": true,
     "schema_version": 3,
     "solution": false,
     "task": false
    },
    "tags": []
   },
   "source": [
    "#### b) Średnia waga elementów schodzących z linii produkcyjnych\n",
    "\n",
    "Zmienne `weights_1` oraz `weights_2` zawierają wagi elementów (podane w gramach) losowo zdjętych z dwóch linii produkcyjnych."
   ]
  },
  {
   "cell_type": "code",
   "execution_count": null,
   "id": "a0c4c272-a4fc-4c03-bbc2-d5d330425613",
   "metadata": {
    "deletable": false,
    "editable": false,
    "nbgrader": {
     "cell_type": "code",
     "checksum": "cf21a16561e5d2481d75bcaae4daa7f2",
     "grade": false,
     "grade_id": "cell-cdaacf8f912d2bfc",
     "locked": true,
     "schema_version": 3,
     "solution": false,
     "task": false
    }
   },
   "outputs": [],
   "source": [
    "weights_1 = [525, 485, 515, 510, 496, 512, 521, 524, 501, 517, 498, 503, 499, 477, 493, 487, 512, 505, 483, 507] \n",
    "weights_2 = [523, 515, 519, 524, 498, 508, 502, 509, 513, 521, 516, 519, 497, 521, 498, 518, 526, 497, 494, 506]"
   ]
  },
  {
   "cell_type": "markdown",
   "id": "01add5ad-72e1-45ab-ba72-1399ece02dba",
   "metadata": {
    "deletable": false,
    "editable": false,
    "nbgrader": {
     "cell_type": "markdown",
     "checksum": "5488697e50cdb1ba8b197c403382a642",
     "grade": false,
     "grade_id": "cell-ae4916ef3107ca4e",
     "locked": true,
     "schema_version": 3,
     "solution": false,
     "task": false
    }
   },
   "source": [
    "Korzystając z funkcji `scipy.stats.ttest_1samp()` zweryfikuj hipotezę, że średnia waga elementów schodzących z pierwszej linii produkcyjnej jest równa 0.5kg względem hipotezy alternatywnej, że średnia waga elementów schodzących z pierwszej linii produkcyjnej jest wyższa od 0.5kg. W obliczeniach przyjmij poziom istotności 1 - alpha = 0.9.\n",
    "\n",
    "Zapisz obliczoną wartość pvalue do zmiennej `pvalue_2`, oraz przygotuj zmienną `H_2` zawierającą wynik testu statystycznego (0 - gdy wynik testu istotności nie daje podstaw do odrzucenia H0 na rzecz H1 na poziomie istotności 1-alpha, 1 - gdy następuje odrzucenie H0 na rzecz H1 na poziomie istotności 1-alpha)."
   ]
  },
  {
   "cell_type": "code",
   "execution_count": null,
   "id": "553a2615-6690-48d8-bea7-2f76806f640e",
   "metadata": {
    "deletable": false,
    "nbgrader": {
     "cell_type": "code",
     "checksum": "e8e1aa5072216892f5732fe38e6f59eb",
     "grade": false,
     "grade_id": "cell-df038005c65a8018",
     "locked": false,
     "schema_version": 3,
     "solution": true,
     "task": false
    },
    "tags": []
   },
   "outputs": [],
   "source": [
    "# YOUR CODE HERE\n",
    "raise NotImplementedError()"
   ]
  },
  {
   "cell_type": "code",
   "execution_count": null,
   "id": "0ea9c2f8-759b-4788-acc2-5f6905b52346",
   "metadata": {
    "deletable": false,
    "editable": false,
    "nbgrader": {
     "cell_type": "code",
     "checksum": "5a0f1611e347c41f1e3cb34e8a18491e",
     "grade": true,
     "grade_id": "cell-5df01ee99795ce87",
     "locked": true,
     "points": 2,
     "schema_version": 3,
     "solution": false,
     "task": false
    },
    "tags": []
   },
   "outputs": [],
   "source": [
    "### Komórka testowa\n",
    "assert np.isclose(pvalue_2, 0.13688813254569193)\n",
    "assert H_2 == 0"
   ]
  },
  {
   "cell_type": "markdown",
   "id": "082b6a8a-e704-482d-8e70-f9c65eb744bf",
   "metadata": {
    "deletable": false,
    "editable": false,
    "nbgrader": {
     "cell_type": "markdown",
     "checksum": "31d74925db0f2c2f94693c1aa8cc62a5",
     "grade": false,
     "grade_id": "cell-fd75a34873afef59",
     "locked": true,
     "schema_version": 3,
     "solution": false,
     "task": false
    },
    "tags": []
   },
   "source": [
    "Korzystając z funkcji `scipy.stats.ttest_rel()` zweryfikuj hipotezę, że średnie wagi elementów schodzących z obu linii produkcyjnych są identyczne, względem hipotezy alternatywnej, że średnia waga elementów schodzących z drugiej linii produkcyjnej jest wyższa niż z pierwszej linii. W obliczeniach przyjmij poziom istotności 1 - alpha = 0.98.\n",
    "\n",
    "Zapisz obliczoną wartość pvalue do zmiennej `pvalue_3`, oraz przygotuj zmienną `H_3` zawierającą wynik testu statystycznego (0 - gdy wynik testu istotności nie daje podstaw do odrzucenia H0 na rzecz H1 na poziomie istotności 1-alpha, 1 - gdy następuje odrzucenie H0 na rzecz H1 na poziomie istotności 1-alpha)."
   ]
  },
  {
   "cell_type": "code",
   "execution_count": null,
   "id": "466f7142-e008-4344-9db8-713b266efdc3",
   "metadata": {
    "deletable": false,
    "nbgrader": {
     "cell_type": "code",
     "checksum": "b71c5b5272a0f6d552c69fbf60efb60d",
     "grade": false,
     "grade_id": "cell-bcc355d41539ab13",
     "locked": false,
     "schema_version": 3,
     "solution": true,
     "task": false
    },
    "tags": []
   },
   "outputs": [],
   "source": [
    "# YOUR CODE HERE\n",
    "raise NotImplementedError()"
   ]
  },
  {
   "cell_type": "code",
   "execution_count": null,
   "id": "e43fba62-0987-49af-b33b-794b3f424a4f",
   "metadata": {
    "deletable": false,
    "editable": false,
    "nbgrader": {
     "cell_type": "code",
     "checksum": "a98ed077bc99cb07a4abd033849cfaae",
     "grade": true,
     "grade_id": "cell-379a82b46c59e5fb",
     "locked": true,
     "points": 2,
     "schema_version": 3,
     "solution": false,
     "task": false
    },
    "tags": []
   },
   "outputs": [],
   "source": [
    "### Komórka testowa\n",
    "assert np.isclose(pvalue_3, 0.019512297706307014)\n",
    "assert H_3 == 1"
   ]
  },
  {
   "cell_type": "markdown",
   "id": "224c476e-bbe2-4958-adcc-fc8b07c435f6",
   "metadata": {
    "deletable": false,
    "editable": false,
    "nbgrader": {
     "cell_type": "markdown",
     "checksum": "ee608b18bca5a79659a6eb2eece4cf95",
     "grade": false,
     "grade_id": "cell-057e181978d927db",
     "locked": true,
     "schema_version": 3,
     "solution": false,
     "task": false
    }
   },
   "source": [
    "#### c)\n",
    "Korzystając z funkcji `sp.stats.f_oneway()` zweryfikuj hipotezę o równości wartości średnich zmiennych zawartych w zmiennej `test_data_4`. W obliczeniach przyjmij poziom istotności 1 - alpha = 0.95.\n",
    "\n",
    "Zapisz obliczoną wartość pvalue do zmiennej `pvalue_4`, oraz przygotuj zmienną `H_4` zawierającą wynik testu statystycznego (0 - gdy wynik testu istotności nie daje podstaw do odrzucenia H0 na rzecz H1 na poziomie istotności 1-alpha, 1 - gdy następuje odrzucenie H0 na rzecz H1 na poziomie istotności 1-alpha).\n",
    "\n",
    "Uwagi do wykonania zadania:\n",
    " - ustaw następującą wartość argumentu funkcji wykonującej test statystyczny odpowiedzialnego za radzenie sobie z wartościami nan: `nan_policy=\"omit\"`."
   ]
  },
  {
   "cell_type": "code",
   "execution_count": null,
   "id": "65f76c7b-f446-4b44-b057-e64db9f80d8b",
   "metadata": {
    "deletable": false,
    "nbgrader": {
     "cell_type": "code",
     "checksum": "f43092ed908b691e954ecc6d211da024",
     "grade": false,
     "grade_id": "cell-4ffd421cafd5f98e",
     "locked": false,
     "schema_version": 3,
     "solution": true,
     "task": false
    }
   },
   "outputs": [],
   "source": [
    "# YOUR CODE HERE\n",
    "raise NotImplementedError()"
   ]
  },
  {
   "cell_type": "code",
   "execution_count": null,
   "id": "3416aca3-f7a7-4980-a260-540d1c7df41d",
   "metadata": {
    "deletable": false,
    "editable": false,
    "nbgrader": {
     "cell_type": "code",
     "checksum": "9d7c9b9ceda15c2452ee138075e11844",
     "grade": true,
     "grade_id": "cell-f9b1eabc4f939dd0",
     "locked": true,
     "points": 2,
     "schema_version": 3,
     "solution": false,
     "task": false
    }
   },
   "outputs": [],
   "source": [
    "# Komórka testowa\n",
    "assert np.isclose(pvalue_4, 0.003554140748362928)\n",
    "assert H_4 == 1"
   ]
  }
 ],
 "metadata": {
  "kernelspec": {
   "display_name": "Python 3 (ipykernel)",
   "language": "python",
   "name": "python3"
  },
  "language_info": {
   "codemirror_mode": {
    "name": "ipython",
    "version": 3
   },
   "file_extension": ".py",
   "mimetype": "text/x-python",
   "name": "python",
   "nbconvert_exporter": "python",
   "pygments_lexer": "ipython3",
   "version": "3.12.8"
  }
 },
 "nbformat": 4,
 "nbformat_minor": 5
}
