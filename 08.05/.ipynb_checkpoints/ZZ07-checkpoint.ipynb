{
 "cells": [
  {
   "cell_type": "markdown",
   "id": "f7e39505",
   "metadata": {
    "deletable": false,
    "editable": false,
    "nbgrader": {
     "cell_type": "markdown",
     "checksum": "f523dba23a51181899106d4f0b4a1d7b",
     "grade": false,
     "grade_id": "cell-fcd2666579131b77",
     "locked": true,
     "schema_version": 3,
     "solution": false,
     "task": false
    },
    "tags": []
   },
   "source": [
    "# Statystyka matematyczna - ćwiczenia laboratoryjne\n",
    "\n",
    "Ten notatnik zalicza się do grupy zestawów zadań, na podstawie których odbywa się zaliczenie ćwiczeń i podlega zwrotowi do oceny w ustalonym na zajęciach terminie.\n",
    "\n",
    "Uwagi i wytyczne ogólne dotyczące uzupełniania notatnika:\n",
    "- Podczas wykonywania zadań należy korzystać wyłącznie z pakietów zaimportowanych na początku notatnika oraz z pakietów wchodzących w skład standardowej biblioteki Pythona, które można zaimportować samodzielnie we wskazanej komórce notatnika.\n",
    "- Swoje rozwiązania należy wprowadzać wyłącznie w miejce następujących fragmentów kodu:<br/> `# YOUR CODE HERE`<br/> `raise NotImplementedError()`<br/> \n",
    "a odpowiedzi tekstowe w komórkach oznaczonych hasłem:<br/> \n",
    "`YOUR ANSWER HERE`<br/> \n",
    "Nie należy w żaden sposób modyfikować pozostałych fragmentów kodu oraz innych elementów notatnika, w szczególności dodawać lub usuwać komórek oraz zmieniać nazwy pliku.\n",
    "- Otrzymywane wyniki i odpowiedzi mają być rezultatem wykonania napisanego kodu.\n",
    "- Zadanie należy wykonać w taki sposób, aby podczas wykonywania kodu nie zostały wyświetlone żadne ostrzeżenia.\n",
    "- Zawarte w notatniku automatyczne testy mają charakter poglądowy. Dotyczą one wybranych aspektów zadań i mają za zadanie wyłapać podstawowe błędy. Przejście wszystkich testów nie oznacza, że zadanie jest wykonane w całości poprawnie.\n",
    "\n",
    "Uwagi i wytyczne ogólne dotyczące wizualizacji wyników:\n",
    "- Wszystkie wykresy powinny być wykonane w jednolitym, przejrzystym i czytelnym stylu, posiadać odpowiednio dobrane proporcje i zakresy wartości osi.\n",
    "- Wykresy oraz ich osie powinny mieć nadane tytuły. Jeżeli w obrębie figury znajduje się więcej niż jeden wykres to figura również powinna mieć nadany tytuł. \n",
    "- Figury powinny mieć ustawione białe tło, tak, aby niezależnie od ustawień notatnika wszystkie elementy wykresów były dobrze widoczne (domyślnie tło jest przeźroczyste co może powodować problemy w notatnikach z ustawionym ciemnym tłem).\n",
    "- Rozmiar poziomy figur nie powinien przekraczać 20 cali.\n",
    "\n",
    "Przed odesłaniem zestawu zadań do oceny proszę uzupełnić komórkę z danymi autorów rozwiązania (nazwa zespołu oraz imiona, nazwiska i numery indeksów członków zespołu) oraz upewnić się, że notatnik działa zgodnie z oczekiwaniami. W tym celu należy skorzystać z opcji **Restart Kernel and Run All Cells...** dostępnej na górnej belce notatnika pod symbolem $\\blacktriangleright\\blacktriangleright$."
   ]
  },
  {
   "cell_type": "markdown",
   "id": "cfa99105",
   "metadata": {},
   "source": [
    "Nazwa zespołu:\n",
    "Członkowie:"
   ]
  },
  {
   "cell_type": "markdown",
   "id": "0b58de57",
   "metadata": {
    "deletable": false,
    "editable": false,
    "nbgrader": {
     "cell_type": "markdown",
     "checksum": "eddc8826810e4a6f7bf68319da334bd9",
     "grade": false,
     "grade_id": "cell-109006d425e5cf83",
     "locked": true,
     "schema_version": 3,
     "solution": false,
     "task": false
    },
    "tags": []
   },
   "source": [
    "---"
   ]
  },
  {
   "cell_type": "markdown",
   "id": "df4be34d-21e6-452a-97aa-bf05de6b39e1",
   "metadata": {
    "deletable": false,
    "editable": false,
    "nbgrader": {
     "cell_type": "markdown",
     "checksum": "aff826f39b8a7d1a0d5b53ad8cd2013b",
     "grade": false,
     "grade_id": "cell-b146167e75f1aeb6",
     "locked": true,
     "schema_version": 3,
     "solution": false,
     "task": false
    },
    "tags": []
   },
   "source": [
    "# Zestaw zadań 7: Estymacja nieparametryczna"
   ]
  },
  {
   "cell_type": "code",
   "execution_count": 1,
   "id": "7c2d62fb-48b0-4991-be32-8f56ec67c10c",
   "metadata": {
    "deletable": false,
    "editable": false,
    "nbgrader": {
     "cell_type": "code",
     "checksum": "09248a1a052a7953a57f223393c41130",
     "grade": false,
     "grade_id": "cell-1b3908c839230e11",
     "locked": true,
     "schema_version": 3,
     "solution": false,
     "task": false
    },
    "tags": []
   },
   "outputs": [],
   "source": [
    "import numpy as np\n",
    "import pandas as pd\n",
    "import scipy as sp\n",
    "import matplotlib as mpl\n",
    "import matplotlib.pyplot as plt\n",
    "import seaborn as sns\n",
    "from sklearn.neighbors import KernelDensity # trzeba było pobrać"
   ]
  },
  {
   "cell_type": "code",
   "execution_count": 2,
   "id": "413a3f34-c671-4719-b16c-5e595179e626",
   "metadata": {},
   "outputs": [],
   "source": [
    "# Miejsce do importu pakietów wchodzących w skład standardowej biblioteki Pythona oraz ustawienie opcji wykorzystywanych pakietów"
   ]
  },
  {
   "cell_type": "markdown",
   "id": "b7e4c234-bed2-4f3e-bb99-1dca14598c03",
   "metadata": {
    "deletable": false,
    "editable": false,
    "nbgrader": {
     "cell_type": "markdown",
     "checksum": "e06ad9866f55cbddf29b2586ca6cbfdc",
     "grade": false,
     "grade_id": "cell-f0c53a7a02a0160c",
     "locked": true,
     "schema_version": 3,
     "solution": false,
     "task": false
    },
    "tags": []
   },
   "source": [
    "### Dane do zadań\n",
    "\n",
    "W celu wygenerowania danych wykonaj poniższą komórkę."
   ]
  },
  {
   "cell_type": "code",
   "execution_count": 3,
   "id": "7640ad8f-5750-45cd-a846-88e5f0b2b2e9",
   "metadata": {
    "deletable": false,
    "editable": false,
    "nbgrader": {
     "cell_type": "code",
     "checksum": "6452589b82abbb78f0a0298831f2c0cf",
     "grade": false,
     "grade_id": "cell-880538eb8c2d8aae",
     "locked": true,
     "schema_version": 3,
     "solution": false,
     "task": false
    },
    "tags": []
   },
   "outputs": [
    {
     "data": {
      "text/html": [
       "<div>\n",
       "<style scoped>\n",
       "    .dataframe tbody tr th:only-of-type {\n",
       "        vertical-align: middle;\n",
       "    }\n",
       "\n",
       "    .dataframe tbody tr th {\n",
       "        vertical-align: top;\n",
       "    }\n",
       "\n",
       "    .dataframe thead th {\n",
       "        text-align: right;\n",
       "    }\n",
       "</style>\n",
       "<table border=\"1\" class=\"dataframe\">\n",
       "  <thead>\n",
       "    <tr style=\"text-align: right;\">\n",
       "      <th></th>\n",
       "      <th>X</th>\n",
       "    </tr>\n",
       "  </thead>\n",
       "  <tbody>\n",
       "    <tr>\n",
       "      <th>0</th>\n",
       "      <td>4.338105</td>\n",
       "    </tr>\n",
       "    <tr>\n",
       "      <th>1</th>\n",
       "      <td>3.906813</td>\n",
       "    </tr>\n",
       "    <tr>\n",
       "      <th>2</th>\n",
       "      <td>4.006564</td>\n",
       "    </tr>\n",
       "    <tr>\n",
       "      <th>3</th>\n",
       "      <td>4.081503</td>\n",
       "    </tr>\n",
       "    <tr>\n",
       "      <th>4</th>\n",
       "      <td>3.842215</td>\n",
       "    </tr>\n",
       "  </tbody>\n",
       "</table>\n",
       "</div>"
      ],
      "text/plain": [
       "          X\n",
       "0  4.338105\n",
       "1  3.906813\n",
       "2  4.006564\n",
       "3  4.081503\n",
       "4  3.842215"
      ]
     },
     "execution_count": 3,
     "metadata": {},
     "output_type": "execute_result"
    }
   ],
   "source": [
    "# Dane do testów 1\n",
    "sample = pd.DataFrame(data=np.concatenate([sp.stats.norm.rvs(loc=4, scale=0.2, size=45, random_state=7), sp.stats.norm.rvs(loc=5.5, scale=0.4, size=85, random_state=2159)]), columns=[\"X\"])\n",
    "sample.head()"
   ]
  },
  {
   "cell_type": "markdown",
   "id": "b8e3cb44-b101-4407-91d0-00ff70386f85",
   "metadata": {
    "deletable": false,
    "editable": false,
    "nbgrader": {
     "cell_type": "markdown",
     "checksum": "826e9949291d7f1d1200a12e23918f04",
     "grade": false,
     "grade_id": "cell-0347a8a20455f100",
     "locked": true,
     "schema_version": 3,
     "solution": false,
     "task": false
    },
    "tags": []
   },
   "source": [
    "### Zadanie 1: Histogram [5 pkt]\n",
    "\n",
    "#### a) Przygotowanie wykresów\n",
    "\n",
    "Korzystając z funkcji `seaborn.histplot()`przygotuj histogramy częstości zestawu danych zawartego w zmiennej `sample`.\n",
    "\n",
    "Wykresy zestaw na pojedynczej figurze (2x3 pola na wykres). Przygotowując figurę kieruj się wytycznymi z początku notatnika. Podczas wykonywania kolejnych histogramów:\n",
    " - nie ustawiaj żadnych wartość określających podział na przedziały oraz granice przedziałów,\n",
    " - ustaw wyłącznie liczbę przedziałów na 20,\n",
    " - ustaw wyłącznie szerokość przedziałów na 0.3,\n",
    " - ustaw granice przedziałów od 2 do 8 z krokiem 0.05,\n",
    " - ustaw granice przedziałów od 2 do 8 z krokiem 0.15,\n",
    " - ustaw granice przedziałów od 2 do 8 z krokiem 0.4.\n",
    " \n",
    "Do każdego z wykresów dodaj wizualną reprezentację zestawu danych w postaci zbioru symboli (| lub +) zlokalizowanych poniżej histogramu. Ustaw identyczne zakresy osi dla wszystkich wykresów."
   ]
  },
  {
   "cell_type": "code",
   "execution_count": 4,
   "id": "1b8b7df2-b3c5-439c-a3b5-582e0f0d60e5",
   "metadata": {
    "deletable": false,
    "nbgrader": {
     "cell_type": "code",
     "checksum": "3843b3ad8c4678a55d0118885f61c6d7",
     "grade": true,
     "grade_id": "cell-2f04ca16d24e3369",
     "locked": false,
     "points": 5,
     "schema_version": 3,
     "solution": true,
     "task": false
    },
    "tags": []
   },
   "outputs": [
    {
     "data": {
      "image/png": "[encoded data removed]",
      "text/plain": [
       "<Figure size 1500x1000 with 6 Axes>"
      ]
     },
     "metadata": {},
     "output_type": "display_data"
    }
   ],
   "source": [
    "fig, axes = plt.subplots(2,3, figsize=(15, 10))\n",
    "fig.suptitle(\"Histogramy z różnymi parametrami\")\n",
    "plt.subplots_adjust(wspace=0.25,hspace=0.3)\n",
    "\n",
    "\n",
    "sns.histplot(x=\"X\",data=sample,ax=axes[0,0],legend=False)\n",
    "axes[0,0].set_title(\"Bez żadnych zmian\")\n",
    "\n",
    "sns.histplot(x=\"X\",data=sample,ax=axes[0,1],legend=False,bins=20)\n",
    "axes[0,1].set_title(\"20 przedziałów\")\n",
    "\n",
    "sns.histplot(x=\"X\",data=sample,ax=axes[0,2],legend=False,binwidth=0.3)\n",
    "axes[0,2].set_title(\"Szerokość przedziałów 0.3\")\n",
    "\n",
    "# print(np.arange(2,8.04,0.05))\n",
    "# print(np.linspace(2,8))\n",
    "\n",
    "sns.histplot(x=\"X\",data=sample,ax=axes[1,0],legend=False,bins=np.arange(2,8.04,0.05))\n",
    "axes[1,0].set_title(\"Granice przedziałów od 2 do 8 z krokiem 0.05\")\n",
    "\n",
    "sns.histplot(x=\"X\",data=sample,ax=axes[1,1],legend=False,bins=np.arange(2,8.04,0.15))\n",
    "axes[1,1].set_title(\"Granice przedziałów od 2 do 8 z krokiem 0.15\")\n",
    "\n",
    "sns.histplot(x=\"X\",data=sample,ax=axes[1,2],legend=False,bins=np.arange(2,8.04,0.4))\n",
    "axes[1,2].set_title(\"Granice przedziałów od 2 do 8 z krokiem 0.4\")\n",
    "\n",
    "# zamiast rugplot oficjalnie robilismy scatterplot x=X a y=const <0, by bylo pod wykresem\n",
    "# x lim, y lim ustawic na te same wartosci dla kazdego wykresu\n",
    "\n",
    "for i in axes:\n",
    "    for ax in i:\n",
    "        ax.set_xlabel(\"Value\")\n",
    "        ax.set_xlim(3,7)\n",
    "        ax.set_ylim(0,30)\n",
    "        sns.rugplot(x=\"X\",height=-.02,clip_on=False,color=\"red\",data=sample,ax=ax)\n",
    "\n",
    "\n",
    "plt.show()"
   ]
  },
  {
   "cell_type": "markdown",
   "id": "4c0d3e96-2206-4574-b03c-556b0c7a484b",
   "metadata": {
    "deletable": false,
    "editable": false,
    "nbgrader": {
     "cell_type": "markdown",
     "checksum": "b6ba8d4249a60f9cbfc7caa53b644ee0",
     "grade": false,
     "grade_id": "cell-40095947f4104aab",
     "locked": true,
     "schema_version": 3,
     "solution": false,
     "task": false
    },
    "tags": []
   },
   "source": [
    "### Zadanie 2: Estymacja funkcją jądrową [16 pkt]\n",
    "\n",
    "#### a) Estymacji funkcjami jądrowymi od podstaw\n",
    "\n",
    "Przygotuj funkcję `simple_kde_estimation()`, która będzie dokonywała estymacji nieparametrycznej metodą funkcji jądrowych z wykorzystaniem jądra w postaci rozkładu normalnego o odchyleniu normalnym $\\sigma$ zgodnie z informacjami zawartymi w docstring funkcji oraz schematem z załączonego do notatnika zestawu wzorów.\n",
    "\n",
    "Poza zwracaniem danych określonych w docstring funkcji powinna ona generować wykres zawierający wyestymowaną funkcję (wykres liniowy z wypełnionym polem pod krzywą) oraz dodaną wizualną reprezentacją zestawu danych w postaci zbioru symboli (| lub +) zlokalizowanych poniżej wykresu.\n",
    "\n",
    "Uwagi do wykonania zadania:\n",
    " - Punkty estymacji wygeneruj za pomocą funkcji `numpy.linspace()` lub `numpy.arange()`.\n",
    " - Wartości gęstości prawdopodobieństwa oblicz za pomocą odpowiedniej funkcji z modułu `scipy.stats.norm`.\n",
    " - Przygotowując figurę kieruj się wytycznymi z początku notatnika."
   ]
  },
  {
   "cell_type": "code",
   "execution_count": 29,
   "id": "f48be9e4-eb4f-458f-8cb9-ed9d8e39b8eb",
   "metadata": {
    "deletable": false,
    "nbgrader": {
     "cell_type": "code",
     "checksum": "c84513b5047d9bdcab2fb7a3c323f176",
     "grade": false,
     "grade_id": "cell-3c2b898a2d24e965",
     "locked": false,
     "schema_version": 3,
     "solution": true,
     "task": false
    },
    "tags": []
   },
   "outputs": [
    {
     "name": "stdout",
     "output_type": "stream",
     "text": [
      "50.31966809470363\n"
     ]
    }
   ],
   "source": [
    "def simple_kde_estimation(data, estimation_points, sigma):\n",
    "    \"\"\"\n",
    "    Parameters\n",
    "    -------\n",
    "    data: DataFrame\n",
    "        Tablica zawierająca domyślny indeks i pojedynczą kolumnę \"X\" z wartościami próby losowej.\n",
    "    estimation_points: int\n",
    "        Liczba punktów estymacji funkcji gęstości prawdopodobieństwa.\n",
    "    sigma: float\n",
    "        Odchylenie standardowe rozkładu normalnego wykorzystywanego jako jądro funkcji.\n",
    "    \n",
    "    Returns\n",
    "    -------\n",
    "    pdf: DataFrame\n",
    "        Tablica zawierająca następujące kolumny:\n",
    "        X - uszeregowane rosnąco punkty estymacji funkcji gęstości prawdopodobieństwa,\n",
    "        KDE - wyestymowane wartości funkcji gęstości prawdopodobieństwa.\n",
    "    \"\"\"\n",
    "    sample_min = np.min(data.values)\n",
    "    sample_max = np.max(data.values)\n",
    "\n",
    "    arguments = np.linspace(sample_min-3*sigma,sample_max+3*sigma,estimation_points)\n",
    "    values = np.zeros_like(arguments)\n",
    "\n",
    "    \n",
    "    for i in range(0,len(arguments)):\n",
    "        values[i] = sp.stats.norm.pdf(arguments[i],loc=data.values[i][0],scale=sigma)\n",
    "\n",
    "    values_sum = np.sum(values)\n",
    "\n",
    "    \n",
    "\n",
    "    # print(data.values[1][0])\n",
    "    # print(arguments)\n",
    "    # print(values)\n",
    "    print(values_sum)\n",
    "simple_kde_estimation(sample,100,0.2)"
   ]
  },
  {
   "cell_type": "code",
   "execution_count": null,
   "id": "422f75e9-0c57-4204-b458-67d65976dc4e",
   "metadata": {
    "deletable": false,
    "editable": false,
    "nbgrader": {
     "cell_type": "code",
     "checksum": "565cc1e82dca230bde7bc163c590c818",
     "grade": true,
     "grade_id": "cell-d27ea338caec7351",
     "locked": true,
     "points": 8,
     "schema_version": 3,
     "solution": false,
     "task": false
    },
    "tags": []
   },
   "outputs": [],
   "source": [
    "# Komórka testowa\n",
    "test_results_1 = simple_kde_estimation(sample, estimation_points=100, sigma=0.2)\n",
    "assert type(test_results_1) == pd.DataFrame\n",
    "assert test_results_1.shape == (100, 2)\n",
    "assert list(test_results_1.columns) == ['X', 'KDE']\n",
    "assert np.all(np.isclose(test_results_1.min().values, [2.94233698e+00, 3.32813073e-04]))\n",
    "assert np.all(np.isclose(test_results_1.max().values, [6.98176057, 0.54688772]))\n",
    "assert np.all(np.isclose(test_results_1.mean().values, [4.96204877, 0.24508447]))\n",
    "\n",
    "test_results_2 = simple_kde_estimation(sample, estimation_points=250, sigma=0.35)\n",
    "assert type(test_results_2) == pd.DataFrame\n",
    "assert test_results_2.shape == (250, 2)\n",
    "assert list(test_results_2.columns) == ['X', 'KDE']\n",
    "assert np.all(np.isclose(test_results_2.min().values, [2.49233698e+00, 2.69768435e-04]))\n",
    "assert np.all(np.isclose(test_results_2.max().values, [7.43176057, 0.47782523]))\n",
    "assert np.all(np.isclose(test_results_2.mean().values, [4.96204877, 0.20164296]))"
   ]
  },
  {
   "cell_type": "markdown",
   "id": "48cfeada-3e43-4919-802d-f7f4d616c3be",
   "metadata": {
    "deletable": false,
    "editable": false,
    "nbgrader": {
     "cell_type": "markdown",
     "checksum": "31b2f6b4c6390c0e99c383ba5be96104",
     "grade": false,
     "grade_id": "cell-4253b267e4432d77",
     "locked": true,
     "schema_version": 3,
     "solution": false,
     "task": false
    },
    "tags": []
   },
   "source": [
    "#### b) Dedykowane funkcje\n",
    "\n",
    "Korzystając z klasy `KernelDensity` wchodzącej w skład pakietu scikit-learn dokonaj estymymacji rozkładu zestawu danych zawartego w zmiennej `sample`.\n",
    "\n",
    "Wyniki estymacji przedstaw w postaci wykresów zawierających wyestymowaną funkcję (wykres liniowy z wypełnionym polem pod krzywą) oraz dodaną wizualną reprezentacją zestawu danych w postaci pionowych kresek zlokalizowanych poniżej wykresu.\n",
    "\n",
    "Wykresy zestaw na dwóch figurach (2x3 pola na wykres). Przygotowując figury kieruj się wytycznymi z początku notatnika. Podczas wykonywania wykresów:\n",
    " - Figura 1:\n",
    "     - na każdym z wykresów przedstaw wynik estymacji z wykorzystaniem innego jądra funkcji,\n",
    "     - ustaw wartość parametru odpowiadającego za szerokość jądra funkcji na 0.1,\n",
    "     - ustaw identyczne zakresy osi dla wszystkich wykresów.\n",
    " - Figura 2:\n",
    "     - na każdym z wykresów przedstaw wynik estymacji z wykorzystaniem innego jądra funkcji,\n",
    "     - ustaw wartość parametru odpowiadającego za szerokość jądra funkcji tak, aby wynik pracy funkcji dobrze oddawał charakter rozkładu populacji z której została pobrana próba losowa,\n",
    "     - ustaw identyczne zakresy osi dla wszystkich wykresów. "
   ]
  },
  {
   "cell_type": "code",
   "execution_count": null,
   "id": "0a4a563f-c785-4f4c-ba36-67658c9f1cd9",
   "metadata": {
    "deletable": false,
    "nbgrader": {
     "cell_type": "code",
     "checksum": "3fffd5e3bb8c3e299caa217081d222ae",
     "grade": true,
     "grade_id": "cell-59dc8614c1524baa",
     "locked": false,
     "points": 4,
     "schema_version": 3,
     "solution": true,
     "task": false
    },
    "tags": []
   },
   "outputs": [],
   "source": [
    "# Figura 1\n",
    "# YOUR CODE HERE\n",
    "raise NotImplementedError()"
   ]
  },
  {
   "cell_type": "code",
   "execution_count": null,
   "id": "b21f853e-9bc7-4d15-8294-849c03a88b9e",
   "metadata": {
    "deletable": false,
    "nbgrader": {
     "cell_type": "code",
     "checksum": "9c2bc981eee46997bf52051e9878341d",
     "grade": true,
     "grade_id": "cell-4d9f7f68c2f07250",
     "locked": false,
     "points": 4,
     "schema_version": 3,
     "solution": true,
     "task": false
    },
    "tags": []
   },
   "outputs": [],
   "source": [
    "# Figura 2\n",
    "# YOUR CODE HERE\n",
    "raise NotImplementedError()"
   ]
  },
  {
   "cell_type": "markdown",
   "id": "a9a63fd9-311d-4fb8-9bd1-c13ffe5203ed",
   "metadata": {
    "deletable": false,
    "editable": false,
    "nbgrader": {
     "cell_type": "markdown",
     "checksum": "16678e8a0b565fb006bd539b1acbf590",
     "grade": false,
     "grade_id": "cell-9a2e9e4f14ef778d",
     "locked": true,
     "schema_version": 3,
     "solution": false,
     "task": false
    },
    "tags": []
   },
   "source": [
    "### Zadanie 3: Dyskusja wyników [6 pkt]\n",
    "\n",
    "Przygotowane w poprzednich zadaniach wykresy są wizualną reprezentacją tego samego zestawu danych, dobór metody oraz jej parametrów sparawia jednak, że nie wyglądają one identycznie.\n",
    "\n",
    "Przedyskutuj plusy i minusy obu metod oraz odpowiedz na pytanie w jaki sposób dobór parametrów funkcji (liczba, szerokość i położenie granic przedziałów, wykorzystana wersja oraz szerokość jadra) wpływa na poprawność i czytelność wyniku."
   ]
  },
  {
   "cell_type": "markdown",
   "id": "d4f3a682-46df-4dd4-b5bd-cfe8899fbb74",
   "metadata": {
    "deletable": false,
    "nbgrader": {
     "cell_type": "markdown",
     "checksum": "926ecded285f21f9801eb0db5d4da6a5",
     "grade": true,
     "grade_id": "cell-76aef3e66c5566c5",
     "locked": false,
     "points": 6,
     "schema_version": 3,
     "solution": true,
     "task": false
    },
    "tags": []
   },
   "source": [
    "YOUR ANSWER HERE"
   ]
  },
  {
   "cell_type": "markdown",
   "id": "5d775d8f-43a3-48c1-ad71-98da3e8b9fa8",
   "metadata": {
    "deletable": false,
    "editable": false,
    "nbgrader": {
     "cell_type": "markdown",
     "checksum": "fc53d94ccbf018279ac2139858940555",
     "grade": false,
     "grade_id": "cell-f3fc2a00517d58c6",
     "locked": true,
     "schema_version": 3,
     "solution": false,
     "task": false
    },
    "tags": []
   },
   "source": [
    "### Zadanie 4: Estymacja na podstawie dystybuanty [8 pkt]\n",
    "\n",
    "Przygotuj funkcję `cdf_estimation()`, która będzie dokonywała estymacji dystrybuanty rozkładu w oparciu o dystrybuantę empiryczną oraz statystykę wyznaczaną z rozkładu Kołmogorowa-Smirnowa zgodnie z informacjami zawartymi w docstring funkcji oraz schematem z załączonego do notatnika zestawu wzorów.\n",
    "\n",
    "Poza zwracaniem danych określonych w docstring funkcji powinna ona generować wykres liniowy dystrybuanty empirycznej z zaznaczonym przedziałem ufności oraz tytułem figury `Przedział ufności dystrybuanty rozkładu na poziomie istotności 1-alpha=A`, gdzie wartość A jest uzupełnianie na podstawie wartości argumentu `alpha`.\n",
    "\n",
    "Uwagi do wykonania zadania:\n",
    " - Wartości statystyki testowej oblicz za pomocą odpowiedniej funkcji z modułu `scipy.stats.kstwo`."
   ]
  },
  {
   "cell_type": "code",
   "execution_count": null,
   "id": "e548bf01-ee1e-4280-9c3b-73e9c4dbbb87",
   "metadata": {
    "deletable": false,
    "nbgrader": {
     "cell_type": "code",
     "checksum": "4cb7d0fe00e3783529fa253c2f011437",
     "grade": false,
     "grade_id": "cell-7cd94acbb02d762d",
     "locked": false,
     "schema_version": 3,
     "solution": true,
     "task": false
    },
    "tags": []
   },
   "outputs": [],
   "source": [
    "def cdf_estimation(data, alpha):\n",
    "    \"\"\"\n",
    "    Parameters\n",
    "    -------\n",
    "    data: DataFrame\n",
    "        Tablica zawierająca domyślny indeks i pojedynczą kolumnę \"X\" z wartościami próby losowej.\n",
    "    alpha: float\n",
    "        Wartość określająca poziom istotności.\n",
    "    \n",
    "    Returns\n",
    "    -------\n",
    "    cdf: DataFrame\n",
    "        Tablica zawierająca następujące kolumny:\n",
    "        X - uszeregowane rosnąco wartości próby losowej,\n",
    "        F_d - wartości dystrybuanty empirycznej,\n",
    "        F_d_min - dolna granica przedziału ufności,\n",
    "        F_d_max - górna granica przedziału ufności.\n",
    "    \"\"\"\n",
    "    # YOUR CODE HERE\n",
    "    raise NotImplementedError()"
   ]
  },
  {
   "cell_type": "code",
   "execution_count": null,
   "id": "42fdced6-a895-4ac0-a333-1143670f4a2a",
   "metadata": {
    "deletable": false,
    "editable": false,
    "nbgrader": {
     "cell_type": "code",
     "checksum": "2ec99fbe6dfe3fa69a4c999300812362",
     "grade": true,
     "grade_id": "cell-859395deee53279c",
     "locked": true,
     "points": 8,
     "schema_version": 3,
     "solution": false,
     "task": false
    },
    "tags": []
   },
   "outputs": [],
   "source": [
    "# Komórka testowa\n",
    "test_results_3 = cdf_estimation(sample, 0.05)\n",
    "assert type(test_results_3) == pd.DataFrame\n",
    "assert test_results_3.shape == (130, 4)\n",
    "assert list(test_results_3.columns) == ['X', 'F_d', 'F_d_min', 'F_d_max']\n",
    "assert np.all(np.isclose(test_results_3.min().values, [3.54233698, 0.00769231, 0., 0.12544548]))\n",
    "assert np.all(np.isclose(test_results_3.max().values, [6.38176057, 1., 0.88224683, 1.]))\n",
    "assert np.all(np.isclose(test_results_3.mean().values, [4.9551826 , 0.50384615, 0.3925793 , 0.61420722]))\n",
    "\n",
    "test_results_4 = cdf_estimation(sample, 0.02)\n",
    "assert type(test_results_4) == pd.DataFrame\n",
    "assert test_results_4.shape == (130, 4)\n",
    "assert list(test_results_4.columns) == ['X', 'F_d', 'F_d_min', 'F_d_max']\n",
    "assert np.all(np.isclose(test_results_4.min().values, [3.54233698, 0.00769231, 0., 0.13935689]))\n",
    "assert np.all(np.isclose(test_results_4.max().values, [6.38176057, 1., 0.86833542, 1.]))\n",
    "assert np.all(np.isclose(test_results_4.mean().values, [4.9551826 , 0.50384615, 0.380346, 0.62633351]))"
   ]
  }
 ],
 "metadata": {
  "kernelspec": {
   "display_name": "Python 3 (ipykernel)",
   "language": "python",
   "name": "python3"
  },
  "language_info": {
   "codemirror_mode": {
    "name": "ipython",
    "version": 3
   },
   "file_extension": ".py",
   "mimetype": "text/x-python",
   "name": "python",
   "nbconvert_exporter": "python",
   "pygments_lexer": "ipython3",
   "version": "3.12.8"
  }
 },
 "nbformat": 4,
 "nbformat_minor": 5
}
