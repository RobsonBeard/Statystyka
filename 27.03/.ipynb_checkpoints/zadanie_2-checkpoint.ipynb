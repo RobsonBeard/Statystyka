{
 "cells": [
  {
   "cell_type": "code",
   "execution_count": 1,
   "id": "f2ae5ddb-0a51-43d1-83ed-646194336c81",
   "metadata": {},
   "outputs": [
    {
     "name": "stdout",
     "output_type": "stream",
     "text": [
      "0.7621834629729387\n"
     ]
    }
   ],
   "source": [
    "# 7. defekt zostanie znaleziony na więcej niż 250 metrze sprawdzanego kabla \n",
    "# Oczekiwana liczba defektów kabla wynosi 0.02 defektów na metr długości kabla\n",
    "# P(X>250), czyli 1 - F(X=250)\n",
    "import scipy as sp\n",
    "\n",
    "a=7\n",
    "beta = 0.02\n",
    "scale = 1/beta\n",
    "\n",
    "prob1 = 1-sp.stats.gamma.cdf(250,a=a,loc=0,scale=scale)\n",
    "print(prob1)"
   ]
  },
  {
   "cell_type": "code",
   "execution_count": 2,
   "id": "d8f757af-e444-4274-abb0-090ce5bbc04e",
   "metadata": {},
   "outputs": [
    {
     "name": "stdout",
     "output_type": "stream",
     "text": [
      "0.09121121972586788\n"
     ]
    }
   ],
   "source": [
    "# N(1,0.75)\n",
    "# błąd ma rozkład normalny i chcę wiedzieć kiedy przyjmuje wartość nie mniej niż 2\n",
    "# P(X>=2), czyli 1 - F(X=2)\n",
    "mi = 1\n",
    "sigma = 0.75\n",
    "\n",
    "prob2 = 1 - sp.stats.norm.cdf(2,loc=mi,scale=sigma)\n",
    "print(prob2)"
   ]
  },
  {
   "cell_type": "code",
   "execution_count": 3,
   "id": "4935fffa-31e6-46b8-9185-ffdb95123ec6",
   "metadata": {},
   "outputs": [
    {
     "name": "stdout",
     "output_type": "stream",
     "text": [
      "0.8042499999999965\n"
     ]
    }
   ],
   "source": [
    "# element będzie miał nie więcej niż 100.2 lub nie mniej niż 100.5 mm średnicy\n",
    "# P(X<=100.2 || X>= 100.5)\n",
    "# od d=99 do d=101, w reszcie funkcja=0, więc min dolna granica całkowania to 99, max gorna 101\n",
    "\n",
    "prob3 = sp.integrate.quad(lambda d: 0.75*(1-(d-100)**2), 99, 100.2)[0] + sp.integrate.quad(lambda d: 0.75*(1-(d-100)**2), 100.5, 101)[0] \n",
    "print(prob3)"
   ]
  },
  {
   "cell_type": "code",
   "execution_count": null,
   "id": "6d26b9f8-7fed-46e2-a519-f858aa301f2f",
   "metadata": {},
   "outputs": [],
   "source": []
  }
 ],
 "metadata": {
  "kernelspec": {
   "display_name": "Python 3 (ipykernel)",
   "language": "python",
   "name": "python3"
  },
  "language_info": {
   "codemirror_mode": {
    "name": "ipython",
    "version": 3
   },
   "file_extension": ".py",
   "mimetype": "text/x-python",
   "name": "python",
   "nbconvert_exporter": "python",
   "pygments_lexer": "ipython3",
   "version": "3.13.3"
  }
 },
 "nbformat": 4,
 "nbformat_minor": 5
}
