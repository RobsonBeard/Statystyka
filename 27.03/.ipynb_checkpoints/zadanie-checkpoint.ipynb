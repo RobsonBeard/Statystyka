{
 "cells": [
  {
   "cell_type": "code",
   "execution_count": 11,
   "id": "bd30e8d9-0197-4ea5-b384-489f0c21569a",
   "metadata": {},
   "outputs": [
    {
     "name": "stdout",
     "output_type": "stream",
     "text": [
      "0.8843094791589421\n",
      "0.2934297842921876\n",
      "0.9867639911172587\n"
     ]
    }
   ],
   "source": [
    "import numpy as np\n",
    "import pandas as pd\n",
    "import scipy as sp\n",
    "import matplotlib as mpl\n",
    "import matplotlib.pyplot as plt\n",
    "import seaborn as sns\n",
    "import math\n",
    "\n",
    "\n",
    "sum=0\n",
    "l=9\n",
    "for i in range(0,6):\n",
    "    sum+=sp.stats.poisson.pmf(k=i,mu=l)\n",
    "print(1-sum)\n",
    "\n",
    "p1=0.55 # wylosowana biala kula\n",
    "# q=1-p\n",
    "# # 0 1 2 7 8 9 10, czyli cdf(2) + 1 - cdf(6)\n",
    "sum2 = sp.stats.binom.cdf(2, 10, p=p1) + 1 - sp.stats.binom.cdf(6, 10, p=p1)\n",
    "print(sum2)\n",
    "\n",
    "#n>=17 - przynajmniej 17 sukcesow, k=3 - liczba porazek?\n",
    "p2 =0.95\n",
    "sum3=sp.stats.nbinom.cdf(k=3, n=16, p=p2, loc=0)\n",
    "print(sum3)\n",
    "\n",
    "#   1 2 3 4 5 6\n",
    "# --------------- \n",
    "# 1  | | |X|X| |\n",
    "# 2  | |X|X| | |\n",
    "# 3  |X|X | | | |\n",
    "# 4 X|X| | | | |\n",
    "# 5 X| | | | | |\n",
    "# 6 | | | | | |\n",
    "# no i wyszlo, ze 1/4, ale zle przeczytalem, bo suma miała być 5 lub 6 lub 7, a nie 5 lub 6"
   ]
  }
 ],
 "metadata": {
  "kernelspec": {
   "display_name": "Python 3 (ipykernel)",
   "language": "python",
   "name": "python3"
  },
  "language_info": {
   "codemirror_mode": {
    "name": "ipython",
    "version": 3
   },
   "file_extension": ".py",
   "mimetype": "text/x-python",
   "name": "python",
   "nbconvert_exporter": "python",
   "pygments_lexer": "ipython3",
   "version": "3.12.8"
  }
 },
 "nbformat": 4,
 "nbformat_minor": 5
}
