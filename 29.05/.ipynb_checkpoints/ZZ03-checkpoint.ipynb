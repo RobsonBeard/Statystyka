{
 "cells": [
  {
   "cell_type": "markdown",
   "id": "759624c5",
   "metadata": {
    "deletable": false,
    "editable": false,
    "nbgrader": {
     "cell_type": "markdown",
     "checksum": "f523dba23a51181899106d4f0b4a1d7b",
     "grade": false,
     "grade_id": "cell-fcd2666579131b77",
     "locked": true,
     "schema_version": 3,
     "solution": false,
     "task": false
    },
    "tags": []
   },
   "source": [
    "# Statystyka matematyczna - ćwiczenia laboratoryjne\n",
    "\n",
    "Ten notatnik zalicza się do grupy zestawów zadań, na podstawie których odbywa się zaliczenie ćwiczeń i podlega zwrotowi do oceny w ustalonym na zajęciach terminie.\n",
    "\n",
    "Uwagi i wytyczne ogólne dotyczące uzupełniania notatnika:\n",
    "- Podczas wykonywania zadań należy korzystać wyłącznie z pakietów zaimportowanych na początku notatnika oraz z pakietów wchodzących w skład standardowej biblioteki Pythona, które można zaimportować samodzielnie we wskazanej komórce notatnika.\n",
    "- Swoje rozwiązania należy wprowadzać wyłącznie w miejce następujących fragmentów kodu:<br/> `# YOUR CODE HERE`<br/> `raise NotImplementedError()`<br/> \n",
    "a odpowiedzi tekstowe w komórkach oznaczonych hasłem:<br/> \n",
    "`YOUR ANSWER HERE`<br/> \n",
    "Nie należy w żaden sposób modyfikować pozostałych fragmentów kodu oraz innych elementów notatnika, w szczególności dodawać lub usuwać komórek oraz zmieniać nazwy pliku.\n",
    "- Otrzymywane wyniki i odpowiedzi mają być rezultatem wykonania napisanego kodu.\n",
    "- Zadanie należy wykonać w taki sposób, aby podczas wykonywania kodu nie zostały wyświetlone żadne ostrzeżenia.\n",
    "- Zawarte w notatniku automatyczne testy mają charakter poglądowy. Dotyczą one wybranych aspektów zadań i mają za zadanie wyłapać podstawowe błędy. Przejście wszystkich testów nie oznacza, że zadanie jest wykonane w całości poprawnie.\n",
    "\n",
    "Uwagi i wytyczne ogólne dotyczące wizualizacji wyników:\n",
    "- Wszystkie wykresy powinny być wykonane w jednolitym, przejrzystym i czytelnym stylu, posiadać odpowiednio dobrane proporcje i zakresy wartości osi.\n",
    "- Wykresy oraz ich osie powinny mieć nadane tytuły. Jeżeli w obrębie figury znajduje się więcej niż jeden wykres to figura również powinna mieć nadany tytuł. \n",
    "- Figury powinny mieć ustawione białe tło, tak, aby niezależnie od ustawień notatnika wszystkie elementy wykresów były dobrze widoczne (domyślnie tło jest przeźroczyste co może powodować problemy w notatnikach z ustawionym ciemnym tłem).\n",
    "- Rozmiar poziomy figur nie powinien przekraczać 20 cali.\n",
    "\n",
    "Przed odesłaniem zestawu zadań do oceny proszę uzupełnić komórkę z danymi autorów rozwiązania (nazwa zespołu oraz imiona, nazwiska i numery indeksów członków zespołu) oraz upewnić się, że notatnik działa zgodnie z oczekiwaniami. W tym celu należy skorzystać z opcji **Restart Kernel and Run All Cells...** dostępnej na górnej belce notatnika pod symbolem $\\blacktriangleright\\blacktriangleright$."
   ]
  },
  {
   "cell_type": "markdown",
   "id": "c48d81de",
   "metadata": {},
   "source": [
    "Nazwa zespołu:\n",
    "Członkowie:"
   ]
  },
  {
   "cell_type": "markdown",
   "id": "d017f30d",
   "metadata": {
    "deletable": false,
    "editable": false,
    "nbgrader": {
     "cell_type": "markdown",
     "checksum": "eddc8826810e4a6f7bf68319da334bd9",
     "grade": false,
     "grade_id": "cell-109006d425e5cf83",
     "locked": true,
     "schema_version": 3,
     "solution": false,
     "task": false
    },
    "tags": []
   },
   "source": [
    "---"
   ]
  },
  {
   "cell_type": "markdown",
   "id": "c2a6b929-6bac-4568-af2d-a1feaf641e34",
   "metadata": {
    "deletable": false,
    "editable": false,
    "nbgrader": {
     "cell_type": "markdown",
     "checksum": "e0ac0843ae287698f6e4c932364dd775",
     "grade": false,
     "grade_id": "cell-af27114f3d05ff7b",
     "locked": true,
     "schema_version": 3,
     "solution": false,
     "task": false
    },
    "tags": []
   },
   "source": [
    "# Zestaw zadań 3: Rozkłady zmiennych losowych wielowymiarowych"
   ]
  },
  {
   "cell_type": "code",
   "execution_count": null,
   "id": "130bd135-5cce-4f5b-821c-42495c659c45",
   "metadata": {
    "deletable": false,
    "editable": false,
    "nbgrader": {
     "cell_type": "code",
     "checksum": "34dc2bf048ce781ca50b21693016d400",
     "grade": false,
     "grade_id": "cell-b65df0faa62fed77",
     "locked": true,
     "schema_version": 3,
     "solution": false,
     "task": false
    },
    "tags": []
   },
   "outputs": [],
   "source": [
    "import numpy as np\n",
    "import pandas as pd\n",
    "import scipy as sp\n",
    "import matplotlib as mpl\n",
    "import matplotlib.pyplot as plt\n",
    "import seaborn as sns"
   ]
  },
  {
   "cell_type": "code",
   "execution_count": null,
   "id": "80a97a79-7de5-44eb-9f3a-fac80ffebe6c",
   "metadata": {},
   "outputs": [],
   "source": [
    "# Miejsce do importu pakietów wchodzących w skład standardowej biblioteki Pythona oraz ustawienie opcji wykorzystywanych pakietów"
   ]
  },
  {
   "cell_type": "markdown",
   "id": "d562321c-8b59-4fad-bc67-4a0cd1c45215",
   "metadata": {
    "deletable": false,
    "editable": false,
    "nbgrader": {
     "cell_type": "markdown",
     "checksum": "4e1bf2907ae24601c8e7b4f56766105c",
     "grade": false,
     "grade_id": "cell-f152536a726f259b",
     "locked": true,
     "schema_version": 3,
     "solution": false,
     "task": false
    },
    "tags": []
   },
   "source": [
    "### Funkcje do wykorzystania"
   ]
  },
  {
   "cell_type": "code",
   "execution_count": null,
   "id": "2a657955-1ca5-4733-ab45-747f3bdc6c41",
   "metadata": {
    "deletable": false,
    "editable": false,
    "nbgrader": {
     "cell_type": "code",
     "checksum": "9d2ab83f3df0cb649c2726fc34c234b0",
     "grade": false,
     "grade_id": "cell-08ff805a2991952c",
     "locked": true,
     "schema_version": 3,
     "solution": false,
     "task": false
    },
    "tags": []
   },
   "outputs": [],
   "source": [
    "def vizualize_2d_discrete_distribution(pmf, cdf, mask=None):\n",
    "    \"\"\"\n",
    "    Parameters\n",
    "    -------\n",
    "    pmf: pandas.DataFrame\n",
    "        Tablica zawierająca nazwy kolumn z wariantami pierwszej zmiennej losowej i nadaną zbiorczą nazwą zmiennej (np. x),\n",
    "        indeks z wariantami drugiej zmiennej losowej i nadaną zbiorczą nazwą zmiennej (np. y),\n",
    "        a wartości w tablicy są prawdopodobieństwami poszczególnych wariantów zmiennej.\n",
    "    cdf: pandas.DataFrame\n",
    "        Tablica zawierająca nazwy kolumny w formacie pandas.IntervalIndex z przedziałami wartości pierwszej zmiennej losowej i nadaną zbiorczą nazwą zmiennej (np. x),\n",
    "        indeks w formacie pandas.IntervalIndex z przedziałami wartości drugiej zmiennej losowej i nadaną zbiorczą nazwą zmiennej (np. y),\n",
    "        a wartości w tablicy są wartościami dystrybuanty dla poszczególnych przedziałów.\n",
    "    mask: numpy.ndarray\n",
    "        Macierz logiczna 2D określająca, które z wariantów zmiennej losowej spełniają wizualizowaną nierówność, a które nie.\n",
    "    \"\"\"    \n",
    "    fig, axes = plt.subplots(1, 2, figsize=(14, 6), facecolor='white')\n",
    "\n",
    "    fig.suptitle(\"Rozkład prawdopodobieństwa i dystrybuanta dwuwymiarowej zmiennej losowej dyskretnej\")\n",
    "\n",
    "    if mask is None:\n",
    "        sns.heatmap(data=pmf, vmin=0, vmax=np.max(pmf.values), cmap=\"Blues\", annot=True, linewidths=2, linecolor='grey', ax=axes[0])\n",
    "    else:\n",
    "        sns.heatmap(data=pmf, vmin=0, vmax=np.max(pmf.values), cmap=\"Blues\", annot=True, annot_kws={'color':'darkgreen'}, linewidths=2, linecolor='grey', mask=~mask, ax=axes[0])\n",
    "        sns.heatmap(data=pmf, vmin=0, vmax=np.max(pmf.values), cmap=\"Blues\", annot=True, annot_kws={'color':'red'}, linewidths=2, linecolor='grey', mask=mask, cbar=False, ax=axes[0])\n",
    "    axes[0].set_title(\"Rozkład prawdopodobieństwa\")\n",
    "    axes[0].tick_params(labelrotation=0)\n",
    "\n",
    "    sns.heatmap(data=cdf, vmin=0, vmax=1, cmap=\"Blues\", annot=True, linewidths=2, linecolor='grey', ax=axes[1])\n",
    "    axes[1].set_title(\"Dystrybuanta\")\n",
    "    axes[1].tick_params(labelrotation=45)\n"
   ]
  },
  {
   "cell_type": "markdown",
   "id": "55023287-bf73-4218-9c0b-9acf830648e9",
   "metadata": {
    "deletable": false,
    "editable": false,
    "nbgrader": {
     "cell_type": "markdown",
     "checksum": "77d84136744a8a6f193b92653cf127b9",
     "grade": false,
     "grade_id": "cell-eddef877fb1b7b54",
     "locked": true,
     "schema_version": 3,
     "solution": false,
     "task": false
    },
    "tags": []
   },
   "source": [
    "### Dane do zadań\n",
    "\n",
    "Pliki r1p.pkl oraz r1f.pkl zawierają funkcję rozkładu prawdopodobieństwa oraz dystrybuantę przykładowej dwywymiarowej zmiennej losowej dyskretnej.\n",
    "\n",
    "W celu wczytania danych do notatnika umieść pliki w tym samym folderze, w którym znajduje się notatnik."
   ]
  },
  {
   "cell_type": "code",
   "execution_count": null,
   "id": "51246798-2882-48ba-9b28-4f516369a574",
   "metadata": {
    "deletable": false,
    "editable": false,
    "nbgrader": {
     "cell_type": "code",
     "checksum": "756f5fffe17bd8414cfbcd95e586c431",
     "grade": false,
     "grade_id": "cell-826c16f404253107",
     "locked": true,
     "schema_version": 3,
     "solution": false,
     "task": false
    },
    "tags": []
   },
   "outputs": [],
   "source": [
    "r1p = pd.read_pickle(\"r1p.pkl\")\n",
    "r1p"
   ]
  },
  {
   "cell_type": "code",
   "execution_count": null,
   "id": "c50f437a-f6cb-49d2-a791-10e1417ae18a",
   "metadata": {
    "deletable": false,
    "editable": false,
    "nbgrader": {
     "cell_type": "code",
     "checksum": "e65213b2deb235a047705336badae766",
     "grade": false,
     "grade_id": "cell-fc84be11d8bc3d70",
     "locked": true,
     "schema_version": 3,
     "solution": false,
     "task": false
    },
    "tags": []
   },
   "outputs": [],
   "source": [
    "r1f = pd.read_pickle(\"r1f.pkl\")\n",
    "r1f"
   ]
  },
  {
   "cell_type": "code",
   "execution_count": null,
   "id": "1230a84b-895c-4449-b6aa-465b8d8871ae",
   "metadata": {
    "deletable": false,
    "editable": false,
    "nbgrader": {
     "cell_type": "code",
     "checksum": "68d98c0060f365cbf7157b7166e5768c",
     "grade": false,
     "grade_id": "cell-d503a33116d447a2",
     "locked": true,
     "schema_version": 3,
     "solution": false,
     "task": false
    },
    "tags": []
   },
   "outputs": [],
   "source": [
    "vizualize_2d_discrete_distribution(r1p, r1f)"
   ]
  },
  {
   "cell_type": "markdown",
   "id": "c7aad9f1-4c04-4d92-bd95-d80d14205744",
   "metadata": {
    "deletable": false,
    "editable": false,
    "nbgrader": {
     "cell_type": "markdown",
     "checksum": "df791b27e23e995695d881fadef07987",
     "grade": false,
     "grade_id": "cell-343cbebb020b2edd",
     "locked": true,
     "schema_version": 3,
     "solution": false,
     "task": false
    },
    "tags": []
   },
   "source": [
    "### Zadanie 1: Przykładowy dwuwymiarowy dyskretny rozkład prawdopodobieństwa [17 pkt]\n",
    "\n",
    "Bazując na wczytanym do notatnika przykładowym dwuwymiarowym rozkładzie prawdopodobieństwa oblicz jego rozkłady brzegowe, wybrane rozkłady warunkowe oraz podstawowe parametry rozkładu.\n",
    "\n",
    "#### a) Rozkłady brzegowe\n",
    "\n",
    "Przedstaw funkcje brzegowych rozkładów prawdopodobieństwa zmiennej losowej dwuwymiarowej X, Y w formie tablic `r1bx`  i `r1by` o następującej strukturze:\n",
    "\n",
    "Tablica `r1bx`:\n",
    "> Indeks:</br>\n",
    "> x - warianty przyjmowane przez zmienną X.</br>\n",
    "\n",
    "> Kolumny: </br>\n",
    "> P(X=x) - prawdopodobieństwa rozkładu brzegowego zmiennej X.\n",
    "\n",
    "Tablica `r1by`:\n",
    "> Indeks:</br>\n",
    "> y - warianty przyjmowane przez zmienną Y.</br>\n",
    "\n",
    "> Kolumny: </br>\n",
    "> P(Y=y) - prawdopodobieństwa rozkładu brzegowego zmiennej Y."
   ]
  },
  {
   "cell_type": "code",
   "execution_count": null,
   "id": "c649fdfe-7b22-429e-bbf3-fb6fd6c7e352",
   "metadata": {
    "deletable": false,
    "nbgrader": {
     "cell_type": "code",
     "checksum": "e2b5b9c9ff21d37835c9686e43c268e5",
     "grade": false,
     "grade_id": "cell-9c3fcdd9befa96eb",
     "locked": false,
     "schema_version": 3,
     "solution": true,
     "task": false
    },
    "tags": []
   },
   "outputs": [],
   "source": [
    "# Rozkład brzegowy X\n",
    "# YOUR CODE HERE\n",
    "raise NotImplementedError()"
   ]
  },
  {
   "cell_type": "code",
   "execution_count": null,
   "id": "5211de9b-c28e-45a0-8c37-210ce7e739a5",
   "metadata": {
    "deletable": false,
    "editable": false,
    "nbgrader": {
     "cell_type": "code",
     "checksum": "56e8f5763446804546fbf1dda563e140",
     "grade": true,
     "grade_id": "cell-60e0b6c63085aa73",
     "locked": true,
     "points": 2,
     "schema_version": 3,
     "solution": false,
     "task": false
    },
    "tags": []
   },
   "outputs": [],
   "source": [
    "# Komórka testowa\n",
    "assert type(r1bx) == pd.DataFrame\n",
    "assert r1bx.shape == (4, 1)\n",
    "assert list(r1bx.columns) == [\"P(X=x)\"]\n",
    "assert r1bx.index.name == 'x'\n",
    "assert np.isclose(np.sum(r1bx.index.values), 10)\n",
    "assert np.isclose(np.sum(r1bx[\"P(X=x)\"]), 1)"
   ]
  },
  {
   "cell_type": "code",
   "execution_count": null,
   "id": "145235bf-e790-43d1-a55d-6c1e9fa4ee21",
   "metadata": {
    "deletable": false,
    "nbgrader": {
     "cell_type": "code",
     "checksum": "be732225a16cb67d9630b82e175a8ca6",
     "grade": false,
     "grade_id": "cell-47892605f8f5f38f",
     "locked": false,
     "schema_version": 3,
     "solution": true,
     "task": false
    },
    "tags": []
   },
   "outputs": [],
   "source": [
    "# Rozkład brzegowy Y\n",
    "# YOUR CODE HERE\n",
    "raise NotImplementedError()"
   ]
  },
  {
   "cell_type": "code",
   "execution_count": null,
   "id": "9778c2fe-9d82-4392-92f5-90b15ba8fff0",
   "metadata": {
    "deletable": false,
    "editable": false,
    "nbgrader": {
     "cell_type": "code",
     "checksum": "1d74808078357b91321a61e6677dab57",
     "grade": true,
     "grade_id": "cell-33fbf4e898073a05",
     "locked": true,
     "points": 2,
     "schema_version": 3,
     "solution": false,
     "task": false
    },
    "tags": []
   },
   "outputs": [],
   "source": [
    "# Komórka testowa\n",
    "assert type(r1by) == pd.DataFrame\n",
    "assert r1by.shape == (4, 1)\n",
    "assert list(r1by.columns) == [\"P(Y=y)\"]\n",
    "assert r1by.index.name == 'y'\n",
    "assert np.isclose(np.sum(r1by.index.values), 30)\n",
    "assert np.isclose(np.sum(r1by[\"P(Y=y)\"]), 1)"
   ]
  },
  {
   "cell_type": "markdown",
   "id": "d090966d-e238-4e53-9341-84704129be5b",
   "metadata": {
    "deletable": false,
    "editable": false,
    "nbgrader": {
     "cell_type": "markdown",
     "checksum": "d4e1c045af0bbdac74c4418b344e5c2d",
     "grade": false,
     "grade_id": "cell-7a111ce12bda6ffe",
     "locked": true,
     "schema_version": 3,
     "solution": false,
     "task": false
    },
    "tags": []
   },
   "source": [
    "#### b) Przykładowe rozkłady warunkowe\n",
    "\n",
    "Przedstaw funkcje przykładowych warunkowych rozkładów prawdopodobieństwa zmiennej losowej dwuwymiarowej X, Y w formie tablic `r1wx`  i `r1wy` o następującej strukturze:\n",
    "\n",
    "Tablica `r1wx`:\n",
    "> Indeks:</br>\n",
    "> x - warianty przyjmowane przez zmienną X.</br>\n",
    "\n",
    "> Kolumny: </br>\n",
    "> P(X=x|Y=5) - prawdopodobieństwa rozkładu warunkowego P(X=x|Y=5) zmiennej X.\n",
    "\n",
    "Tablica `r1wy`:\n",
    "> Indeks:</br>\n",
    "> y- warianty przyjmowane przez zmienną Y.</br>\n",
    "\n",
    "> Kolumny: </br>\n",
    "> P(Y=y|X=2) - prawdopodobieństwa rozkładu warunkowego P(Y=y|X=2) zmiennej Y."
   ]
  },
  {
   "cell_type": "code",
   "execution_count": null,
   "id": "5d07fc4b-9d14-4921-808e-529e629dab7c",
   "metadata": {
    "deletable": false,
    "nbgrader": {
     "cell_type": "code",
     "checksum": "f4154e3e1d02ee18933c02117a2010d9",
     "grade": false,
     "grade_id": "cell-4f06b6c68b551d3c",
     "locked": false,
     "schema_version": 3,
     "solution": true,
     "task": false
    },
    "tags": []
   },
   "outputs": [],
   "source": [
    "# Rozkład warunkowy X\n",
    "# YOUR CODE HERE\n",
    "raise NotImplementedError()"
   ]
  },
  {
   "cell_type": "code",
   "execution_count": null,
   "id": "3da6106f-87ec-4574-8abc-fcb76e7186dd",
   "metadata": {
    "deletable": false,
    "editable": false,
    "nbgrader": {
     "cell_type": "code",
     "checksum": "3fb4e11eb17edbeae80f3305a9210bcd",
     "grade": true,
     "grade_id": "cell-8555855320b32314",
     "locked": true,
     "points": 2,
     "schema_version": 3,
     "solution": false,
     "task": false
    },
    "tags": []
   },
   "outputs": [],
   "source": [
    "# Komórka testowa\n",
    "assert type(r1wx) == pd.DataFrame\n",
    "assert r1wx.shape == (4, 1)\n",
    "assert list(r1wx.columns) == [\"P(X=x|Y=5)\"]\n",
    "assert r1wx.index.name == 'x'\n",
    "assert np.isclose(np.sum(r1wx.index.values), 10)\n",
    "assert np.isclose(np.sum(r1wx[\"P(X=x|Y=5)\"]), 1)"
   ]
  },
  {
   "cell_type": "code",
   "execution_count": null,
   "id": "1bec3a3f-366d-49c1-8d92-b20b2d628283",
   "metadata": {
    "deletable": false,
    "nbgrader": {
     "cell_type": "code",
     "checksum": "15d3d423f27e454aed577cc59bd97906",
     "grade": false,
     "grade_id": "cell-659e50116160d158",
     "locked": false,
     "schema_version": 3,
     "solution": true,
     "task": false
    },
    "tags": []
   },
   "outputs": [],
   "source": [
    "# Rozkład warunkowy Y\n",
    "# YOUR CODE HERE\n",
    "raise NotImplementedError()"
   ]
  },
  {
   "cell_type": "code",
   "execution_count": null,
   "id": "e2c28c8d-f0ac-4b5d-aae8-bd5fb89e06d3",
   "metadata": {
    "deletable": false,
    "editable": false,
    "nbgrader": {
     "cell_type": "code",
     "checksum": "553346b85266c4d5a2d3411b87b75e22",
     "grade": true,
     "grade_id": "cell-c0434f21c515cbf3",
     "locked": true,
     "points": 2,
     "schema_version": 3,
     "solution": false,
     "task": false
    },
    "tags": []
   },
   "outputs": [],
   "source": [
    "# Komórka testowa\n",
    "assert type(r1wy) == pd.DataFrame\n",
    "assert r1wy.shape == (4, 1)\n",
    "assert list(r1wy.columns) == [\"P(Y=y|X=2)\"]\n",
    "assert r1wy.index.name == 'y'\n",
    "assert np.isclose(np.sum(r1wy.index.values), 30)\n",
    "assert np.isclose(np.sum(r1wy[\"P(Y=y|X=2)\"]), 1)"
   ]
  },
  {
   "cell_type": "markdown",
   "id": "7a995f6d-de4f-4e41-9af2-6a24ff229cd4",
   "metadata": {
    "deletable": false,
    "editable": false,
    "nbgrader": {
     "cell_type": "markdown",
     "checksum": "0b7d5a0f364f7aa5ab54882f92c95947",
     "grade": false,
     "grade_id": "cell-ebaac36868a8bdb8",
     "locked": true,
     "schema_version": 3,
     "solution": false,
     "task": false
    },
    "tags": []
   },
   "source": [
    "#### c) Podstawowe parametry rozkładu\n",
    "\n",
    "Oblicz i zapisz do zmiennych następujące parametry rozkładu zmiennej losowej dwuwymiarowej X, Y - wartość średnia (`r1_mean`), wariancja(`r1_var`), odchylenie standardowe (`r1_std`), kowariancję (`r1_cov`) oraz współczynnik korelacji (`r1_r`)."
   ]
  },
  {
   "cell_type": "code",
   "execution_count": null,
   "id": "af0f07e5-7b11-4640-bab5-72f86157a16e",
   "metadata": {
    "deletable": false,
    "nbgrader": {
     "cell_type": "code",
     "checksum": "aa3a4d39e649eb68753cf7243f221480",
     "grade": false,
     "grade_id": "cell-6549962e1f1f7081",
     "locked": false,
     "schema_version": 3,
     "solution": true,
     "task": false
    },
    "tags": []
   },
   "outputs": [],
   "source": [
    "# Wartość oczekiwana\n",
    "# YOUR CODE HERE\n",
    "raise NotImplementedError()"
   ]
  },
  {
   "cell_type": "code",
   "execution_count": null,
   "id": "567b2828-902a-46a0-aa67-e3f8d22ba542",
   "metadata": {
    "deletable": false,
    "nbgrader": {
     "cell_type": "code",
     "checksum": "490189d35c1b8060b93c8173bdb50aab",
     "grade": false,
     "grade_id": "cell-0edb5536805a6a81",
     "locked": false,
     "schema_version": 3,
     "solution": true,
     "task": false
    },
    "tags": []
   },
   "outputs": [],
   "source": [
    "# Wariancja\n",
    "# YOUR CODE HERE\n",
    "raise NotImplementedError()"
   ]
  },
  {
   "cell_type": "code",
   "execution_count": null,
   "id": "d18d30a3-8b53-4610-a00a-6920ad43f94a",
   "metadata": {
    "deletable": false,
    "nbgrader": {
     "cell_type": "code",
     "checksum": "a7835a0c55fe3ce45376d10b6f3f5915",
     "grade": false,
     "grade_id": "cell-5159094f21b704e7",
     "locked": false,
     "schema_version": 3,
     "solution": true,
     "task": false
    },
    "tags": []
   },
   "outputs": [],
   "source": [
    "# Odchylenie standardowe\n",
    "# YOUR CODE HERE\n",
    "raise NotImplementedError()"
   ]
  },
  {
   "cell_type": "code",
   "execution_count": null,
   "id": "1a446e11-6d33-4a07-b331-957650b2abb0",
   "metadata": {
    "deletable": false,
    "nbgrader": {
     "cell_type": "code",
     "checksum": "bb398464cb206ec22b210a37c5307c91",
     "grade": false,
     "grade_id": "cell-43093815f03a1550",
     "locked": false,
     "schema_version": 3,
     "solution": true,
     "task": false
    },
    "tags": []
   },
   "outputs": [],
   "source": [
    "# Kowariancja\n",
    "# YOUR CODE HERE\n",
    "raise NotImplementedError()"
   ]
  },
  {
   "cell_type": "code",
   "execution_count": null,
   "id": "ec53f277-8d93-428d-93df-c8b1a28fe2d6",
   "metadata": {
    "deletable": false,
    "nbgrader": {
     "cell_type": "code",
     "checksum": "c3cb54ee435175c84d1b9ff2e71737b6",
     "grade": false,
     "grade_id": "cell-b87e1ff371fb5862",
     "locked": false,
     "schema_version": 3,
     "solution": true,
     "task": false
    },
    "tags": []
   },
   "outputs": [],
   "source": [
    "# Współczynnik korelacji\n",
    "# YOUR CODE HERE\n",
    "raise NotImplementedError()"
   ]
  },
  {
   "cell_type": "code",
   "execution_count": null,
   "id": "78433b69-0fb8-4d37-84a2-712580008409",
   "metadata": {
    "deletable": false,
    "editable": false,
    "nbgrader": {
     "cell_type": "code",
     "checksum": "ea9f915d13eebab5d6c648744f8e3b00",
     "grade": true,
     "grade_id": "cell-bf0094e8618c1359",
     "locked": true,
     "points": 9,
     "schema_version": 3,
     "solution": false,
     "task": false
    },
    "tags": []
   },
   "outputs": [],
   "source": [
    "# Komórka testowa\n",
    "assert np.isclose(r1_mean, 18.505)\n",
    "assert np.isclose(r1_var, 38.96800412)\n",
    "assert np.isclose(r1_std, 6.242435752172384)\n",
    "assert np.isclose(r1_cov, 0.07360000000000022)\n",
    "assert np.isclose(r1_r, 0.011848900761810917)"
   ]
  },
  {
   "cell_type": "markdown",
   "id": "53fdbfef-06f4-4bb3-9c7f-41d9544a4a47",
   "metadata": {
    "deletable": false,
    "editable": false,
    "nbgrader": {
     "cell_type": "markdown",
     "checksum": "66945b9d6aa3167a21454a64bccce6e9",
     "grade": false,
     "grade_id": "cell-042bfd6df2bff75e",
     "locked": true,
     "schema_version": 3,
     "solution": false,
     "task": false
    },
    "tags": []
   },
   "source": [
    "### Zadanie 2: Obliczanie i wizualizacja prawdopodobieństw [6 pkt]\n",
    "\n",
    "Oblicz i przedstaw na wykresach następujące prawdopodobieństwa:\n",
    "- P(X>2, 0<Y<=10)\n",
    "- P(X<=2|X>3, Y>=5)\n",
    "\n",
    "Wyniki zapisz kolejno do zmiennych `p1` i `p2`oraz przedstaw na wykresach korzystając z funkcji `vizualize_2d_discrete_distribution()`.\n",
    "\n",
    "#### a) P(X>2, 0<Y<=10)"
   ]
  },
  {
   "cell_type": "code",
   "execution_count": null,
   "id": "82351907-aeb6-4a03-a31d-b9dfb8509d74",
   "metadata": {
    "deletable": false,
    "nbgrader": {
     "cell_type": "code",
     "checksum": "d8f4143814f3707061b89a2033d68d0c",
     "grade": false,
     "grade_id": "cell-902a8df721d4260e",
     "locked": false,
     "schema_version": 3,
     "solution": true,
     "task": false
    },
    "tags": []
   },
   "outputs": [],
   "source": [
    "# YOUR CODE HERE\n",
    "raise NotImplementedError()"
   ]
  },
  {
   "cell_type": "code",
   "execution_count": null,
   "id": "7015d9eb-04c9-49ef-92da-7def1986b220",
   "metadata": {
    "deletable": false,
    "editable": false,
    "nbgrader": {
     "cell_type": "code",
     "checksum": "4b5223f13ae0b6570189a9969340ef4f",
     "grade": true,
     "grade_id": "cell-be46ed7911a5be86",
     "locked": true,
     "points": 3,
     "schema_version": 3,
     "solution": false,
     "task": false
    },
    "tags": []
   },
   "outputs": [],
   "source": [
    "# Komórka testowa\n",
    "assert np.isclose(p1, 0.17)"
   ]
  },
  {
   "cell_type": "markdown",
   "id": "faf1d02c-6dca-4c73-b96d-c503d73b53f3",
   "metadata": {
    "deletable": false,
    "editable": false,
    "nbgrader": {
     "cell_type": "markdown",
     "checksum": "d53e388f5387aea44b830b02155a7e9a",
     "grade": false,
     "grade_id": "cell-59809c34fd65d682",
     "locked": true,
     "schema_version": 3,
     "solution": false,
     "task": false
    },
    "tags": []
   },
   "source": [
    "#### b) P(X<=2|X>3, Y>=5)"
   ]
  },
  {
   "cell_type": "code",
   "execution_count": null,
   "id": "816d4f36-9b5e-4757-b8c4-ad0c015eebe2",
   "metadata": {
    "deletable": false,
    "nbgrader": {
     "cell_type": "code",
     "checksum": "1e41a9fd74585b1215bb7cca4445bee9",
     "grade": false,
     "grade_id": "cell-1478dbd04b61d3fa",
     "locked": false,
     "schema_version": 3,
     "solution": true,
     "task": false
    },
    "tags": []
   },
   "outputs": [],
   "source": [
    "# YOUR CODE HERE\n",
    "raise NotImplementedError()"
   ]
  },
  {
   "cell_type": "code",
   "execution_count": null,
   "id": "ed08054d-9802-41ce-a72d-5017e45dcca6",
   "metadata": {
    "deletable": false,
    "editable": false,
    "nbgrader": {
     "cell_type": "code",
     "checksum": "5a3b08e064f029a12bc28bd1ca65e0b9",
     "grade": true,
     "grade_id": "cell-572d8bc3d9228e82",
     "locked": true,
     "points": 3,
     "schema_version": 3,
     "solution": false,
     "task": false
    },
    "tags": []
   },
   "outputs": [],
   "source": [
    "# Komórka testowa\n",
    "assert np.isclose(p2, 0.362)"
   ]
  },
  {
   "cell_type": "markdown",
   "id": "43923bd8-f632-499f-8240-dde338243ed9",
   "metadata": {
    "deletable": false,
    "editable": false,
    "nbgrader": {
     "cell_type": "markdown",
     "checksum": "1edf8986db7fc9207e91c1eab2041446",
     "grade": false,
     "grade_id": "cell-0b840da44b9afb0a",
     "locked": true,
     "schema_version": 3,
     "solution": false,
     "task": false
    },
    "tags": []
   },
   "source": [
    "### Zadanie 3: Niezależność zmiennych losowych [2 pkt]\n",
    "\n",
    "Sprawdź, czy zmienne losowe X i Y są zmiennymi niezależnymi i zapisz wynik testu (True/False) do zmiennej `test`."
   ]
  },
  {
   "cell_type": "code",
   "execution_count": null,
   "id": "84948407-f0d5-49e1-a210-5a59fdc3c0c3",
   "metadata": {
    "deletable": false,
    "nbgrader": {
     "cell_type": "code",
     "checksum": "2d067982d62cf690f9f9ec61c6d53ff0",
     "grade": false,
     "grade_id": "cell-bb7d573597e9f308",
     "locked": false,
     "schema_version": 3,
     "solution": true,
     "task": false
    },
    "tags": []
   },
   "outputs": [],
   "source": [
    "# YOUR CODE HERE\n",
    "raise NotImplementedError()"
   ]
  },
  {
   "cell_type": "code",
   "execution_count": null,
   "id": "54a8522b-5887-4c7d-b458-8bcaf257e9a3",
   "metadata": {
    "deletable": false,
    "editable": false,
    "nbgrader": {
     "cell_type": "code",
     "checksum": "9c58926c63fd020d33e01a9b03d037ba",
     "grade": true,
     "grade_id": "cell-0b3ec359911df3b8",
     "locked": true,
     "points": 2,
     "schema_version": 3,
     "solution": false,
     "task": false
    },
    "tags": []
   },
   "outputs": [],
   "source": [
    "# Komórka testowa\n",
    "assert test==False"
   ]
  }
 ],
 "metadata": {
  "kernelspec": {
   "display_name": "Python 3 (ipykernel)",
   "language": "python",
   "name": "python3"
  },
  "language_info": {
   "codemirror_mode": {
    "name": "ipython",
    "version": 3
   },
   "file_extension": ".py",
   "mimetype": "text/x-python",
   "name": "python",
   "nbconvert_exporter": "python",
   "pygments_lexer": "ipython3",
   "version": "3.12.8"
  }
 },
 "nbformat": 4,
 "nbformat_minor": 5
}
